{
 "cells": [
  {
   "cell_type": "code",
   "execution_count": 2,
   "id": "initial_id",
   "metadata": {},
   "outputs": [],
   "source": [
    "import pandas as pd\n",
    "import numpy as np\n",
    "import string\n",
    "import re\n",
    "\n",
    "import nltk\n",
    "from nltk.tokenize import word_tokenize\n",
    "\n",
    "import os\n",
    "from datetime import datetime\n",
    "import json\n",
    "\n",
    "\n",
    "# Ensure you have the necessary NLTK tokenizer models downloaded\n",
    "# nltk.download('punkt')"
   ]
  },
  {
   "cell_type": "code",
   "execution_count": 3,
   "id": "ed13b820-8efe-4d61-9571-71e9daccee26",
   "metadata": {
    "id": "dea05ca1-440d-4517-aca1-1e6c49660574"
   },
   "outputs": [],
   "source": [
    "pd.set_option('display.max_columns', None)"
   ]
  },
  {
   "cell_type": "code",
   "execution_count": 4,
   "id": "e09e923d-07ba-4a1e-952c-57c05d2244e4",
   "metadata": {
    "id": "5ef3cfbf-f761-48a8-81db-dbdd2688701d"
   },
   "outputs": [],
   "source": [
    "# Load an Excel file into a DataFrame\n",
    "df = pd.read_excel('LCReviewsIntegrated_1962-1994.xlsx', engine='openpyxl')"
   ]
  },
  {
   "cell_type": "code",
   "execution_count": null,
   "id": "1b9155f0-5c1b-4473-831c-6bb03f89cfc8",
   "metadata": {
    "id": "d4157b17-9ea9-47f7-a996-4b3574a5966e"
   },
   "outputs": [],
   "source": [
    "def remove_punctuation(input_string):\n",
    "    # Create a translation table that maps each punctuation character to None\n",
    "    translator = str.maketrans('', '', string.punctuation)\n",
    "    # Translate the input string using the translation table\n",
    "    return input_string.translate(translator)"
   ]
  },
  {
   "cell_type": "code",
   "execution_count": 18,
   "id": "7f19781a-7925-4f49-bf9c-ea864381fa2c",
   "metadata": {
    "id": "fb5aa31c-73ca-4e26-aab5-a3b7e144714c"
   },
   "outputs": [],
   "source": [
    "def remove_extra_spaces(text):\n",
    "    if not (type(text) == str):\n",
    "        return np.nan\n",
    "    # Replace multiple spaces with a single space\n",
    "    cleaned_text = re.sub(r'\\s+', ' ', text)\n",
    "    return cleaned_text.strip()"
   ]
  },
  {
   "cell_type": "code",
   "execution_count": 19,
   "id": "63810d40-ad48-41bc-9279-806a68140db6",
   "metadata": {
    "id": "6109b689-85d5-40d1-8ddd-2fb0c0311750"
   },
   "outputs": [],
   "source": [
    "df['content'] = df['content'].apply(remove_extra_spaces)\n",
    "df['title1'] = df['title1'].apply(remove_extra_spaces)\n",
    "df['title2'] = df['title2'].apply(remove_extra_spaces)"
   ]
  },
  {
   "cell_type": "code",
   "execution_count": 22,
   "id": "693d665b-fdbb-4cec-ba36-36d70477f95a",
   "metadata": {},
   "outputs": [],
   "source": [
    "title_in_content = []\n",
    "title3 = []\n",
    "for index, row in df.iterrows():\n",
    "    if (type(row['title2']) == str):\n",
    "        if row['title2'] in row['content']:\n",
    "            title_in_content.append(1)\n",
    "            title3.append(row['title2'])\n",
    "        else:\n",
    "            title_in_content.append(0)\n",
    "            title3.append(row['title1'])\n",
    "    else:\n",
    "        title_in_content.append(0)\n",
    "        title3.append(row['title1'])"
   ]
  },
  {
   "cell_type": "code",
   "execution_count": 23,
   "id": "4f239d52-de33-4c4d-9a76-b30f9ea6f918",
   "metadata": {},
   "outputs": [
    {
     "data": {
      "text/plain": [
       "0.34390902081727065"
      ]
     },
     "execution_count": 23,
     "metadata": {},
     "output_type": "execute_result"
    }
   ],
   "source": [
    "sum(title_in_content) / len(title_in_content)"
   ]
  },
  {
   "cell_type": "code",
   "execution_count": 24,
   "id": "dc69c18f-825d-4d5a-a48f-adf723066b34",
   "metadata": {},
   "outputs": [],
   "source": [
    "df['title3'] = title3\n",
    "df['title_in_content'] = title_in_content"
   ]
  },
  {
   "cell_type": "code",
   "execution_count": 25,
   "id": "fcb62292-99eb-4054-bfab-4e7ebd2ea40b",
   "metadata": {},
   "outputs": [],
   "source": [
    "df.to_excel('to_clean.xlsx', index=False, engine='openpyxl')"
   ]
  },
  {
   "cell_type": "code",
   "execution_count": null,
   "id": "43959895-44c1-4cd2-8d6a-74e4b9d4e353",
   "metadata": {},
   "outputs": [],
   "source": []
  },
  {
   "cell_type": "code",
   "execution_count": 26,
   "id": "15a37a5c-6143-4344-a4f5-b9c70b765f9b",
   "metadata": {},
   "outputs": [],
   "source": [
    "title_in_content2 = []\n",
    "title4 = []\n",
    "for index, row in df.iterrows():\n",
    "    if (type(row['title2']) == str):\n",
    "        if row['title2'] in row['content']:\n",
    "            title_in_content2.append(1)\n",
    "            title4.append(row['title2'])\n",
    "        elif row['title2'].split(\"/\")[0] in row['content']:\n",
    "            title_in_content2.append(1)\n",
    "            title4.append(row['title2'])\n",
    "        else:\n",
    "            title_in_content2.append(0)\n",
    "            title4.append(row['title1'])\n",
    "    else:\n",
    "        title_in_content2.append(0)\n",
    "        title4.append(row['title1'])"
   ]
  },
  {
   "cell_type": "code",
   "execution_count": 27,
   "id": "908a9f4b-6a4a-4850-aa4b-39738bbf8a23",
   "metadata": {},
   "outputs": [
    {
     "data": {
      "text/plain": [
       "0.3446414803392444"
      ]
     },
     "execution_count": 27,
     "metadata": {},
     "output_type": "execute_result"
    }
   ],
   "source": [
    "sum(title_in_content2) / len(title_in_content2)"
   ]
  },
  {
   "cell_type": "code",
   "execution_count": null,
   "id": "c1aee49e-4cee-4fb8-9a6f-08f086278516",
   "metadata": {},
   "outputs": [],
   "source": []
  },
  {
   "cell_type": "code",
   "execution_count": null,
   "id": "590c20e5-65dd-401d-aae9-d7782b26e80a",
   "metadata": {},
   "outputs": [],
   "source": []
  },
  {
   "cell_type": "code",
   "execution_count": 8,
   "id": "73d41886-45d2-466f-a7a2-c6366665cdf3",
   "metadata": {
    "id": "a7cb13c9-f6ec-4e44-8711-5799d5fe5054"
   },
   "outputs": [],
   "source": [
    "def extract_title(x):\n",
    "    if not (type(x.title1) == str):\n",
    "        return np.nan\n",
    "    if not (type(x.content) == str):\n",
    "        return np.nan\n",
    "    if x.title1.lower() in x.content.lower():\n",
    "        return x.title1\n",
    "\n",
    "    sentence_parts = re.split(r' / | : ', x.title1.lower())\n",
    "    sentence_parts = sorted(sentence_parts, key=len, reverse=True)\n",
    "    for part in sentence_parts:\n",
    "        if part in x.content.lower():\n",
    "            return part\n",
    "        elif remove_punctuation(part) in x.content.lower():\n",
    "            return remove_punctuation(part)\n",
    "\n",
    "    if remove_punctuation(x.title1).lower() in x.content.lower():\n",
    "        return remove_punctuation(x.title1)\n",
    "\n",
    "    return \"error\""
   ]
  },
  {
   "cell_type": "code",
   "execution_count": 9,
   "id": "1d8da833-8a25-4005-9f5a-66e565e90405",
   "metadata": {
    "id": "ecc828c7-ca29-4c6c-9b9e-393b6ad465dd"
   },
   "outputs": [],
   "source": [
    "def find_sentence_in_text(full_text, sentence):\n",
    "    start_index = full_text.find(sentence)\n",
    "    if start_index == -1:\n",
    "        print(\"EROR!!!\")\n",
    "        return False\n",
    "    end_index = start_index + len(sentence)\n",
    "    return start_index, end_index"
   ]
  },
  {
   "cell_type": "code",
   "execution_count": 10,
   "id": "157b49d3-1029-4bb6-9c01-1583329798b7",
   "metadata": {
    "id": "140311f3-6370-452b-a74c-37959ac1f14e"
   },
   "outputs": [],
   "source": [
    "result = []\n",
    "for index, row in df.iterrows():\n",
    "    result.append(extract_title(row))\n",
    "\n",
    "df['title3'] = result"
   ]
  },
  {
   "cell_type": "code",
   "execution_count": 11,
   "id": "3bbd342b-4044-409c-98cf-1fc04bccbb3f",
   "metadata": {
    "id": "9fb92165-3353-440b-8918-2bebd9dff278"
   },
   "outputs": [],
   "source": [
    "df_clean = df[df['title3'] != 'error']"
   ]
  }
 ],
 "metadata": {
  "kernelspec": {
   "display_name": "Python 3 (ipykernel)",
   "language": "python",
   "name": "python3"
  },
  "language_info": {
   "codemirror_mode": {
    "name": "ipython",
    "version": 3
   },
   "file_extension": ".py",
   "mimetype": "text/x-python",
   "name": "python",
   "nbconvert_exporter": "python",
   "pygments_lexer": "ipython3",
   "version": "3.11.5"
  }
 },
 "nbformat": 4,
 "nbformat_minor": 5
}
