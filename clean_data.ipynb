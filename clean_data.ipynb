{
 "cells": [
  {
   "cell_type": "code",
   "execution_count": 1,
   "id": "initial_id",
   "metadata": {},
   "outputs": [],
   "source": [
    "import pandas as pd\n",
    "import numpy as np\n",
    "import string\n",
    "import re\n",
    "\n",
    "import nltk\n",
    "from nltk.tokenize import word_tokenize\n",
    "\n",
    "import os\n",
    "from datetime import datetime\n",
    "import json\n",
    "import difflib\n",
    "\n",
    "\n",
    "# Ensure you have the necessary NLTK tokenizer models downloaded\n",
    "# nltk.download('punkt')"
   ]
  },
  {
   "cell_type": "code",
   "execution_count": 2,
   "id": "ed13b820-8efe-4d61-9571-71e9daccee26",
   "metadata": {
    "id": "dea05ca1-440d-4517-aca1-1e6c49660574"
   },
   "outputs": [],
   "source": [
    "pd.set_option('display.max_columns', None)"
   ]
  },
  {
   "cell_type": "code",
   "execution_count": 3,
   "id": "1b9155f0-5c1b-4473-831c-6bb03f89cfc8",
   "metadata": {
    "id": "d4157b17-9ea9-47f7-a996-4b3574a5966e"
   },
   "outputs": [],
   "source": [
    "def remove_punctuation(input_string):\n",
    "    # Create a translation table that maps each punctuation character to None\n",
    "    translator = str.maketrans('', '', string.punctuation)\n",
    "    # Translate the input string using the translation table\n",
    "    return input_string.translate(translator)"
   ]
  },
  {
   "cell_type": "code",
   "execution_count": 4,
   "id": "7f19781a-7925-4f49-bf9c-ea864381fa2c",
   "metadata": {
    "id": "fb5aa31c-73ca-4e26-aab5-a3b7e144714c"
   },
   "outputs": [],
   "source": [
    "def remove_extra_spaces(text):\n",
    "    if not (type(text) == str):\n",
    "        return np.nan\n",
    "    # Replace multiple spaces with a single space\n",
    "    cleaned_text = re.sub(r'\\s+', ' ', text)\n",
    "    return cleaned_text.strip()"
   ]
  },
  {
   "cell_type": "code",
   "execution_count": 5,
   "id": "4f374f0a-630c-46d5-b1b9-34844a5280f6",
   "metadata": {},
   "outputs": [],
   "source": [
    "df = pd.read_excel('to_clean2.xlsx', engine='openpyxl')"
   ]
  },
  {
   "cell_type": "code",
   "execution_count": 6,
   "id": "5f83ff93-a93d-4b3f-b8de-8644103686f8",
   "metadata": {},
   "outputs": [],
   "source": [
    "# Mannually labeled till 9549\n",
    "df.loc[9549 + 1:, 'title3'] = np.nan"
   ]
  },
  {
   "cell_type": "code",
   "execution_count": 7,
   "id": "63810d40-ad48-41bc-9279-806a68140db6",
   "metadata": {
    "id": "6109b689-85d5-40d1-8ddd-2fb0c0311750"
   },
   "outputs": [],
   "source": [
    "df['content'] = df['content'].apply(remove_extra_spaces)\n",
    "df['title1'] = df['title1'].apply(remove_extra_spaces)\n",
    "df['title2'] = df['title2'].apply(remove_extra_spaces)\n",
    "df['title3'] = df['title3'].apply(remove_extra_spaces)"
   ]
  },
  {
   "cell_type": "code",
   "execution_count": null,
   "id": "d888b081-8ee6-416e-98e4-a38e6ce69cf2",
   "metadata": {},
   "outputs": [],
   "source": []
  },
  {
   "cell_type": "code",
   "execution_count": null,
   "id": "c5c407de-571f-4ca3-b4ff-1e80ec3df543",
   "metadata": {},
   "outputs": [],
   "source": []
  },
  {
   "cell_type": "code",
   "execution_count": null,
   "id": "089d03f6-4ff8-43a3-99e4-386e6ac24826",
   "metadata": {},
   "outputs": [],
   "source": []
  },
  {
   "cell_type": "code",
   "execution_count": null,
   "id": "6f6866de-3404-4c98-97dc-907d98773506",
   "metadata": {},
   "outputs": [],
   "source": []
  },
  {
   "cell_type": "code",
   "execution_count": null,
   "id": "9af5044e-e20a-4641-aa51-554ea3247b55",
   "metadata": {},
   "outputs": [],
   "source": []
  },
  {
   "cell_type": "code",
   "execution_count": 8,
   "id": "2d62bddd-9440-476c-8f95-94ce4d9054d4",
   "metadata": {},
   "outputs": [],
   "source": [
    "def find_best_match(large_text, query_sentence):\n",
    "    # Initialize the SequenceMatcher\n",
    "    s = difflib.SequenceMatcher(None, large_text, query_sentence)\n",
    "    \n",
    "    # Find the best match in the large text\n",
    "    match = s.find_longest_match(0, len(large_text), 0, len(query_sentence))\n",
    "    \n",
    "    # Calculate similarity ratio\n",
    "    match_similarity = s.ratio()  # This considers the overall similarity, not just the best match\n",
    "    \n",
    "    # Adjust the start position to the beginning of a word\n",
    "    start = match.a\n",
    "    while start > 0 and large_text[start - 1] != ' ':\n",
    "        start -= 1\n",
    "\n",
    "    # Re-calculate the end position based on the new start position\n",
    "    end = start + len(query_sentence)\n",
    "\n",
    "    # Extract the best matching text from the new start to the original match length\n",
    "    best_match_text = large_text[start:end]\n",
    "\n",
    "    return start, end, best_match_text, match_similarity"
   ]
  },
  {
   "cell_type": "code",
   "execution_count": 65,
   "id": "c688b7be-be83-4669-aee2-49e128bd2c52",
   "metadata": {},
   "outputs": [],
   "source": [
    "yes = 0\n",
    "almost_match = 0\n",
    "\n",
    "titles = []\n",
    "\n",
    "for index, row in df.iterrows():\n",
    "    if (type(row['title3']) == str): # if not nan\n",
    "        title = row['title3'].lower()\n",
    "        if title in row['content'].lower():\n",
    "            yes += 1\n",
    "            titles.append(title)\n",
    "            continue\n",
    "\n",
    "    title = row.title1.split(\"/\")[0]\n",
    "    if title.lower() in row.content.lower():\n",
    "        yes += 1\n",
    "        titles.append(title)\n",
    "    elif title.split(\":\")[0].lower() in row.content.lower():\n",
    "        yes += 1\n",
    "        titles.append(title)\n",
    "    elif title.split(\":\")[0].split(';')[0].lower() in row.content.lower():\n",
    "        yes += 1\n",
    "        titles.append(title)\n",
    "    elif title.split(\":\")[0].split(';')[0].split(',')[0].lower() in row.content.lower():\n",
    "        yes += 1\n",
    "        titles.append(title)\n",
    "    else:\n",
    "        start, end, best_match_text, match_similarity = find_best_match(large_text=row.content.lower(), query_sentence=row.title1.split(\"/\")[0].split(\":\")[0].split(';')[0].lower())\n",
    "        if match_similarity > 0.1:\n",
    "            yes += 1\n",
    "            almost_match += 1\n",
    "            titles.append(best_match_text)\n",
    "        else:\n",
    "            titles.append(np.nan)"
   ]
  },
  {
   "cell_type": "code",
   "execution_count": 66,
   "id": "34a57257-7832-4071-b368-dcb74d22110b",
   "metadata": {},
   "outputs": [
    {
     "data": {
      "text/plain": [
       "0.43500385505011563"
      ]
     },
     "execution_count": 66,
     "metadata": {},
     "output_type": "execute_result"
    }
   ],
   "source": [
    "yes / len(df)"
   ]
  },
  {
   "cell_type": "code",
   "execution_count": 67,
   "id": "9908b0e1-39ec-49ec-9a20-0e1dae5956e8",
   "metadata": {},
   "outputs": [
    {
     "data": {
      "text/plain": [
       "192"
      ]
     },
     "execution_count": 67,
     "metadata": {},
     "output_type": "execute_result"
    }
   ],
   "source": [
    "almost_match"
   ]
  },
  {
   "cell_type": "code",
   "execution_count": 68,
   "id": "c245e38f-f255-4af1-9b85-00c931be90ae",
   "metadata": {},
   "outputs": [],
   "source": [
    "df['title4'] = titles"
   ]
  },
  {
   "cell_type": "code",
   "execution_count": 69,
   "id": "0c6052be-dbdd-4ace-b89a-6c074673dbda",
   "metadata": {},
   "outputs": [
    {
     "data": {
      "text/plain": [
       "11284"
      ]
     },
     "execution_count": 69,
     "metadata": {},
     "output_type": "execute_result"
    }
   ],
   "source": [
    "len(df['title4']) - df['title4'].isnull().sum()"
   ]
  },
  {
   "cell_type": "code",
   "execution_count": 70,
   "id": "ac758e96-47a9-4f98-905c-178a525b02b6",
   "metadata": {},
   "outputs": [
    {
     "data": {
      "text/plain": [
       "7411"
      ]
     },
     "execution_count": 70,
     "metadata": {},
     "output_type": "execute_result"
    }
   ],
   "source": [
    "len(df[df['title4'].notnull()].content.unique())"
   ]
  },
  {
   "cell_type": "code",
   "execution_count": null,
   "id": "1a1d146b-6f17-4ec3-b85d-7c1396a62831",
   "metadata": {},
   "outputs": [],
   "source": []
  },
  {
   "cell_type": "code",
   "execution_count": null,
   "id": "03eb6ac3-d549-45c4-b2bb-f35881f04d38",
   "metadata": {},
   "outputs": [],
   "source": []
  },
  {
   "cell_type": "code",
   "execution_count": null,
   "id": "fd3dfd26-c1e1-4726-a0c0-f1c8102ed9c7",
   "metadata": {},
   "outputs": [],
   "source": []
  },
  {
   "cell_type": "code",
   "execution_count": 62,
   "id": "32ce4871-92c6-4745-b386-ffe65fce229c",
   "metadata": {
    "scrolled": true
   },
   "outputs": [],
   "source": [
    "# Print some examples\n",
    "for index, row in df[df['title4'].isnull()].iterrows():\n",
    "    res = find_best_match(large_text=row.content.lower(), query_sentence=row.title1.split(\"/\")[0].split(\":\")[0].split(';')[0].lower())\n",
    "    if res[3] > 0.1:\n",
    "        print(res)\n",
    "        print(row.content[res[0]-10:res[1]+10])\n",
    "        print(row.title1.split(\"/\")[0].split(\":\")[0])\n",
    "        print(\"\\n\\n\")\n",
    "    "
   ]
  },
  {
   "cell_type": "code",
   "execution_count": null,
   "id": "13dc0804-e133-4a22-b761-547965981bae",
   "metadata": {},
   "outputs": [],
   "source": []
  },
  {
   "cell_type": "code",
   "execution_count": 71,
   "id": "334a19ea-fe8e-41ac-8b84-e94a7944b35f",
   "metadata": {},
   "outputs": [],
   "source": [
    "df[df['title4'].notnull()].to_excel('cleaned.xlsx', index=False, engine='openpyxl')"
   ]
  },
  {
   "cell_type": "code",
   "execution_count": null,
   "id": "6563ce5a-52e2-407d-a921-ad331e8c75ec",
   "metadata": {},
   "outputs": [],
   "source": []
  },
  {
   "cell_type": "code",
   "execution_count": null,
   "id": "b3787c1a-e577-4cfe-8245-41e383a90223",
   "metadata": {},
   "outputs": [],
   "source": []
  },
  {
   "cell_type": "code",
   "execution_count": null,
   "id": "7be16a47-5516-4a30-ad2a-31eb285a7624",
   "metadata": {},
   "outputs": [],
   "source": []
  }
 ],
 "metadata": {
  "kernelspec": {
   "display_name": "Python 3 (ipykernel)",
   "language": "python",
   "name": "python3"
  },
  "language_info": {
   "codemirror_mode": {
    "name": "ipython",
    "version": 3
   },
   "file_extension": ".py",
   "mimetype": "text/x-python",
   "name": "python",
   "nbconvert_exporter": "python",
   "pygments_lexer": "ipython3",
   "version": "3.11.5"
  }
 },
 "nbformat": 4,
 "nbformat_minor": 5
}
