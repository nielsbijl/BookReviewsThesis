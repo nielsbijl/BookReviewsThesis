{
 "cells": [
  {
   "cell_type": "markdown",
   "id": "5e5940b1-b9e9-4b13-bff1-4dc56a0749aa",
   "metadata": {},
   "source": [
    "# Transformer-based Named Entity Recognition for Book Titles in Newspaper Archives\n",
    "\n",
    "This notebook demonstrates the process of creating and training a Named Entity Recognition (NER) model to identify book titles in newspaper archives. The dataset includes articles from \"Leeuwarde Courant\" (often referred to as \"LC\"), \"Parool\", and \"Trouw\" newspapers.\n",
    "\n",
    "The notebook covers the following steps:\n",
    "1. **Data Preparation**: Loading and cleaning data from different sources, and preparing it for NER model training.\n",
    "2. **Dataset Creation**: Creating datasets for training, validation, and testing, and saving them to disk.\n",
    "3. **Model Training**: Setting up and training a transformer-based model for NER.\n",
    "4. **Evaluation**: Evaluating the model's performance on test datasets.\n",
    "5. **Visualization**: Visualizing the model's predictions on sample texts.\n",
    "\n",
    "The goal is to develop a robust NER model that can accurately identify book titles in historical newspaper texts, facilitating further analysis and research on literary references in news archives.\n",
    "\n",
    "Let's get started!"
   ]
  },
  {
   "cell_type": "markdown",
   "id": "8d53d293-55e4-4e11-8dab-2b10c77c30a6",
   "metadata": {},
   "source": [
    "## Import necessary libraries"
   ]
  },
  {
   "cell_type": "code",
   "execution_count": 1,
   "id": "b7974230-679f-4cd7-9550-f1b11b355ff9",
   "metadata": {
    "scrolled": true
   },
   "outputs": [],
   "source": [
    "# !python -m spacy download nl_core_news_sm"
   ]
  },
  {
   "cell_type": "code",
   "execution_count": 2,
   "id": "4975e59e-2fc5-4452-8dd9-00c729c0b8fc",
   "metadata": {
    "colab": {
     "base_uri": "https://localhost:8080/",
     "height": 0
    },
    "id": "4975e59e-2fc5-4452-8dd9-00c729c0b8fc",
    "outputId": "3390b10b-e6f8-45f6-a190-54d03b5b4cd5"
   },
   "outputs": [
    {
     "name": "stderr",
     "output_type": "stream",
     "text": [
      "C:\\Users\\niels\\miniconda3\\envs\\BookReviewsThesis\\lib\\site-packages\\tqdm\\auto.py:21: TqdmWarning: IProgress not found. Please update jupyter and ipywidgets. See https://ipywidgets.readthedocs.io/en/stable/user_install.html\n",
      "  from .autonotebook import tqdm as notebook_tqdm\n"
     ]
    }
   ],
   "source": [
    "# Import necessary libraries\n",
    "import pandas as pd\n",
    "import numpy as np\n",
    "import string\n",
    "import re\n",
    "\n",
    "from datasets import Dataset, load_metric\n",
    "from transformers import DataCollatorForTokenClassification, pipeline, AutoTokenizer, AutoModelForTokenClassification, Trainer, TrainingArguments, TrainerCallback\n",
    "\n",
    "import torch\n",
    "\n",
    "import spacy\n",
    "from spacy import displacy\n",
    "\n",
    "import os\n",
    "from datetime import datetime\n",
    "import json\n",
    "\n",
    "from tqdm import tqdm\n",
    "import matplotlib.pyplot as plt\n",
    "from sklearn.metrics import f1_score, recall_score, precision_score, accuracy_score\n",
    "import pickle\n",
    "import math"
   ]
  },
  {
   "cell_type": "code",
   "execution_count": 3,
   "id": "79dc2349-48f5-4683-946e-6ce1fc33dc6b",
   "metadata": {},
   "outputs": [
    {
     "name": "stdout",
     "output_type": "stream",
     "text": [
      "Current working directory: C:\\Users\\niels\\PycharmProjects\\BookReviewsThesis\n"
     ]
    }
   ],
   "source": [
    "# Get the current notebook directory\n",
    "current_dir = os.path.abspath('')\n",
    "\n",
    "# Set the main directory (modify as needed to point to your main project directory)\n",
    "main_dir = os.path.abspath(os.path.join(current_dir, '../'))\n",
    "\n",
    "# Change the working directory to the main directory\n",
    "os.chdir(main_dir)\n",
    "\n",
    "# Verify that the working directory has been set correctly\n",
    "print(f\"Current working directory: {os.getcwd()}\")"
   ]
  },
  {
   "cell_type": "code",
   "execution_count": 4,
   "id": "dd69c50a-3625-480e-8fdc-2afccc1be886",
   "metadata": {},
   "outputs": [],
   "source": [
    "# Import custom functions from the dataset preparation module\n",
    "from scripts.loss_functions import DiceLoss, MoMLoss\n",
    "from scripts.dataset_preparation import remove_punctuation, find_sentence_in_text, create_mask_for_sentence, process_text, \\\n",
    "                                        create_data_set, trouw_parool_create_dataset, save_dataset, load_dataset, split_samples"
   ]
  },
  {
   "cell_type": "markdown",
   "id": "7f6bfa8e-a27d-45ff-ac25-ee576cda3170",
   "metadata": {},
   "source": [
    "## Data Preparation"
   ]
  },
  {
   "cell_type": "code",
   "execution_count": 5,
   "id": "dea05ca1-440d-4517-aca1-1e6c49660574",
   "metadata": {
    "id": "dea05ca1-440d-4517-aca1-1e6c49660574"
   },
   "outputs": [],
   "source": [
    "# Set pandas display option to show all columns\n",
    "pd.set_option('display.max_columns', None)"
   ]
  },
  {
   "cell_type": "code",
   "execution_count": 6,
   "id": "5ef3cfbf-f761-48a8-81db-dbdd2688701d",
   "metadata": {
    "id": "5ef3cfbf-f761-48a8-81db-dbdd2688701d"
   },
   "outputs": [],
   "source": [
    "# Load data from Excel and CSV files into DataFrames\n",
    "\n",
    "# Load leeuwarde courant Excel file into a DataFrame\n",
    "df_lc = pd.read_excel('data/raw/manullay_check_partially_matched_titles.xlsx', engine='openpyxl')\n",
    "\n",
    "# Load Trouw and Het Parool annotated book review file into a DataFrame\n",
    "df_trouw_parool = pd.read_csv('data/raw/trouw_and_parool_annotated_book_titles.csv')"
   ]
  },
  {
   "cell_type": "code",
   "execution_count": 7,
   "id": "fb5aa31c-73ca-4e26-aab5-a3b7e144714c",
   "metadata": {
    "id": "fb5aa31c-73ca-4e26-aab5-a3b7e144714c"
   },
   "outputs": [],
   "source": [
    "# Define function to remove extra spaces from text\n",
    "def remove_extra_spaces(text):\n",
    "    \"\"\"\n",
    "    Remove extra spaces from a string by replacing multiple spaces with a single space.\n",
    "\n",
    "    Args:\n",
    "        text (str): The input text with potential extra spaces.\n",
    "\n",
    "    Returns:\n",
    "        str: The cleaned text with single spaces between words.\n",
    "    \"\"\"\n",
    "    cleaned_text = re.sub(r'\\s+', ' ', text)\n",
    "    return cleaned_text.strip()"
   ]
  },
  {
   "cell_type": "code",
   "execution_count": 8,
   "id": "6109b689-85d5-40d1-8ddd-2fb0c0311750",
   "metadata": {
    "id": "6109b689-85d5-40d1-8ddd-2fb0c0311750"
   },
   "outputs": [],
   "source": [
    "# Apply the remove_extra_spaces function to relevant columns in df_lc\n",
    "df_lc['content'] = df_lc['content'].apply(remove_extra_spaces)\n",
    "df_lc['title1'] = df_lc['title1'].apply(remove_extra_spaces)\n",
    "df_lc['title4'] = df_lc['title4'].apply(remove_extra_spaces)"
   ]
  },
  {
   "cell_type": "code",
   "execution_count": 9,
   "id": "4c5cdb30-13d5-4fc8-81dd-8e17745a44a6",
   "metadata": {},
   "outputs": [],
   "source": [
    "# Filter out rows with 'manually_removed' set to 1 and get unique 'content' values\n",
    "content_removed = df_lc[df_lc['manually_removed'] == 1]['content'].unique()\n",
    "\n",
    "# Filter out the removed 'content' values from the main DataFrame\n",
    "df_lc_clean = df_lc[~df_lc['content'].isin(content_removed)]"
   ]
  },
  {
   "cell_type": "markdown",
   "id": "c35afb79-0f32-42ba-933a-ed3cfb872484",
   "metadata": {
    "id": "c35afb79-0f32-42ba-933a-ed3cfb872484"
   },
   "source": [
    "## Preprare for training"
   ]
  },
  {
   "cell_type": "code",
   "execution_count": 10,
   "id": "fec478bd-e1c4-45cb-afdb-2af96f4f3afa",
   "metadata": {
    "id": "fec478bd-e1c4-45cb-afdb-2af96f4f3afa"
   },
   "outputs": [],
   "source": [
    "# Set the model checkpoint to be used for token classification\n",
    "\n",
    "model_checkpoint = \"Babelscape/wikineural-multilingual-ner\"\n",
    "\n",
    "# Alternative model checkpoints (commented out):\n",
    "# model_checkpoint = \"FacebookAI/xlm-roberta-large-finetuned-conll03-english\"\n",
    "# model_checkpoint = \"pdelobelle/robbert-v2-dutch-ner\"\n",
    "# model_checkpoint = \"GroNLP/bert-base-dutch-cased\"\n",
    "# model_checkpoint = \"pdelobelle/robbert-v2-dutch-base\""
   ]
  },
  {
   "cell_type": "code",
   "execution_count": 11,
   "id": "c3e2a3b9-ce8f-4faf-9baa-24c067f38adf",
   "metadata": {
    "id": "c3e2a3b9-ce8f-4faf-9baa-24c067f38adf"
   },
   "outputs": [],
   "source": [
    "# Define the list of labels for NER tagging\n",
    "label_list = ['O', 'I']"
   ]
  },
  {
   "cell_type": "code",
   "execution_count": 12,
   "id": "ab80000d-8e35-4e8c-be9e-f2fa43812aef",
   "metadata": {},
   "outputs": [],
   "source": [
    "# Load the spaCy model for Dutch language processing\n",
    "nlp = spacy.load(\"nl_core_news_sm\")"
   ]
  },
  {
   "cell_type": "code",
   "execution_count": 13,
   "id": "e96cd0ad-34ca-4627-8986-7f434c5a8c41",
   "metadata": {},
   "outputs": [],
   "source": [
    "# Set flags for punctuation removal and case conversion\n",
    "remove_punc = False\n",
    "force_lower_case = False"
   ]
  },
  {
   "cell_type": "code",
   "execution_count": 14,
   "id": "eced85be-8b8f-4a96-ad2b-c37b35ddd710",
   "metadata": {},
   "outputs": [],
   "source": [
    "# Define file paths for saving/loading datasets\n",
    "lc_train_filename = 'C:/Users/niels/PycharmProjects/BookReviewsThesis/data/processed/lc_train_dataset.pkl'\n",
    "lc_val_filename = 'C:/Users/niels/PycharmProjects/BookReviewsThesis/data/processed/lc_val_dataset.pkl'\n",
    "lc_test_filename = 'C:/Users/niels/PycharmProjects/BookReviewsThesis/data/processed/lc_test_dataset.pkl'\n",
    "\n",
    "trouw_parool_test_filename = 'C:/Users/niels/PycharmProjects/BookReviewsThesis/data/processed/trouw_parool_test_dataset.pkl'"
   ]
  },
  {
   "cell_type": "code",
   "execution_count": 15,
   "id": "2604a552-9858-45a1-8cc0-554ff89d0860",
   "metadata": {},
   "outputs": [
    {
     "name": "stdout",
     "output_type": "stream",
     "text": [
      "Loading training, validation, and test datasets....\n",
      "Done...\n"
     ]
    }
   ],
   "source": [
    "# Split the samples into training, validation, and test sets\n",
    "\n",
    "# Set the random seed for reproducibility\n",
    "np.random.seed(42)\n",
    "\n",
    "# Get unique content samples\n",
    "samples = df_lc_clean['content'].unique()\n",
    "\n",
    "# Split the samples into training, validation, and test sets\n",
    "lc_train_samples, lc_val_samples, lc_test_samples = split_samples(samples=samples, train_ratio=0.7, val_ratio=0.15, test_ratio=0.15)\n",
    "\n",
    "# Check if datasets already exist, otherwise create them\n",
    "if os.path.exists(lc_train_filename) and os.path.exists(lc_val_filename) and os.path.exists(lc_test_filename):\n",
    "    print(\"Loading training, validation, and test datasets....\")\n",
    "    lc_train_dataset = load_dataset(lc_train_filename)\n",
    "    lc_val_dataset = load_dataset(lc_val_filename)\n",
    "    lc_test_dataset = load_dataset(lc_test_filename)\n",
    "else:\n",
    "    print(\"Creating training, validation, and test datasets....\")\n",
    "    # Create dataset\n",
    "    lc_train_dataset = Dataset.from_list(create_data_set(samples=lc_train_samples, df=df_lc_clean, nlp=nlp, remove_punc=remove_punc, force_lower_case=force_lower_case))\n",
    "    lc_val_dataset = Dataset.from_list(create_data_set(samples=lc_val_samples, df=df_lc_clean, nlp=nlp, remove_punc=remove_punc, force_lower_case=force_lower_case))\n",
    "    lc_test_dataset = Dataset.from_list(create_data_set(samples=lc_test_samples, df=df_lc_clean, nlp=nlp, remove_punc=remove_punc, force_lower_case=force_lower_case))\n",
    "\n",
    "    # Save dataset, so we don't have to create it everytime again\n",
    "    save_dataset(lc_train_dataset, lc_train_filename)\n",
    "    save_dataset(lc_val_dataset, lc_val_filename)\n",
    "    save_dataset(lc_test_dataset, lc_test_filename)\n",
    "\n",
    "print(\"Done...\")"
   ]
  },
  {
   "cell_type": "code",
   "execution_count": 16,
   "id": "29047c9d-a1a8-4b34-8993-f3dd593955c2",
   "metadata": {},
   "outputs": [
    {
     "data": {
      "text/plain": [
       "Dataset({\n",
       "    features: ['tokens', 'ner_tags'],\n",
       "    num_rows: 8774\n",
       "})"
      ]
     },
     "execution_count": 16,
     "metadata": {},
     "output_type": "execute_result"
    }
   ],
   "source": [
    "# Display the leeuwarde Courant train dataset\n",
    "lc_train_dataset"
   ]
  },
  {
   "cell_type": "code",
   "execution_count": 17,
   "id": "a26c9507-3475-4209-a1b9-f8b8a455655b",
   "metadata": {},
   "outputs": [
    {
     "data": {
      "text/plain": [
       "Dataset({\n",
       "    features: ['tokens', 'ner_tags'],\n",
       "    num_rows: 1880\n",
       "})"
      ]
     },
     "execution_count": 17,
     "metadata": {},
     "output_type": "execute_result"
    }
   ],
   "source": [
    "# Display the leeuwarde Courant validation dataset\n",
    "lc_val_dataset"
   ]
  },
  {
   "cell_type": "code",
   "execution_count": 18,
   "id": "4199a797-9fb3-4315-9139-59c8fd3a9b52",
   "metadata": {},
   "outputs": [
    {
     "data": {
      "text/plain": [
       "Dataset({\n",
       "    features: ['tokens', 'ner_tags'],\n",
       "    num_rows: 1881\n",
       "})"
      ]
     },
     "execution_count": 18,
     "metadata": {},
     "output_type": "execute_result"
    }
   ],
   "source": [
    "# Display the leeuwarde Courant test dataset\n",
    "lc_test_dataset"
   ]
  },
  {
   "cell_type": "markdown",
   "id": "d37a0677-ab05-487d-914f-9dfd729d03db",
   "metadata": {},
   "source": [
    "### Create Trouw & Parool TEST dataset"
   ]
  },
  {
   "cell_type": "code",
   "execution_count": 19,
   "id": "17673b5a-345f-4b5e-abc3-44ddd389b8ec",
   "metadata": {},
   "outputs": [
    {
     "name": "stdout",
     "output_type": "stream",
     "text": [
      "Loading trouw parool test dataset....\n"
     ]
    }
   ],
   "source": [
    "# Create or load the Trouw/Parool test dataset\n",
    "\n",
    "if os.path.exists(trouw_parool_test_filename):\n",
    "    print(\"Loading trouw parool test dataset....\")\n",
    "    trouw_parool_test_dataset = load_dataset(trouw_parool_test_filename)\n",
    "else:\n",
    "    print(\"Creating trouw parool test dataset....\")\n",
    "    trouw_parool_test_dataset = Dataset.from_list(trouw_parool_create_dataset(df=df_trouw_parool, nlp=nlp, remove_punc=remove_punc, force_lower_case=force_lower_case))\n",
    "    \n",
    "    # Save dataset, so we don't have to create it everytime again\n",
    "    save_dataset(trouw_parool_test_dataset, trouw_parool_test_filename)"
   ]
  },
  {
   "cell_type": "code",
   "execution_count": 20,
   "id": "de4ab794-42a1-452c-946a-155124722f55",
   "metadata": {},
   "outputs": [
    {
     "data": {
      "text/plain": [
       "Dataset({\n",
       "    features: ['tokens', 'ner_tags'],\n",
       "    num_rows: 308\n",
       "})"
      ]
     },
     "execution_count": 20,
     "metadata": {},
     "output_type": "execute_result"
    }
   ],
   "source": [
    "# Display the Trouw/Parool test dataset\n",
    "trouw_parool_test_dataset"
   ]
  },
  {
   "cell_type": "markdown",
   "id": "515b2495-dd22-4fff-9ad1-3a742801f8b7",
   "metadata": {},
   "source": [
    "## Tokenize text representation and align subtokens with labels"
   ]
  },
  {
   "cell_type": "code",
   "execution_count": 21,
   "id": "93c61150-d612-4060-875f-d2466de108cc",
   "metadata": {
    "colab": {
     "base_uri": "https://localhost:8080/",
     "height": 254,
     "referenced_widgets": [
      "336dc12a88734f91b352ea1ddcec4ab7",
      "8301fb426aae43d6998413e91b08732d",
      "79c8cf8792b94225bd5a938f7299597f",
      "5946b36e38784ad6916795df12309f10",
      "55db65dac0164603970b74a6ad7fad90",
      "94491c17b9084409be3750645e9df81d",
      "ed830f8e9b174c1cab3df9719470c5ae",
      "bebc0a23a515479aaa0481c825f7d275",
      "9f826dabf35644c3b9776f73b9203949",
      "513a5701fe164c46aef330c2df1b4bde",
      "144f251cf24c4c6290dd12ff28dcb3b1",
      "248d9fcd296d4fd0903b7127f9cc7896",
      "f444e230367f4d3a8a3b078be76bb390",
      "aea1442965984bae989f0fdb80af8982",
      "fe2316faf2754bd9845d900c88284f2a",
      "26f6dfa033224ed6bba678c379f48ee8",
      "7630fb58bf3e42d6b48a5f87fe1065cc",
      "1db54a064f3c4fef8624443931f60b11",
      "50abd5b4f48740a2a7bc9b4db80143f4",
      "cd7787d3f8bc495ab3164ee467a3f0d8",
      "90d22b98264a46919379fae677a9b335",
      "2122b0f5124d444d81861d4e2a5460ca",
      "e3b79ddae8e94dbf99b39c527f02b01f",
      "e1c395cca89d4079a4d41e383bbee7bb",
      "7b09de4a935346868a4f544fb7e047d4",
      "64e1d987382e486ab84a3afb672d690b",
      "cbd887df91d84f33b18cf5c8d1bb294f",
      "b743c841f40b4c18a38545a7507ff7f0",
      "3bd33b3e1b1e425091a73b711163cd23",
      "e4134e0d83444c9b9d0aa51bd6e275aa",
      "e05ebdfabbcd4f39a0887e44576b1624",
      "2118d7aada9f4130aa9453d8fd05a54b",
      "244c8098d8ac4364ab9fc36e3bce1b74",
      "4f3e002c8003455d9000d8cb57721ffc",
      "1e2941f0ca2a48d8a2c8712cfe211cac",
      "836332d7e0ff4582afb7cdd55e5561d8",
      "355454266444492897ab574dac77c594",
      "cae5f96d3599478fb9dd282a72643462",
      "64d05a9b82074707be40b13a03beda80",
      "411a31cba87542e996a9bb7be2f98761",
      "0f90c8e7b019485f9a763af471bd9412",
      "6d33fe8b049c45258a9367f20c0e8ce8",
      "7d30128b6e8840d292d0e0333f5cb5e9",
      "7cf2171daf2f4692afcf3c17d28b5e0a"
     ]
    },
    "id": "93c61150-d612-4060-875f-d2466de108cc",
    "outputId": "085ed8b7-e4ae-49c5-f15d-9eb5a684d365"
   },
   "outputs": [],
   "source": [
    "# Load the tokenizer from the specified model checkpoint\n",
    "tokenizer = AutoTokenizer.from_pretrained(model_checkpoint)"
   ]
  },
  {
   "cell_type": "code",
   "execution_count": 22,
   "id": "f9ebcb9a-38ce-406a-ab9d-1205fec0979f",
   "metadata": {
    "id": "f9ebcb9a-38ce-406a-ab9d-1205fec0979f"
   },
   "outputs": [],
   "source": [
    "# Define function to tokenize inputs and align labels\n",
    "\n",
    "label_all_tokens = True\n",
    "\n",
    "def tokenize_and_align_labels(examples):\n",
    "    \"\"\"\n",
    "    Tokenize inputs and align labels for token classification.\n",
    "\n",
    "    Args:\n",
    "        examples (dict): A dictionary containing the tokens and NER tags.\n",
    "\n",
    "    Returns:\n",
    "        dict: A dictionary with tokenized inputs and aligned labels.\n",
    "    \"\"\"\n",
    "    tokenized_inputs = tokenizer(\n",
    "        examples[\"tokens\"], truncation=True, is_split_into_words=True\n",
    "    )\n",
    "\n",
    "    labels = []\n",
    "    for i, label in enumerate(examples[\"ner_tags\"]):\n",
    "        word_ids = tokenized_inputs.word_ids(batch_index=i)\n",
    "        previous_word_idx = None\n",
    "        label_ids = []\n",
    "        for word_idx in word_ids:\n",
    "            # Special tokens have a word id that is None. We set the label to -100 so they are automatically\n",
    "            # ignored in the loss function.\n",
    "            if word_idx is None:\n",
    "                label_ids.append(-100)\n",
    "            # We set the label for the first token of each word.\n",
    "            elif word_idx != previous_word_idx:\n",
    "                label_ids.append(label[word_idx])\n",
    "            # For the other tokens in a word, we set the label to either the current label or -100, depending on\n",
    "            # the label_all_tokens flag.\n",
    "            else:\n",
    "                label_ids.append(label[word_idx] if label_all_tokens else -100)\n",
    "            previous_word_idx = word_idx\n",
    "\n",
    "        labels.append(label_ids)\n",
    "\n",
    "    tokenized_inputs[\"labels\"] = labels\n",
    "\n",
    "    return tokenized_inputs"
   ]
  },
  {
   "cell_type": "code",
   "execution_count": 23,
   "id": "482ebb52-8591-44c1-ade3-7d7cde9b57e5",
   "metadata": {
    "colab": {
     "base_uri": "https://localhost:8080/",
     "height": 154,
     "referenced_widgets": [
      "99c1034007a74b458906f0d26af025c3",
      "797d8c0bfd9e42ab9028c816a1794fac",
      "f89c0b6c4ee34dd9bb87429287f6006d",
      "f561605e61c94dcf9dd30f99d1202257",
      "0345452718a2461080a05b47b3232c5f",
      "e4aac0c7351c418585f1195dc6e4e7ed",
      "b262bf167d744273906d4822661027c4",
      "75fb03eefa7f49aaaf63dc2db7704aaa",
      "556056e52719488393ce1dfdda856f02",
      "9db3a4408d7c42cda76bc80200fb1fc3",
      "7f2631fde5d242cfa8943a78837de23b",
      "47294ed79c224dac937c065c370e6041",
      "50f4359fd80646d4818d421138fff9f8",
      "ef29430adf024bc1845895c03a2b4bda",
      "5ea7263fb23f485e868ce6f149747030",
      "06c9949f0b7e41b6876d8f9db23c6bf3",
      "995b215fad624234a1d9ebb5d550b1b6",
      "d356dafa83d74f099817f53f0c8fbc68",
      "4cb3ac050773448ca156cee4f685d504",
      "4ec66f9d2e9249a2b9dff76fe1d027a7",
      "eada1fb8dd66489099dc8a040b4451b9",
      "7d06ed7128184f5abe082f9afdb3e77e"
     ]
    },
    "id": "482ebb52-8591-44c1-ade3-7d7cde9b57e5",
    "outputId": "c80cac7b-f45f-4675-9ef1-b8855f9e8be9"
   },
   "outputs": [
    {
     "name": "stderr",
     "output_type": "stream",
     "text": [
      "Map: 100%|█████████████████████████████████████████████████████████████████████████████████████████████████████████████████████████████████████████████████████████████████████████████| 8774/8774 [00:16<00:00, 526.10 examples/s]\n",
      "Map: 100%|█████████████████████████████████████████████████████████████████████████████████████████████████████████████████████████████████████████████████████████████████████████████| 1880/1880 [00:03<00:00, 541.25 examples/s]\n",
      "Map: 100%|█████████████████████████████████████████████████████████████████████████████████████████████████████████████████████████████████████████████████████████████████████████████| 1881/1881 [00:03<00:00, 535.92 examples/s]\n",
      "Map: 100%|███████████████████████████████████████████████████████████████████████████████████████████████████████████████████████████████████████████████████████████████████████████████| 308/308 [00:00<00:00, 461.51 examples/s]\n"
     ]
    },
    {
     "data": {
      "text/plain": [
       "Dataset({\n",
       "    features: ['tokens', 'ner_tags', 'input_ids', 'token_type_ids', 'attention_mask', 'labels'],\n",
       "    num_rows: 8774\n",
       "})"
      ]
     },
     "execution_count": 23,
     "metadata": {},
     "output_type": "execute_result"
    }
   ],
   "source": [
    "# Tokenize the datasets and align the labels\n",
    "lc_tokenized_dataset_train = lc_train_dataset.map(tokenize_and_align_labels, batched=True)\n",
    "lc_tokenized_dataset_val = lc_val_dataset.map(tokenize_and_align_labels, batched=True)\n",
    "lc_tokenized_dataset_test = lc_test_dataset.map(tokenize_and_align_labels, batched=True)\n",
    "\n",
    "trouw_parool_tokenized_dataset_test = trouw_parool_test_dataset.map(tokenize_and_align_labels, batched=True)\n",
    "\n",
    "# Display the tokenized training dataset\n",
    "lc_tokenized_dataset_train"
   ]
  },
  {
   "cell_type": "code",
   "execution_count": 24,
   "id": "62b103e7-94c4-4ad2-88c0-e0148dc72be9",
   "metadata": {
    "colab": {
     "base_uri": "https://localhost:8080/",
     "height": 178,
     "referenced_widgets": [
      "f66e666da5684404b86d3f775343521b",
      "8aefdd671bbb42baafc606e9f92e5557",
      "63ce0450c301471b8fac0962e72536e5",
      "5a6b22ecabc34381828faeaad6bc2454",
      "8bceb62de14b4a078d3309ebc3ca3cdd",
      "f1df8b4fcc684f769027bdd7526b202e",
      "02c60f6c2b7c4c808df0722ff4cbd1b5",
      "b525518280dc4c08ac55ee86f38bf679",
      "fa7306804d6b453c95c85718598f2a7c",
      "e72da7bdc2fd4ecbb5b7d6c30fda482c",
      "85a3a2189a1f4781b530e8812e950cd1"
     ]
    },
    "id": "62b103e7-94c4-4ad2-88c0-e0148dc72be9",
    "outputId": "981ed123-bae7-4920-d035-f5f3263c9690"
   },
   "outputs": [],
   "source": [
    "# Define function to compute evaluation metrics\n",
    "def compute_metrics(p): \n",
    "    \"\"\"\n",
    "    Compute evaluation metrics for model predictions.\n",
    "\n",
    "    Args:\n",
    "        p (tuple): A tuple containing logits and labels.\n",
    "\n",
    "    Returns:\n",
    "        dict: A dictionary with evaluation metrics (F1 score, recall, precision, accuracy).\n",
    "    \"\"\"\n",
    "    \n",
    "    logits, labels = p\n",
    "    predictions = np.argmax(logits, axis=2)\n",
    "\n",
    "    # Remove ignored index (special tokens)\n",
    "    true_predictions = [\n",
    "        [label_list[p] for (p, l) in zip(prediction, label) if l != -100] for prediction, label in zip(predictions, labels)\n",
    "    ]\n",
    "    true_labels = [\n",
    "        [label_list[l] for (p, l) in zip(prediction, label) if l != -100] for prediction, label in zip(predictions, labels)\n",
    "    ]\n",
    "\n",
    "    total_count_O = 0\n",
    "    total_count_I = 0\n",
    "    for pred in true_predictions:\n",
    "        total_count_O = total_count_O + sum(s.count(\"O\") for s in pred)\n",
    "        total_count_I = total_count_I + sum(s.count(\"I\") for s in pred)\n",
    "        \n",
    "    # Flatten the lists to enable F1 calculation using sklearn\n",
    "    flat_predictions = [label for sublist in true_predictions for label in sublist]\n",
    "    flat_labels = [label for sublist in true_labels for label in sublist]\n",
    "\n",
    "    # Calculate the F1 score\n",
    "    f1 = f1_score(y_true=flat_labels, y_pred=flat_predictions, average='binary', pos_label='I')\n",
    "    recall = recall_score(y_true=flat_labels, y_pred=flat_predictions, average='binary', pos_label='I')\n",
    "    precision = precision_score(y_true=flat_labels, y_pred=flat_predictions, average='binary', pos_label='I')\n",
    "    accuracy = accuracy_score(y_true=flat_labels, y_pred=flat_predictions)\n",
    "\n",
    "    \n",
    "    return {\n",
    "        \"total_count_O\": total_count_O,\n",
    "        \"total_count_I\": total_count_I,\n",
    "        \"f1\": f1,\n",
    "        \"recall\": recall,\n",
    "        \"precision\": precision,\n",
    "        \"accuracy\": accuracy\n",
    "    }"
   ]
  },
  {
   "cell_type": "code",
   "execution_count": 25,
   "id": "3f57a650-842d-4257-938e-fa9668c4860a",
   "metadata": {},
   "outputs": [],
   "source": [
    "# Set the device to use for training (GPU if available, otherwise CPU)\n",
    "device = torch.device(\"cuda\" if torch.cuda.is_available() else \"cpu\")"
   ]
  },
  {
   "cell_type": "code",
   "execution_count": 26,
   "id": "4a254f89-f828-488e-8d24-e6d4f15ef252",
   "metadata": {
    "id": "4a254f89-f828-488e-8d24-e6d4f15ef252"
   },
   "outputs": [],
   "source": [
    "# Initialize data collator for token classification\n",
    "data_collator = DataCollatorForTokenClassification(tokenizer)"
   ]
  },
  {
   "cell_type": "code",
   "execution_count": 27,
   "id": "e4eca33a-b0f4-451e-8a0e-b4ba61612040",
   "metadata": {
    "colab": {
     "base_uri": "https://localhost:8080/",
     "height": 154,
     "referenced_widgets": [
      "1648440a54624a61ba16f621f1d65051",
      "b5187b920c6c4facb1794399e6cb1085",
      "32d147fc28e84cc483228024ed5cbe69",
      "166c9552ad4944e28c118aee610b29ef",
      "0781044e951d410080b356822c8ed2ed",
      "42b74b4c32bf4e128a1473ab3365daeb",
      "d2e11a91852645cb922510a80e590f0f",
      "8e535280a1404a76abe74124d74fc7ac",
      "ae197e918fcd47318e62095dbc96e72b",
      "03b1c620d85042bc904f18b9ffc8bad8",
      "3d893af58000457b9264d159adb4e4fd",
      "f803fc898a334aedb54a8375f2aad856",
      "54708878c154416aa5305956a0e2b215",
      "bb23bf25236c474abd592c3e5b54e518",
      "09fdc9ade5014a838c5af7101fd9e513",
      "d94f107a82e5430481c36f59d1a0f506",
      "1f3fc7c7397b4b8ca230e48542852975",
      "058893d3a6414ed291906ed24fb5a676",
      "d3803a2a63a9456da9fea507217cf425",
      "859d1e44dbb84605a0fd21e5456ac64f",
      "1df03bf58a3749cf9a519c72a3cd6eb1",
      "39f8e06f2a6c4a34b20e4400af0eb3a5"
     ]
    },
    "id": "e4eca33a-b0f4-451e-8a0e-b4ba61612040",
    "outputId": "24479b60-fdda-4326-95fb-0ca78c05386c"
   },
   "outputs": [
    {
     "name": "stderr",
     "output_type": "stream",
     "text": [
      "Some weights of BertForTokenClassification were not initialized from the model checkpoint at Babelscape/wikineural-multilingual-ner and are newly initialized because the shapes did not match:\n",
      "- classifier.bias: found shape torch.Size([9]) in the checkpoint and torch.Size([2]) in the model instantiated\n",
      "- classifier.weight: found shape torch.Size([9, 768]) in the checkpoint and torch.Size([2, 768]) in the model instantiated\n",
      "You should probably TRAIN this model on a down-stream task to be able to use it for predictions and inference.\n"
     ]
    }
   ],
   "source": [
    "# Load the pre-trained model for token classification\n",
    "model = AutoModelForTokenClassification.from_pretrained(\n",
    "    model_checkpoint, num_labels=2, ignore_mismatched_sizes=True\n",
    ")\n",
    "model.config.id2label = {0: 'NO_BOOK', 1: 'BOOK'}"
   ]
  },
  {
   "cell_type": "code",
   "execution_count": 28,
   "id": "e1e89c5e-ebaf-47bc-ae82-9a1630efa6cd",
   "metadata": {
    "id": "e1e89c5e-ebaf-47bc-ae82-9a1630efa6cd"
   },
   "outputs": [],
   "source": [
    "# Define a custom trainer class for training the model with a specialized loss function\n",
    "\n",
    "class MyTrainer(Trainer):\n",
    "    \"\"\"\n",
    "    A custom trainer class that extends the Trainer class to provide specialized loss computation\n",
    "    and enhanced logging capabilities specific to the model's training process.\n",
    "\n",
    "    This trainer overrides the compute_loss method to utilize a custom loss function, referred to here\n",
    "    as MoMLoss, which is applied to the logits produced by the model. Additionally, this class modifies\n",
    "    the logging functionality to record the loss at each training step along with its corresponding epoch,\n",
    "    facilitating detailed tracking and analysis of the model's training progression.\n",
    "\n",
    "    Attributes:\n",
    "        loss_history (list of dict): Keeps a record of loss values and their corresponding epoch numbers.\n",
    "                                     This enables easy tracking and visualization of the training loss over time.\n",
    "\n",
    "    Methods:\n",
    "        compute_loss(model, inputs, return_outputs=False): Computes the loss using MoMLoss based on the outputs\n",
    "                                                           from the model and the provided labels. It can optionally\n",
    "                                                           return the model outputs alongside the loss.\n",
    "\n",
    "        log(logs): Extends the base Trainer's log method to also append the loss and epoch to the loss_history for\n",
    "                   historical tracking. This is particularly useful for visualizing the training progression post-training.\n",
    "\n",
    "    Example:\n",
    "        class MyModel(nn.Module):\n",
    "            # model definition\n",
    "\n",
    "        trainer = MyTrainer(MyModel(), other_args)\n",
    "        trainer.train()\n",
    "    \"\"\"\n",
    "    def __init__(self, *args, **kwargs):\n",
    "        super().__init__(*args, **kwargs)\n",
    "        self.loss_history = []\n",
    "    \n",
    "    def compute_loss(self, model, inputs, return_outputs=False):\n",
    "        \"\"\" MoM LOSS \"\"\"\n",
    "        labels = inputs.pop(\"labels\")\n",
    "        outputs = model(**inputs)\n",
    "        logits = outputs.logits  # Assuming logits are stored in outputs.logits\n",
    "\n",
    "        # Compute loss using DiceLoss\n",
    "        loss_fn = MoMLoss()\n",
    "        loss = loss_fn(logits, labels)\n",
    "\n",
    "        # Store loss for logging\n",
    "        self.log({\"loss\": loss.item(), \"epoch\": self.state.epoch})\n",
    "\n",
    "        return (loss, outputs) if return_outputs else loss\n",
    "\n",
    "    def log(self, logs):\n",
    "        super().log(logs)\n",
    "        # Save the training loss for each log step\n",
    "        if self.model.training:\n",
    "            if 'loss' in logs:\n",
    "                self.loss_history.append({\"epoch\": logs.get(\"epoch\", 0), \"loss\": logs[\"loss\"]})"
   ]
  },
  {
   "cell_type": "code",
   "execution_count": 29,
   "id": "9f9fcca5-5d88-4374-ad0d-d1050c5055c7",
   "metadata": {},
   "outputs": [],
   "source": [
    "# Define function to visualize training history\n",
    "\n",
    "def visualise_training_history(trainer):\n",
    "    \"\"\"\n",
    "    Generates a plot showing smoothed training loss, training F1 score, and evaluation F1 score over epochs. \n",
    "    The training loss is smoothed to take an average over an epoch, as the training loss is calculated for each batch indiviually per epoch (thus multiple times per epoch).\n",
    "\n",
    "    Args:\n",
    "        trainer: A training instance containing loss_history and state.log_history.\n",
    "        window_size: The size of the moving average window for smoothing the loss.\n",
    "\n",
    "    Returns:\n",
    "        fig: A matplotlib figure object with the plot.\n",
    "    \"\"\"\n",
    "    epoch_losses = {}\n",
    "    for point in trainer.loss_history:\n",
    "        # Use ceiling to round the epoch to the next highest whole number\n",
    "        epoch = math.ceil(point['epoch'])\n",
    "        loss = point['loss']\n",
    "        if epoch not in epoch_losses:\n",
    "            epoch_losses[epoch] = []\n",
    "        epoch_losses[epoch].append(loss)\n",
    "    \n",
    "    # Calculate average loss per epoch\n",
    "    epochs = sorted(epoch_losses.keys())\n",
    "    avg_losses = [np.mean(epoch_losses[epoch]) for epoch in epochs]\n",
    "    \n",
    "    eval_epochs = [math.ceil(entry['epoch']) for entry in trainer.state.log_history if 'eval_f1' in entry]\n",
    "    eval_f1_scores = [entry['eval_f1'] for entry in trainer.state.log_history if 'eval_f1' in entry]\n",
    "\n",
    "    # Create the plot for smoothed training loss\n",
    "    fig, ax1 = plt.subplots(figsize=(10, 6))\n",
    "    line1, = ax1.plot(epochs, avg_losses, marker='o', color='b', label='Training Loss (MoM)')\n",
    "    ax1.set_title(\"Training Loss and Evaludation F1 Score vs. Epochs\")\n",
    "    ax1.set_xlabel(\"Epochs\")\n",
    "    ax1.set_ylabel(\"Training Loss\")\n",
    "    ax1.grid(True)\n",
    "    \n",
    "    # Create secondary y-axis for F1 scores\n",
    "    ax2 = ax1.twinx()\n",
    "    line2, = ax2.plot(eval_epochs, eval_f1_scores, marker='s', color='r', label='Evaluation F1 Score')\n",
    "    ax2.set_ylabel('F1 Score')\n",
    "\n",
    "    # Combine legends from both axes\n",
    "    lines = [line1, line2]\n",
    "    labels = [l.get_label() for l in lines]\n",
    "    ax1.legend(lines, labels, loc='center right')\n",
    "    \n",
    "    return fig"
   ]
  },
  {
   "cell_type": "markdown",
   "id": "8f0eb54f-e74a-4a5b-9f30-a455fe1cae5f",
   "metadata": {},
   "source": [
    "## Training"
   ]
  },
  {
   "cell_type": "code",
   "execution_count": 30,
   "id": "f8932fa3-a7c3-4be7-be84-c3ec03f31892",
   "metadata": {
    "id": "f8932fa3-a7c3-4be7-be84-c3ec03f31892"
   },
   "outputs": [],
   "source": [
    "# Set up training arguments and create a custom trainer instance\n",
    "training_args = TrainingArguments(\n",
    "    output_dir=\"test_model\",\n",
    "    learning_rate=2e-5,\n",
    "    per_device_train_batch_size=16,\n",
    "    per_device_eval_batch_size=16,\n",
    "    num_train_epochs=3,\n",
    "    weight_decay=0.01,\n",
    "    evaluation_strategy=\"epoch\",\n",
    "    save_strategy=\"epoch\",\n",
    "    save_total_limit=1,\n",
    "    load_best_model_at_end=True,\n",
    "    metric_for_best_model='f1',\n",
    "    greater_is_better=True,\n",
    "    fp16=True,  # Enable mixed precision training (trains faster and decreases gpu memory)\n",
    "    dataloader_pin_memory=True,  # Pin memory in dataloader (trains faster and decreases gpu memory)\n",
    "    push_to_hub=False\n",
    "\n",
    ")\n",
    "\n",
    "# Create a custom Trainer instance\n",
    "trainer = MyTrainer(\n",
    "    model=model,\n",
    "    args=training_args,\n",
    "    train_dataset=lc_tokenized_dataset_train,\n",
    "    eval_dataset=lc_tokenized_dataset_val,\n",
    "    tokenizer=tokenizer,\n",
    "    data_collator=data_collator,\n",
    "    compute_metrics=compute_metrics,\n",
    ")"
   ]
  },
  {
   "cell_type": "code",
   "execution_count": 31,
   "id": "896015c3-31af-4b98-941e-8d827be588cf",
   "metadata": {
    "id": "896015c3-31af-4b98-941e-8d827be588cf"
   },
   "outputs": [],
   "source": [
    "# Clear up RAM space by deleting large DataFrames\n",
    "del df_lc\n",
    "del lc_train_dataset\n",
    "del lc_val_dataset"
   ]
  },
  {
   "cell_type": "code",
   "execution_count": 32,
   "id": "d5b0ba9d-fc0b-4161-a440-39bf13f7a759",
   "metadata": {
    "colab": {
     "base_uri": "https://localhost:8080/",
     "height": 895
    },
    "id": "d5b0ba9d-fc0b-4161-a440-39bf13f7a759",
    "outputId": "c4164284-403c-4dbf-82b2-37b6959ae8b1"
   },
   "outputs": [
    {
     "data": {
      "text/html": [
       "\n",
       "    <div>\n",
       "      \n",
       "      <progress value='1647' max='1647' style='width:300px; height:20px; vertical-align: middle;'></progress>\n",
       "      [1647/1647 16:04, Epoch 3/3]\n",
       "    </div>\n",
       "    <table border=\"1\" class=\"dataframe\">\n",
       "  <thead>\n",
       " <tr style=\"text-align: left;\">\n",
       "      <th>Epoch</th>\n",
       "      <th>Training Loss</th>\n",
       "      <th>Validation Loss</th>\n",
       "      <th>Total Count O</th>\n",
       "      <th>Total Count I</th>\n",
       "      <th>F1</th>\n",
       "      <th>Recall</th>\n",
       "      <th>Precision</th>\n",
       "      <th>Accuracy</th>\n",
       "    </tr>\n",
       "  </thead>\n",
       "  <tbody>\n",
       "    <tr>\n",
       "      <td>1</td>\n",
       "      <td>0.159858</td>\n",
       "      <td>0.324089</td>\n",
       "      <td>825219</td>\n",
       "      <td>44378</td>\n",
       "      <td>0.584293</td>\n",
       "      <td>0.924672</td>\n",
       "      <td>0.427081</td>\n",
       "      <td>0.968987</td>\n",
       "    </tr>\n",
       "    <tr>\n",
       "      <td>2</td>\n",
       "      <td>0.117316</td>\n",
       "      <td>0.322806</td>\n",
       "      <td>829328</td>\n",
       "      <td>40269</td>\n",
       "      <td>0.618306</td>\n",
       "      <td>0.916524</td>\n",
       "      <td>0.466513</td>\n",
       "      <td>0.973328</td>\n",
       "    </tr>\n",
       "    <tr>\n",
       "      <td>3</td>\n",
       "      <td>0.185108</td>\n",
       "      <td>0.374452</td>\n",
       "      <td>833701</td>\n",
       "      <td>35896</td>\n",
       "      <td>0.658344</td>\n",
       "      <td>0.905645</td>\n",
       "      <td>0.517133</td>\n",
       "      <td>0.977844</td>\n",
       "    </tr>\n",
       "  </tbody>\n",
       "</table><p>"
      ],
      "text/plain": [
       "<IPython.core.display.HTML object>"
      ]
     },
     "metadata": {},
     "output_type": "display_data"
    },
    {
     "data": {
      "text/plain": [
       "TrainOutput(global_step=1647, training_loss=0.23873048908578748, metrics={'train_runtime': 965.2254, 'train_samples_per_second': 27.27, 'train_steps_per_second': 1.706, 'total_flos': 6877853230804992.0, 'train_loss': 0.23873048908578748, 'epoch': 3.0})"
      ]
     },
     "execution_count": 32,
     "metadata": {},
     "output_type": "execute_result"
    }
   ],
   "source": [
    "# Train the model using the custom trainer\n",
    "# NOTE: Due to custom loss and trainer objects is the default Loss visualization output incorrect, the figure below is the correct reference\n",
    "trainer.train()"
   ]
  },
  {
   "cell_type": "code",
   "execution_count": 33,
   "id": "4eadec32-a6ac-4fd9-b372-ce0f93fa5b35",
   "metadata": {},
   "outputs": [
    {
     "data": {
      "image/png": "[encoded data removed]",
      "text/plain": [
       "<Figure size 1000x600 with 2 Axes>"
      ]
     },
     "metadata": {},
     "output_type": "display_data"
    }
   ],
   "source": [
    "# Visualize the training history\n",
    "fig = visualise_training_history(trainer)"
   ]
  },
  {
   "cell_type": "markdown",
   "id": "a71315ed-687c-4180-8b31-5c7adfa89a31",
   "metadata": {},
   "source": [
    "## Evaluate models on test datasets"
   ]
  },
  {
   "cell_type": "code",
   "execution_count": 34,
   "id": "998cd6db-8e74-484c-aa48-1c736e5fea27",
   "metadata": {},
   "outputs": [
    {
     "data": {
      "text/plain": [
       "BertForTokenClassification(\n",
       "  (bert): BertModel(\n",
       "    (embeddings): BertEmbeddings(\n",
       "      (word_embeddings): Embedding(119547, 768, padding_idx=0)\n",
       "      (position_embeddings): Embedding(512, 768)\n",
       "      (token_type_embeddings): Embedding(2, 768)\n",
       "      (LayerNorm): LayerNorm((768,), eps=1e-12, elementwise_affine=True)\n",
       "      (dropout): Dropout(p=0.1, inplace=False)\n",
       "    )\n",
       "    (encoder): BertEncoder(\n",
       "      (layer): ModuleList(\n",
       "        (0-11): 12 x BertLayer(\n",
       "          (attention): BertAttention(\n",
       "            (self): BertSelfAttention(\n",
       "              (query): Linear(in_features=768, out_features=768, bias=True)\n",
       "              (key): Linear(in_features=768, out_features=768, bias=True)\n",
       "              (value): Linear(in_features=768, out_features=768, bias=True)\n",
       "              (dropout): Dropout(p=0.1, inplace=False)\n",
       "            )\n",
       "            (output): BertSelfOutput(\n",
       "              (dense): Linear(in_features=768, out_features=768, bias=True)\n",
       "              (LayerNorm): LayerNorm((768,), eps=1e-12, elementwise_affine=True)\n",
       "              (dropout): Dropout(p=0.1, inplace=False)\n",
       "            )\n",
       "          )\n",
       "          (intermediate): BertIntermediate(\n",
       "            (dense): Linear(in_features=768, out_features=3072, bias=True)\n",
       "            (intermediate_act_fn): GELUActivation()\n",
       "          )\n",
       "          (output): BertOutput(\n",
       "            (dense): Linear(in_features=3072, out_features=768, bias=True)\n",
       "            (LayerNorm): LayerNorm((768,), eps=1e-12, elementwise_affine=True)\n",
       "            (dropout): Dropout(p=0.1, inplace=False)\n",
       "          )\n",
       "        )\n",
       "      )\n",
       "    )\n",
       "  )\n",
       "  (dropout): Dropout(p=0.1, inplace=False)\n",
       "  (classifier): Linear(in_features=768, out_features=2, bias=True)\n",
       ")"
      ]
     },
     "execution_count": 34,
     "metadata": {},
     "output_type": "execute_result"
    }
   ],
   "source": [
    "# Move the model to the specified device (GPU/CPU)\n",
    "model.to(device)"
   ]
  },
  {
   "cell_type": "code",
   "execution_count": 35,
   "id": "ba5a0218-a089-4002-8402-fbfd9d628c18",
   "metadata": {},
   "outputs": [
    {
     "data": {
      "text/html": [
       "\n",
       "    <div>\n",
       "      \n",
       "      <progress value='138' max='118' style='width:300px; height:20px; vertical-align: middle;'></progress>\n",
       "      [118/118 00:33]\n",
       "    </div>\n",
       "    "
      ],
      "text/plain": [
       "<IPython.core.display.HTML object>"
      ]
     },
     "metadata": {},
     "output_type": "display_data"
    },
    {
     "data": {
      "text/plain": [
       "{'eval_loss': 0.321485310792923,\n",
       " 'eval_total_count_O': 829894,\n",
       " 'eval_total_count_I': 35559,\n",
       " 'eval_f1': 0.6679175154569172,\n",
       " 'eval_recall': 0.9159927461647797,\n",
       " 'eval_precision': 0.5255772097078095,\n",
       " 'eval_accuracy': 0.9785268524113961,\n",
       " 'eval_runtime': 30.5112,\n",
       " 'eval_samples_per_second': 61.649,\n",
       " 'eval_steps_per_second': 3.867,\n",
       " 'epoch': 3.0}"
      ]
     },
     "execution_count": 35,
     "metadata": {},
     "output_type": "execute_result"
    }
   ],
   "source": [
    "# Evaluate the model on the leeuwarde courant test dataset\n",
    "trainer.evaluate(eval_dataset=lc_tokenized_dataset_test)"
   ]
  },
  {
   "cell_type": "code",
   "execution_count": 36,
   "id": "6c473bd8-d33c-4e33-aeb7-cd514e007437",
   "metadata": {},
   "outputs": [
    {
     "data": {
      "text/plain": [
       "{'eval_loss': 1.3016644716262817,\n",
       " 'eval_total_count_O': 144827,\n",
       " 'eval_total_count_I': 4971,\n",
       " 'eval_f1': 0.5661092530657748,\n",
       " 'eval_recall': 0.6349087271817955,\n",
       " 'eval_precision': 0.5107624220478777,\n",
       " 'eval_accuracy': 0.9740183447042017,\n",
       " 'eval_runtime': 5.3175,\n",
       " 'eval_samples_per_second': 57.922,\n",
       " 'eval_steps_per_second': 3.761,\n",
       " 'epoch': 3.0}"
      ]
     },
     "execution_count": 36,
     "metadata": {},
     "output_type": "execute_result"
    }
   ],
   "source": [
    "# Evaluate the model on the Trouw/Parool test dataset\n",
    "trainer.evaluate(eval_dataset=trouw_parool_tokenized_dataset_test)"
   ]
  },
  {
   "cell_type": "markdown",
   "id": "c899e118-73e8-4091-8725-9299c2dd1e83",
   "metadata": {},
   "source": [
    "### Export model, training history, tokenizer & history"
   ]
  },
  {
   "cell_type": "code",
   "execution_count": 37,
   "id": "1eee5db3-c84a-4ddb-a180-4e9ab264e851",
   "metadata": {},
   "outputs": [
    {
     "data": {
      "text/plain": [
       "'C:/Users/niels/PycharmProjects/BookReviewsThesis/models/transformer/2024-05-28_16_25/'"
      ]
     },
     "execution_count": 37,
     "metadata": {},
     "output_type": "execute_result"
    }
   ],
   "source": [
    "# Define the export path for saving the trained model\n",
    "export_path = f\"C:/Users/niels/PycharmProjects/BookReviewsThesis/models/transformer/{datetime.now().strftime('%Y-%m-%d_%H_%M')}/\"\n",
    "export_path"
   ]
  },
  {
   "cell_type": "code",
   "execution_count": 38,
   "id": "2aefd9ca-d1a5-4361-b560-9582f41dafdb",
   "metadata": {},
   "outputs": [],
   "source": [
    "# Create the export directory if it does not exist\n",
    "os.makedirs(export_path, exist_ok=True)"
   ]
  },
  {
   "cell_type": "code",
   "execution_count": 39,
   "id": "f03a12c5-1934-4318-aeeb-2d72d94b8c27",
   "metadata": {},
   "outputs": [
    {
     "data": {
      "text/plain": [
       "('C:/Users/niels/PycharmProjects/BookReviewsThesis/models/transformer/2024-05-28_16_25/tokenizer\\\\tokenizer_config.json',\n",
       " 'C:/Users/niels/PycharmProjects/BookReviewsThesis/models/transformer/2024-05-28_16_25/tokenizer\\\\special_tokens_map.json',\n",
       " 'C:/Users/niels/PycharmProjects/BookReviewsThesis/models/transformer/2024-05-28_16_25/tokenizer\\\\vocab.txt',\n",
       " 'C:/Users/niels/PycharmProjects/BookReviewsThesis/models/transformer/2024-05-28_16_25/tokenizer\\\\added_tokens.json',\n",
       " 'C:/Users/niels/PycharmProjects/BookReviewsThesis/models/transformer/2024-05-28_16_25/tokenizer\\\\tokenizer.json')"
      ]
     },
     "execution_count": 39,
     "metadata": {},
     "output_type": "execute_result"
    }
   ],
   "source": [
    "# Save the trained model and tokenizer to the export path\n",
    "trainer.save_model(export_path + \"model\")\n",
    "tokenizer.save_pretrained(export_path + \"tokenizer\")"
   ]
  },
  {
   "cell_type": "code",
   "execution_count": 40,
   "id": "ce6530e2-0c84-4894-ac1f-3febb37f2cb5",
   "metadata": {},
   "outputs": [],
   "source": [
    "# Save the training history and model details to JSON files\n",
    "with open(export_path + \"history.json\", 'w') as file:\n",
    "    json.dump(trainer.state.log_history, file, indent=4)\n",
    "with open(export_path + \"loss_training_history.json\", 'w') as file:\n",
    "    json.dump(trainer.loss_history, file, indent=4)\n",
    "with open(export_path + \"model_name.txt\", 'w') as file:\n",
    "    file.write(model_checkpoint)  # Writing the string to the file"
   ]
  },
  {
   "cell_type": "code",
   "execution_count": 41,
   "id": "64eacc73-ceea-4ef4-b80d-6a28c80ed627",
   "metadata": {},
   "outputs": [],
   "source": [
    "# Save the training history plot to a PNG file\n",
    "fig.savefig(export_path + \"training_and_f1_plot.png\")"
   ]
  },
  {
   "cell_type": "markdown",
   "id": "351a530c-88bd-41d4-aa6b-cdb027c71795",
   "metadata": {},
   "source": [
    "## Visualization of predictions on unseen data"
   ]
  },
  {
   "cell_type": "code",
   "execution_count": 42,
   "id": "2683553a-1b3a-438c-8473-c213370fc3ed",
   "metadata": {},
   "outputs": [],
   "source": [
    "# Define functions to merge overlapping intervals and visualize NER output\n",
    "\n",
    "def merge_overlapping_intervals(intervals):\n",
    "    \"\"\"\n",
    "    Merge overlapping intervals in a list of intervals.\n",
    "\n",
    "    Args:\n",
    "        intervals (list of tuple): List of intervals (start, end, label).\n",
    "\n",
    "    Returns:\n",
    "        list of tuple: List of merged intervals.\n",
    "    \"\"\"\n",
    "    merged_intervals = []\n",
    "    if not intervals:\n",
    "        return merged_intervals\n",
    "\n",
    "    # Sort intervals based on the start value\n",
    "    intervals.sort(key=lambda x: x[0])\n",
    "\n",
    "    # Initialize variables for the first interval\n",
    "    start, end, label = intervals[0]\n",
    "\n",
    "    # Iterate through the intervals\n",
    "    for interval in intervals[1:]:\n",
    "        next_start, next_end, next_label = interval\n",
    "\n",
    "        # If the intervals overlap, merge them\n",
    "        if next_start <= end + 1:\n",
    "            end = max(end, next_end)\n",
    "        else:\n",
    "            # If no overlap, add the merged interval to the result and update start, end, label\n",
    "            merged_intervals.append((start, end, label))\n",
    "            start, end, label = next_start, next_end, next_label\n",
    "\n",
    "    # Add the last merged interval\n",
    "    merged_intervals.append((start, end, \"BOOK\"))\n",
    "\n",
    "    return merged_intervals\n",
    "\n",
    "def visualize_output(output, text, export_path=None):\n",
    "    \"\"\"\n",
    "    Visualize NER output using spaCy's displaCy.\n",
    "\n",
    "    Args:\n",
    "        output (list): List of dictionaries containing NER predictions.\n",
    "        text (str): The input text.\n",
    "        export_path (str, optional): Path to save the visualization as an HTML file.\n",
    "\n",
    "    Returns:\n",
    "        None\n",
    "    \"\"\"\n",
    "    spans = [(res['start'], res['end'], res['entity']) for res in output if res['entity'] == 'BOOK']\n",
    "    spans = merge_overlapping_intervals(spans)\n",
    "\n",
    "    nlp = spacy.blank('nl')\n",
    "    doc = nlp.make_doc(text)\n",
    "    ents = []\n",
    "    for span_start, span_end, label in spans:\n",
    "        ent = doc.char_span(span_start, span_end, label=label)\n",
    "        if ent is None:\n",
    "            continue\n",
    "    \n",
    "        ents.append(ent)\n",
    "    \n",
    "    doc.ents = ents\n",
    "    \n",
    "    if export_path:\n",
    "        html = displacy.render(doc, style=\"ent\", jupyter=False, page=True)\n",
    "        # Save the HTML to a file\n",
    "        with open(export_path, \"w\", encoding=\"utf-8\") as file:\n",
    "            file.write(html)\n",
    "    else:\n",
    "        displacy.render(doc, style=\"ent\", jupyter=True)"
   ]
  },
  {
   "cell_type": "code",
   "execution_count": 43,
   "id": "8g3cc_M-80aO",
   "metadata": {
    "id": "8g3cc_M-80aO"
   },
   "outputs": [],
   "source": [
    "# Initialize the pipeline for token classification\n",
    "pipe = pipeline(task=\"token-classification\", model=model, tokenizer=tokenizer)"
   ]
  },
  {
   "cell_type": "markdown",
   "id": "e3144c30-a18d-4239-a9b1-216c04a38e5f",
   "metadata": {},
   "source": [
    "### Leeuwarde Courant"
   ]
  },
  {
   "cell_type": "code",
   "execution_count": 44,
   "id": "fcca3691-6c55-49d1-befa-94b2d7217a5b",
   "metadata": {},
   "outputs": [],
   "source": [
    "# Set the index for visualizing a sample from the test set\n",
    "visualize_index = 1"
   ]
  },
  {
   "cell_type": "code",
   "execution_count": 45,
   "id": "31dbc132-d56b-4c1b-81df-004c67f557e7",
   "metadata": {},
   "outputs": [],
   "source": [
    "# Get a sample from the Leeuwarde Courant test set for visualization\n",
    "lc_sample = lc_test_samples[visualize_index]"
   ]
  },
  {
   "cell_type": "code",
   "execution_count": 46,
   "id": "gDn7kcye88G6",
   "metadata": {
    "id": "gDn7kcye88G6"
   },
   "outputs": [],
   "source": [
    "# Get NER predictions for the sample using the pipeline\n",
    "output = pipe(lc_sample)"
   ]
  },
  {
   "cell_type": "code",
   "execution_count": 47,
   "id": "2174802d-c81d-496f-9fb9-68e7805c9f2e",
   "metadata": {},
   "outputs": [
    {
     "data": {
      "text/plain": [
       "6064    ontsporingen\n",
       "Name: title4, dtype: object"
      ]
     },
     "execution_count": 47,
     "metadata": {},
     "output_type": "execute_result"
    }
   ],
   "source": [
    "# Display the corresponding book titles in the sample from df_lc_clean\n",
    "df_lc_clean[df_lc_clean['content'] == lc_sample].title4"
   ]
  },
  {
   "cell_type": "code",
   "execution_count": 48,
   "id": "IgjxXK1rBDGa",
   "metadata": {
    "colab": {
     "base_uri": "https://localhost:8080/",
     "height": 808
    },
    "id": "IgjxXK1rBDGa",
    "outputId": "1e84ed98-9478-459b-a1e2-12a1de1d5fa2"
   },
   "outputs": [
    {
     "data": {
      "text/html": [
       "<span class=\"tex2jax_ignore\"><div class=\"entities\" style=\"line-height: 2.5; direction: ltr\">ZES VERHALEN VAN A. DEN DOOLAARD Plus en min van het vertellerschap Letterkundige kroniek A. den Doolaard: \n",
       "<mark class=\"entity\" style=\"background: #ddd; padding: 0.45em 0.6em; margin: 0 0.25em; line-height: 1; border-radius: 0.35em;\">\n",
       "    „Ontsporingen&quot;\n",
       "    <span style=\"font-size: 0.8em; font-weight: bold; line-height: 1; border-radius: 0.35em; vertical-align: middle; margin-left: 0.5rem\">BOOK</span>\n",
       "</mark>\n",
       ". Em. Querido's U.M., Amsterdam 1967, 209 blz. (Reuzensalamander 65). „Een man die met meisjes speelt ontreddert zijn eigen leven&quot;, aldus de omschrijving die de omslagtekst geeft van het zesde en laatste verhaal Het geitenoffer uit Den Doolaards (eerste) verhalenbundel \n",
       "<mark class=\"entity\" style=\"background: #ddd; padding: 0.45em 0.6em; margin: 0 0.25em; line-height: 1; border-radius: 0.35em;\">\n",
       "    Ontsporingen.\n",
       "    <span style=\"font-size: 0.8em; font-weight: bold; line-height: 1; border-radius: 0.35em; vertical-align: middle; margin-left: 0.5rem\">BOOK</span>\n",
       "</mark>\n",
       " Kortheid van formulering is een deugd, maar kan ook misverstand wekken. Men zou bovenstaand citaat in waarschuwende en moraliserende zin kunnen opvatten. Men kan er ook uit lezen, dat er in ieder geval in dit verhaal een causaal verband bestaat tussen het „met meisjes spelen&quot; en het ontredderen van een mensenleven. Geen van beide sleutels past echter op het verhaal zelf. De man in kwestie ontreddert zijn leven niet doordat hij, eigenaar van een aantal verwaarloosde huizen in het berggebied van Tessin (Zwitserland), zo nu en dan .een vrijblijvend vleselijk avontuurtje heeft met een van de vele toeristische meisjes (bij voor- keur uit Holland), die in een van zijn verblijven een vakantie komen doorbrengen. Zijn leven raakt danig in de war omdat tussen die meisjes er één is, — een meisje van rond 35 jaar overigens — dat voor hem de ware liefde betekent, het ideaal of hoe men het maar benoemen wil. Hij Joseph Axelhub, bijgenaamd Josji, en de concertpianiste Judith ervaren gedurende korte tijd het hoogtepunt in hun leven: „Het werd een weerzien van stamelende ontsteltenis, een zich aan elkaar vastklemmen in een hartstocht die een ondertoon had van fluisterende radeloosheid over zoveel onbegrijpelijke drift&quot; (192). Ja ja. Maar hun situaties, hij: vrijbuiter die geiten hoedt, hooi en druiven verbouwt en huizen verhuurt, zij: concertpianiste van tournee op tournee, hij: eenzame Alpenbewoner, zij: in het drukbevolkte Amsterdam, zijn zo wezenlijk verschillend, dat er geen compromis, laat staan een definitief samengaan mogelijk is; zij willen niet, in de woorden van Judith, „twee levens ontwrichten die eigenlijk te ver uiteenlopen voor een durende gemeenschap&quot; (203). Er wordt gekapt — door Judith — en dat is voor de ruwebolsterblankepit, de Josji heet, een bitterepilomteslikken. In zekere zin is Het geltenoffer een aangeklede anecdote. En daarmee raken we al een der zwakkere punten aan die het vertellerschap van Den Doolaard in dit boek kenmerken. Bovendien heeft deze anecdote de vorm van de beredeneerde omweg. Twee krantejongens, Govert en Wim geheten, kü men toevallig in de buurt en besluiten een nacht over te blijven bij de Zwitserse vriend van Govert, onze Josji. Na 17 bladzijden voorwerk, waarin we breedvoerig geïnformeerd worden over de antecedenten en vreemde hoedanigheden van de vrijgezel Josji, komen de beide journalistieke vrienden tot de ontdekking dat Josji niet thuis is en waarschijnlijk naar het buitenland is vertrokken. In de volgende 22 bladzijden (waaraan Govert en Wim niet te pas komen) krijgen we dan, als hoofdmoot, het hele verhaal van Josji's grote, verbijsterende roes-liefde voor Judith, in de gewone vertellende hij-vorm gegoten en zonder enige formele aansluiting met de 17 bladzijden voorwerk, die dus eigenlijk alleen maar omweg zijn geweest. Smakelijk en vakkundig verteld, dat wel, maar au fond weinig persoonlijk en lang niet van retorische stijlbloempjes 0ntb100t:,,... zodra Judith zich op bed had uitgestrekt lag de hele liefelijkheid van het beminde gebied voor hem te grijp, haar lichaam de ontroerende rijkdom van het golvende landschap met zijn heuvels en dalen, zijn vergezichten naar lichtende en donkere einders, zijn verborgen bronnen en geheimzinnige ravijnen&quot;, (bl. 193) — Wie haar „ziet&quot;, mag de vinger opsteken! — In nog geen 4 bladzijden èpiloogwerk zien we vervolgens hoe de beide vrienden inderdaad na een weekje Josji weer thuis aantreffen, maar in de deplorabele toestand van diep geschokt en teleurgesteld minnaar, die ontdekt heeft: „mijn enige mv was haar piano&quot;, en die zijn vrienden, na een summiere uiteenzetting van zijn tegenslag, verzoekt hem nu maar alleen te laten. Matig van psychologie, zwierig van vertellersretoriek en van een vormgeving die nog; 1 rammelt. Nog erger is het wat dit betreft met het beginverhaal De minnaar onder het bed, waarvan de eigenlijke anecdote op zn Boccaccio's in enkele bladzijden zou kunnen worden verteld (een vurig, maar verwaand minnaar schiet als een pijl naakt onder het overspelige bed, als de echtgenoot plotseling thuiskomt en wordt onder veel getreiter op vernederende wijze het huis uit gebonjourd), maar het omtrek- en vulwerk weekt deze anecdote onnodig tot 32 bladzijden uit, al zou Den Doolaard Den Doolaard niet zijn als hij er niet op vakkundige en beminnelijke wijze een snufje oud- Wenen overheen wist te strooien. Maar ook dat is vulwerk, want de bedscène had overal ter wereld kunnen plaatsgrijpen. Het begin geeft al direct het procédé van de omtrekkende beweging aan. De eerste zin luidt: „In de industrielanden is de vrijetijdsbesteding een van de grootste problemen van de moderne mensheid geworden&quot;, godsgruwelijk cliché. Volgende 7 regels kort samengevat: De mensen doen er niets dan naar de tv kijken. Scharnier met het volgende: Op de tv óók zag de ik-figuur (de verteller) na zoveel jaren de hoofdpersoon van het verhaal, Mare van Doren, terug. De „ik&quot; zoekt contact met deze Mare. Treft Mare in deplorabele toestand aan in een Haags restaurant, praat met 'm; Mare laat niet veel los, alleen dat hij het schrikkelijk betreurt destijds niet met de Weense Renate alias Rudie te zijn getrouwd, voor wie hij achteraf bezien voorbestemd was geweest. Dan zijn we na veel retrospectief denk-werk op bl. 20 aangeland. En wat doet vervolgens de „ik&quot;? In plaats van net zo lang aan Mare te trekken dat de waarheid uitkomt, reist hij naar Wenen om van zijn oude minnares Lily, die weer een vriendin van Renate was, te weten te komen hoe die Mare-vork eigenlijk in de Renate-steel zat, en dan komt pas op bl. 31 Lily eindelijk met die smeuïge onder-het^bed-anecdote voor de dag. Een verhaal uit de tweede hand dus ook nog, en dat neemt héél wat van de mogelijkheden tot directe beleving weg. lets dergelijks zien we in het tweede verhaal In paradisurn. De begrafenis van een gemeenschappelijke kennis op een katholiek kerkhof brengt drie oude vrienden er toe in een cafeetje na te praten over de karakter (on) deugden van de overledene aan wie zojuist zoveel in-paradisurn-eer bewezen is. De man was in het oog van de „ik&quot; een schurk die zijn eigen lief, onschuldig vrouwtje (eenmaal een jeugdliefde van de „ik&quot;) tot zelfmoord bracht. Maar hij wordt door de beide anderen, overigens zelf slachtoffers van de man, min of meer in bescherming genomen, als slachtoffer van ouderlijk milieu en eigen mismaaktheid. Ook hier een indirecte procédé, maar dat stoort aanmerkelijk minder dan in de beide bovenbesproken verhalen. Achter de blinde muur, het kortste van de 6, Is een typisch journalistiek gegeven over een krankzinnige Duitse officier in een soort zenuwgesticht voor ex-krijgsgevangenen, die lijdt aan de obsessie, dat de slag om Stallngrad en dus de oorlog door de Duitsers gewonnen zou zijn, alt hij, de officier, op het juiste ogenblik het juiste had gedaan. En dan blijven er twee verhalen over, die de uitstekende hoedanigheden van Den Dolaards vertellerschap aan het licht brengen. Klassiek en evenwichtig van bouw en opzet is de vertelling De terugkeer van de ketter. Een Griekse reder die genoeg krijgt van de wereld en zichzelf niet langer wil bedriegen, trekt zich terug ln een van de kloosters op Athos (Noord-Griekenland) en komt in de eenzaamheid tot een nieuwe visie op het Christendom, door de consequenties te trekken die Paulus niet trok. Volgens broeder Joannis: „De God van de schepping bezat geen erbarmen, en de God van het erbarmen bezat qeun macht&quot; (140). Paului „maakte Jezus dit enkel mededogen was tot de zoon van Jahwe, de oude joodse stamgod, de schepper van hemel en aarde&quot; (145), maar deze twee moeten van elkaar worden losgekoppeld, en zo predikt Joannis „de onbegrepen god van het mededogen&quot;. Hij predikt op de plaats waar eenmaal Paulus werkzaam was, op de Areopagus te Athene, verzamelt lui om zich heen. disputeert met een wijze, ietwat sceptische metropoliet Athanasius, die hem tracht duidelijk te maken dat de nieuwe leer de mensen berooft van hun „geliefkoosde misverstanden&quot; en dat Joannis' ketterijen al lang geleden door Mareion zijn verkondigd, zonder blijvend succes. Broeder Joannis lijkt niet te beseffen dat hij met zijn onbekende liefdegod toch een nieuw fanatisme aan het brengen is, maar bij zijn voortgezette, mislukte prediking komt hij bij een oploopje om het leven. *## Het beste verhaal uit deze bundel, dat naar mijn oordeel het predikaat meesterlijk verdient, is dan Sn Ito mortal* (al ware er een betere en sprekender titel te bedenken geweest), oorspronkelijk in het Engels geschreven en in Amerika gepubliceerd. Het is meteen ook het langste, maar desondanks beknopt en geconcentreerd van thema en techniek, zonder omwegen, volkomen overtuigend van vormgeving. De excowboy van nederige afkomst Ted Monroe, die als jongen al tekentalent had, is tot een Beroemde Nationale Figuur geworden als tekenaar van cowboy-strips, waarin, dat beseft hijzelf steeds duidelijker, het Wildwestleven wordt vervalst en in een verkeerd licht gesteld. Maar de dankbaarheid van zijn fan-mail — de mensen willen niet het Westen zoals het geweest is, maar zoals ze het graag willen hebben — houdt hem overeind, evenals de „trouwe zorg&quot; van zijn vrouw Cora, die, eerzuchtige en sluwe zakenvrouw, hem in waarheid „gemaakt&quot; heeft tot wat hij lijkt: „het zinnebeeld van het meest romantische, heroïsch* en mannelijke stuk Amerikaanse geschiedenis en gezond Amerikaans leven&quot; (78-9). Toch sluipt in Ted, de Blue Beaver, het besef binnen dat hij fout zit, de kluit besodemietert en zijn talent verknoeit. Hij kotst van zichzelf, ondanks al zijn vergaderde rijkdom. Een stripverhaal gebaseerd op zijn geestelijke crisis en her-oriëntering — met een realistische visie op het Westleveh ■— wordt een grote sof, het publiek protesteert en de strip wordt snel door een „betere&quot; vervangen. Een oude vriend uit de cowboy-jaren, Jake Ruthers, een hard maar eerlijk man, brengt Teds heroriëntatie nog verder en weet hem warm te maken voor wat hij eigenlijk, ondanks zijn 50 jaar, graag wil: terug naar zijn oude makkers en zijn oude leven; zichzelf rehabiliteren door het meedoen aan een echte rodeo. In wezen is Ted bang en ook Jake beseft dat een 50-jarige die al zoveel jaren zijn voeten onder de tekentafel heeft gehad en niet meer in de stijgbeugel, niet meer geschikt is voor zulke vitale prestaties als dit razend gevaarlijke werk van worstelen met een wilde stier. Maar allerlei omstandigheden spelen hun rol en jutten Ted op; het tragisch einde valt te voorzien. *♦* Misschien is het zo, dat Den Doolaard in dit verhaal een stuk cowboyvalseromantiek tot zijn ware proporties heeft teruggebracht; ik kan dat zo niet beoordelen. Ik kan ook niet zeggen, dat ik aan dergelijke ontmythologisering persoonlijk veel behoefte heb. Het Wilde Westen is aan mij niet besteed. Ik weet alleen, dat Den Doolaard een adembenemend en sterk verhaal heeft geschreven, waaiin de sobere taal adequaat is aan de harde eenvoudige inhoud, een verhaal zonder opgepepte retoriek en beeldrijke welsprekendheid, en met een climax die als een man op je afkomt. Bij intuïtie trof de schrijver hier het juiste procédé: directe situaties, retrospectieve passages die wèl terzake zijn. In het eerste gedeelte is het een hij-verhaal; daarna (bl. 80—106) komt in de ik-vorm een soort monoloog (tot zijn vrouw gericht) van de „ontaarde&quot; cowboy, en in de overblijvende kleine 20 pagina's het weer in de hij-vorm beschreven, vanuit Ted Monroe beleefde verslag van de rodeo, die voor hem zon bittere afgang wordt. Romantiek misschien, dit verhaal? Het zij dan zo. Den Doolaard is, zon kleine 40 jaar geleden, als warmbloedig romanticus begonnen, in een nogal onromantische tijd, en hij is zichzelf trouw gebleven. Salto mortale laat zien, dat het zichzelf trouw blijven geen afgang behoeft te betekenen. Het cowboy- en het ketterverhaal in dit boek zijn specimina van klassieke vertelkunst op grond van het eeuwenoude beproefde epische principe, die deze bundel ondanks zijn zwakke kant en zijn aangeklede anecdotes rechtvaardigen. ANNE WADMAN A. den Doolaard</div></span>"
      ],
      "text/plain": [
       "<IPython.core.display.HTML object>"
      ]
     },
     "metadata": {},
     "output_type": "display_data"
    }
   ],
   "source": [
    "# Visualize the NER output for the sample\n",
    "visualize_output(output, lc_sample)"
   ]
  },
  {
   "cell_type": "markdown",
   "id": "dfd381a0-8a0e-4e12-a052-1f13e3bc8fc6",
   "metadata": {},
   "source": [
    "### Het Parool"
   ]
  },
  {
   "cell_type": "code",
   "execution_count": 49,
   "id": "cc9a45b5-9c0c-4fb9-bb6a-d5311eb563ca",
   "metadata": {},
   "outputs": [],
   "source": [
    "# Filter Trouw/Parool data for the Parool newspaper\n",
    "df_parool = df_trouw_parool[df_trouw_parool['newspaper'] == 'Parool']"
   ]
  },
  {
   "cell_type": "code",
   "execution_count": 50,
   "id": "cc9dac6f-fc30-465b-bc4d-791b7dbc94e2",
   "metadata": {
    "scrolled": true
   },
   "outputs": [],
   "source": [
    "# Get a sample text from the Parool data\n",
    "parool_sample = df_parool.text.unique()[0]"
   ]
  },
  {
   "cell_type": "code",
   "execution_count": 51,
   "id": "25087d3d-dca9-466e-93bb-86a180409139",
   "metadata": {},
   "outputs": [],
   "source": [
    "# Get NER predictions for the Parool sample using the pipeline\n",
    "output = pipe(parool_sample)"
   ]
  },
  {
   "cell_type": "code",
   "execution_count": 52,
   "id": "fbc71a69-3530-4177-9daa-9f6061663cc3",
   "metadata": {},
   "outputs": [
    {
     "data": {
      "text/plain": [
       "178    'Een beeld van de hemel.\n",
       "179          'Blik op oneindig'\n",
       "180            BUK OP ONEINDIG,\n",
       "181    EEN BEELD VAN DE HEMELL.\n",
       "Name: book_title, dtype: object"
      ]
     },
     "execution_count": 52,
     "metadata": {},
     "output_type": "execute_result"
    }
   ],
   "source": [
    "# Display the corresponding book titles in the Parool sample from df_parool\n",
    "df_parool[df_parool['text'] == parool_sample].book_title"
   ]
  },
  {
   "cell_type": "code",
   "execution_count": 53,
   "id": "d50af167-42ff-448d-b70b-8052d829148a",
   "metadata": {},
   "outputs": [
    {
     "data": {
      "text/html": [
       "<span class=\"tex2jax_ignore\"><div class=\"entities\" style=\"line-height: 2.5; direction: ltr\">Blik op oneindig Govert Schilling is astronoom, hoofdredacteur van het sterrenkundig maandblad Zenith en programmamaker bij het Planetarium in Amsterdam. Vooral in die laatste functie is hij nauw betrokken bij het populariseren van de sterrenkunde. Dat doet hij goed en met grote yver. Twee boeken kort na elkaar. In \n",
       "<mark class=\"entity\" style=\"background: #ddd; padding: 0.45em 0.6em; margin: 0 0.25em; line-height: 1; border-radius: 0.35em;\">\n",
       "    'Blik op oneindig'\n",
       "    <span style=\"font-size: 0.8em; font-weight: bold; line-height: 1; border-radius: 0.35em; vertical-align: middle; margin-left: 0.5rem\">BOOK</span>\n",
       "</mark>\n",
       " blijft lüj verre van ingewikkelde onderwerpen als quasars en Herzsprung-Russelldiagrammen, maar beschrijft hy hemelverschijnselen waarin we allemaal wel geïnteresseerd zijn. Schilling schrijft over de mogelijkheid dat er ook op andere planeten dan de aarde leven bestaat, over vliegende schotels, raakpunten tussen astronomie en astrologie, over de mogelijkheid van een botsing van de aarde met een voorwerp uit de ruimte en de gevolgen van zon aanvaring, over telescopen en hoe ze werken, over de vraag of we langzaam maar zeker worden opgevreten door een zwart gat. 't Is allemaal simpel gehouden, maar dat is nu net de kracht van dit zeer betaalbare boek dat extra aardig wordt door talrijke anekdotes en vele uitstekende illustraties. Achterin zit als toegift een bouwplaat voor een draaibare sterrenkaart. Samen met Wilem Beekman schreef Schilling het handzame boekje \n",
       "<mark class=\"entity\" style=\"background: #ddd; padding: 0.45em 0.6em; margin: 0 0.25em; line-height: 1; border-radius: 0.35em;\">\n",
       "    'Een beeld van de hemel.\n",
       "    <span style=\"font-size: 0.8em; font-weight: bold; line-height: 1; border-radius: 0.35em; vertical-align: middle; margin-left: 0.5rem\">BOOK</span>\n",
       "</mark>\n",
       " Dit is een soort veldgids om de weg aan het uitspansel te kunnen vinden. Het bevat onder andere twaalf mooi uitgevoerde kaarten die de sterrenhemel boven onze streken tonen zoals die er in de twaalf maanden van het jaar 's avonds uitziet. Beekman zorgde voor de beschrijving van de mythologische achtergrond van de voornaamste sterrenbeelden. BUK OP ONEINDIG\n",
       "<mark class=\"entity\" style=\"background: #ddd; padding: 0.45em 0.6em; margin: 0 0.25em; line-height: 1; border-radius: 0.35em;\">\n",
       "    , Govert Schilling.\n",
       "    <span style=\"font-size: 0.8em; font-weight: bold; line-height: 1; border-radius: 0.35em; vertical-align: middle; margin-left: 0.5rem\">BOOK</span>\n",
       "</mark>\n",
       " Uitgeverij Unieboek, Weesp. Geïllustreerd, 100 bil. Prijs ƒ 24,50. ISBN 90.228.3797.1. EEN BEELD VAN DE HEMELL\n",
       "<mark class=\"entity\" style=\"background: #ddd; padding: 0.45em 0.6em; margin: 0 0.25em; line-height: 1; border-radius: 0.35em;\">\n",
       "    . Govert Schilling en Willem Beekman.\n",
       "    <span style=\"font-size: 0.8em; font-weight: bold; line-height: 1; border-radius: 0.35em; vertical-align: middle; margin-left: 0.5rem\">BOOK</span>\n",
       "</mark>\n",
       " Uitgeverij Terra, Zutphen. Geïllustreerd, 96 blz. Prijs /18,75. ISBN 90.900.1271.0</div></span>"
      ],
      "text/plain": [
       "<IPython.core.display.HTML object>"
      ]
     },
     "metadata": {},
     "output_type": "display_data"
    }
   ],
   "source": [
    "# Visualize the NER output for the Parool sample\n",
    "visualize_output(output, parool_sample)"
   ]
  },
  {
   "cell_type": "code",
   "execution_count": 54,
   "id": "9d4f292b-ee98-4c84-9cd5-584b827244d2",
   "metadata": {},
   "outputs": [],
   "source": [
    "# Export example of output\n",
    "visualize_output(output, parool_sample, export_path=\"ner_visualization.html\")"
   ]
  },
  {
   "cell_type": "markdown",
   "id": "b0a47371-ca41-41c3-9581-b4ba9b7fef19",
   "metadata": {},
   "source": [
    "### Trouw"
   ]
  },
  {
   "cell_type": "code",
   "execution_count": 55,
   "id": "7a736298-efed-4d06-a411-d497b2aa823b",
   "metadata": {},
   "outputs": [],
   "source": [
    "# Filter Trouw/Parool data for the Trouw newspaper\n",
    "df_trouw = df_trouw_parool[df_trouw_parool['newspaper'] == 'Trouw']"
   ]
  },
  {
   "cell_type": "code",
   "execution_count": 56,
   "id": "7c46fdd2-fdf6-4639-be30-325238e917e0",
   "metadata": {
    "scrolled": true
   },
   "outputs": [],
   "source": [
    "# Get a sample text from the Trouw data\n",
    "trouw_sample = df_trouw.text.unique()[3]"
   ]
  },
  {
   "cell_type": "code",
   "execution_count": 57,
   "id": "3594dd3e-59fc-4463-a6ef-c9e463c53cc3",
   "metadata": {},
   "outputs": [],
   "source": [
    "# Get NER predictions for the Trouw sample using the pipeline\n",
    "output = pipe(trouw_sample)"
   ]
  },
  {
   "cell_type": "code",
   "execution_count": 58,
   "id": "cac7f6be-6a57-49f0-9dcf-a89f663c5e92",
   "metadata": {},
   "outputs": [
    {
     "data": {
      "text/plain": [
       "6               Nederlandse Cultuur in de Gouden Eeuw,\n",
       "7    The Embarrassment of riches, an interpretation...\n",
       "Name: book_title, dtype: object"
      ]
     },
     "execution_count": 58,
     "metadata": {},
     "output_type": "execute_result"
    }
   ],
   "source": [
    "# Display the corresponding book titles in the Trouw sample from df_trouw\n",
    "df_trouw[df_trouw['text'] == trouw_sample].book_title"
   ]
  },
  {
   "cell_type": "code",
   "execution_count": 59,
   "id": "4b43fc6f-fa7a-471b-85a8-6a17039711d0",
   "metadata": {},
   "outputs": [
    {
     "data": {
      "text/html": [
       "<span class=\"tex2jax_ignore\"><div class=\"entities\" style=\"line-height: 2.5; direction: ltr\">Goede pleiter Ze waren eigenlijk te vreemd om waar te kunnen zijn en Schama beweert dan ook dat de hele Hollandse beschaving in de ogen van de buitenlanders een niet duurzaam karakter had, een verschijnsel dat al te vluchtig was. Ik denk dat dat een uitstekende waarneming is, de gedachte dat de Republiek eigenlijk alleen miraculeus nog bestond en elk ogenblik kon verzinken, vindt men dikwijls in buitenlandse bronnen, van William Temple tot Herder. Zo hebben we in deze Engels-Amerikaanse historicus weer eens een goede pleiter, we kunnen zijn boek met patriottisch gevoel lezen. Wat zien buitenlanders soms veel in ons! Maar het is wel wijs om kritisch te lezen, uit sporadische gegevens worden soms te makkelijk grote conclusies getrokken. Het gevaar dat de historicus met fantasie gauw bedreigt is dat hij te lichtvaardig interpreteert en te snel verschijnselen uniek acht. Maar al is de schrijver misschien niet altijd aan dat gevaar ontkomen, zijn boek is toch een verfrissende en belangrijke bijdrage tot onze Hollandse geschiedenis. En het is haast ongelooflijk dat een vreemdeling zo diep en grondig thuis weet te raken in ons verleden. Zelden laat hij een steekje vallen, zo waar hij het grafmonument van Van Wassenaar-Obdarn in Amsterdam plaatst i.p.v. in Den Haag, of waar hij Sinterklaas op 6 december laat vieren. En een enkele keer vermoed ik dat zijn dapper tentoongespreide kennis van Nederlands en Latijn niet zo heel degelijk is. Maar een kniesoor die daarop let. Ik wil deze bespreking toch eindigen met een woord van grote bewondering. Wat er misschien aan nauwkeurigheid ontbreekt wordt zo ruimschoots goed gemaakt door een moedige fantasie en een wezenlijk inzicht. J. L Price, \n",
       "<mark class=\"entity\" style=\"background: #ddd; padding: 0.45em 0.6em; margin: 0 0.25em; line-height: 1; border-radius: 0.35em;\">\n",
       "    Nederlandse Cultuur in de Gouden Eeuw,\n",
       "    <span style=\"font-size: 0.8em; font-weight: bold; line-height: 1; border-radius: 0.35em; vertical-align: middle; margin-left: 0.5rem\">BOOK</span>\n",
       "</mark>\n",
       " Aula-boeken, uitg. Het Spectrum, Utrecht, 216 blz., / 39,90. ISBN 90 274 5839 1. Simon Schama, \n",
       "<mark class=\"entity\" style=\"background: #ddd; padding: 0.45em 0.6em; margin: 0 0.25em; line-height: 1; border-radius: 0.35em;\">\n",
       "    The Embarrassment of riches, an\n",
       "    <span style=\"font-size: 0.8em; font-weight: bold; line-height: 1; border-radius: 0.35em; vertical-align: middle; margin-left: 0.5rem\">BOOK</span>\n",
       "</mark>\n",
       " interpretation of Dutch culture in the Ooiden Age, uitg. Collins. Londen 1987. 698 blz., ƒ 76,40 zeer rijk geïllustreerd, ISBN 0 0021 7801.</div></span>"
      ],
      "text/plain": [
       "<IPython.core.display.HTML object>"
      ]
     },
     "metadata": {},
     "output_type": "display_data"
    }
   ],
   "source": [
    "# Visualize the NER output for the Trouw sample\n",
    "visualize_output(output, trouw_sample)"
   ]
  },
  {
   "cell_type": "markdown",
   "id": "163e1e10-3f51-456c-bb45-7b51019115db",
   "metadata": {
    "id": "28deab19-d28e-4dda-b503-dc3a4a1aee8f"
   },
   "source": [
    "## Example how to Load model and tokenizer, and use it to make predictions:"
   ]
  },
  {
   "cell_type": "code",
   "execution_count": 60,
   "id": "a8f904b1-b79d-4676-903c-c7926f27c1f4",
   "metadata": {
    "id": "a8f904b1-b79d-4676-903c-c7926f27c1f4"
   },
   "outputs": [],
   "source": [
    "model_new = AutoModelForTokenClassification.from_pretrained(export_path + \"model\")\n",
    "tokenizer_new = AutoTokenizer.from_pretrained(export_path + \"tokenizer\")"
   ]
  },
  {
   "cell_type": "code",
   "execution_count": 61,
   "id": "98d403a4-d3e5-4421-a856-477eb9158910",
   "metadata": {},
   "outputs": [],
   "source": [
    "pipe = pipeline(task=\"token-classification\", model=model_new, tokenizer=tokenizer_new)"
   ]
  },
  {
   "cell_type": "code",
   "execution_count": 62,
   "id": "aaf7b2ec-1958-4586-acd7-7d10f4f6fede",
   "metadata": {},
   "outputs": [],
   "source": [
    "sentence = remove_punctuation(df_lc_clean['content'].unique()[0])"
   ]
  },
  {
   "cell_type": "code",
   "execution_count": 63,
   "id": "61379809-9967-4b2d-8990-0c20e4a4bfff",
   "metadata": {},
   "outputs": [],
   "source": [
    "output = pipe(sentence)"
   ]
  },
  {
   "cell_type": "code",
   "execution_count": 64,
   "id": "d72ce11f-c11b-4c37-8d8f-4ce24743247f",
   "metadata": {},
   "outputs": [
    {
     "data": {
      "text/html": [
       "<span class=\"tex2jax_ignore\"><div class=\"entities\" style=\"line-height: 2.5; direction: ltr\">\n",
       "<mark class=\"entity\" style=\"background: #ddd; padding: 0.45em 0.6em; margin: 0 0.25em; line-height: 1; border-radius: 0.35em;\">\n",
       "    Camperts Theater\n",
       "    <span style=\"font-size: 0.8em; font-weight: bold; line-height: 1; border-radius: 0.35em; vertical-align: middle; margin-left: 0.5rem\">BOOK</span>\n",
       "</mark>\n",
       " Overigens is de titel van deze verzamelbundel sinds enkele weken onjuist geworden doordat een nieuwe bundel is verschenen Theater sluit in elk geval in zoverre bii eerder werk aan dat Campert nog steeds van terzijde en relativerend de wereld bekijkt en beschrijft achter het toneel brengt hij de lezers waar de spelers kontknijpen  kaarten  beursberichten lezen  in het stof staren I vnoa doen  hoesten achter hun hand Waar ze tussen twee levens staangeen enkele rol vervullen en toch op hun plaats zijn Niet steeds is Camperts poëzie afstandelijk Schrijven mag dan die lullige luxe genoemd worden in een cyclus voor Bert Schierbeek wordt bedacht dat schrijven en leven ernstig genomen moeten wordenzoianq als het uurt In \n",
       "<mark class=\"entity\" style=\"background: #ddd; padding: 0.45em 0.6em; margin: 0 0.25em; line-height: 1; border-radius: 0.35em;\">\n",
       "    Aan Brey\n",
       "    <span style=\"font-size: 0.8em; font-weight: bold; line-height: 1; border-radius: 0.35em; vertical-align: middle; margin-left: 0.5rem\">BOOK</span>\n",
       "</mark>\n",
       " ten de gevangen zittende Zuidafrfkaanse dichter Breytenbach wordt de ernst van poëzie scherp beseft Poëzie is een voorbeeldige daad je kunt wel je leven lang elegant er doorheen zwijnen maar eens gebeurt het toch die afrekening met anderen en die met jezelf Voor wie schrijven een manier van leven is wordt ook het leven een zaak om ernstig te nemen Hoe Campert dat doet blijkt uit het gedicht Voor Deborah de vrouw die eerder in deze aan haar opgedragen bundel werd geïntroduceerd als American dream en tot wie Campert zich in het laatste gedicht van de bundel rechtstreeks richt Als ik doodga hoop ik dat je erbij bent dat ik je aankijk dat je mii aankijkt dat ik je nand nog voelen kan Dan zal ik rustig doodgaan Dan hoeft niemand verdrietig te zijn Dan ben ik gelukkig RÜDIL BOLTENDAL THEUN DE \n",
       "<mark class=\"entity\" style=\"background: #ddd; padding: 0.45em 0.6em; margin: 0 0.25em; line-height: 1; border-radius: 0.35em;\">\n",
       "    VRIES\n",
       "    <span style=\"font-size: 0.8em; font-weight: bold; line-height: 1; border-radius: 0.35em; vertical-align: middle; margin-left: 0.5rem\">BOOK</span>\n",
       "</mark>\n",
       "  \n",
       "<mark class=\"entity\" style=\"background: #ddd; padding: 0.45em 0.6em; margin: 0 0.25em; line-height: 1; border-radius: 0.35em;\">\n",
       "    Atlantische Avond\n",
       "    <span style=\"font-size: 0.8em; font-weight: bold; line-height: 1; border-radius: 0.35em; vertical-align: middle; margin-left: 0.5rem\">BOOK</span>\n",
       "</mark>\n",
       " Uitgave Lykele Jansma Buitenpost in samenwerking met de Literaire Kring Leek 25 blz gebonden ƒ2450 \n",
       "<mark class=\"entity\" style=\"background: #ddd; padding: 0.45em 0.6em; margin: 0 0.25em; line-height: 1; border-radius: 0.35em;\">\n",
       "    LEO VROMAN\n",
       "    <span style=\"font-size: 0.8em; font-weight: bold; line-height: 1; border-radius: 0.35em; vertical-align: middle; margin-left: 0.5rem\">BOOK</span>\n",
       "</mark>\n",
       "  \n",
       "<mark class=\"entity\" style=\"background: #ddd; padding: 0.45em 0.6em; margin: 0 0.25em; line-height: 1; border-radius: 0.35em;\">\n",
       "    Huis en Tuin Fabels en strips\n",
       "    <span style=\"font-size: 0.8em; font-weight: bold; line-height: 1; border-radius: 0.35em; vertical-align: middle; margin-left: 0.5rem\">BOOK</span>\n",
       "</mark>\n",
       " 52 blz gebonden ƒ35 GERRÏT \n",
       "<mark class=\"entity\" style=\"background: #ddd; padding: 0.45em 0.6em; margin: 0 0.25em; line-height: 1; border-radius: 0.35em;\">\n",
       "    KOUWENAAR\n",
       "    <span style=\"font-size: 0.8em; font-weight: bold; line-height: 1; border-radius: 0.35em; vertical-align: middle; margin-left: 0.5rem\">BOOK</span>\n",
       "</mark>\n",
       "  \n",
       "<mark class=\"entity\" style=\"background: #ddd; padding: 0.45em 0.6em; margin: 0 0.25em; line-height: 1; border-radius: 0.35em;\">\n",
       "    Volledig volmaakte oneetbare perzik 64\n",
       "    <span style=\"font-size: 0.8em; font-weight: bold; line-height: 1; border-radius: 0.35em; vertical-align: middle; margin-left: 0.5rem\">BOOK</span>\n",
       "</mark>\n",
       " blz gebonden ƒ2750 GERRIT KOUWENAAR én CONSTANT NIEUWENHUIS  \n",
       "<mark class=\"entity\" style=\"background: #ddd; padding: 0.45em 0.6em; margin: 0 0.25em; line-height: 1; border-radius: 0.35em;\">\n",
       "    Goede\n",
       "    <span style=\"font-size: 0.8em; font-weight: bold; line-height: 1; border-radius: 0.35em; vertical-align: middle; margin-left: 0.5rem\">BOOK</span>\n",
       "</mark>\n",
       " morgen HAAN niet gepagineerd ƒ2450 ELLEN WARMOND  Teqenspe 274 blz gebonden 2750 GERRIT ACHTERBERG  Het weerhcht op de kimmen 167 blz gebonden ƒ2390 Vijf uitgaven Va  Querido Amsterdam GERRIT KOMRIJ  Het schip de Wanhoop gedichten 19641979 Uitgave De Arbeiderspers Amsterdam 148 blz gebonden ƒ3450 REMCO CAMPERT  Alle bundels gedichten 469 blz paperback ƒ1650 en Theater 40 blz ƒ 1350 Twee uitgaven van De Bezige Bij Amsterdam</div></span>"
      ],
      "text/plain": [
       "<IPython.core.display.HTML object>"
      ]
     },
     "metadata": {},
     "output_type": "display_data"
    }
   ],
   "source": [
    "visualize_output(output, sentence)"
   ]
  },
  {
   "cell_type": "code",
   "execution_count": null,
   "id": "0c5a448e-5152-4f6f-a8e4-27361ed20ffe",
   "metadata": {},
   "outputs": [],
   "source": []
  }
 ],
 "metadata": {
  "accelerator": "GPU",
  "colab": {
   "gpuType": "V100",
   "provenance": []
  },
  "kernelspec": {
   "display_name": "Python 3 (ipykernel)",
   "language": "python",
   "name": "python3"
  },
  "language_info": {
   "codemirror_mode": {
    "name": "ipython",
    "version": 3
   },
   "file_extension": ".py",
   "mimetype": "text/x-python",
   "name": "python",
   "nbconvert_exporter": "python",
   "pygments_lexer": "ipython3",
   "version": "3.8.19"
  },
  "widgets": {
   "application/vnd.jupyter.widget-state+json": {
    "02c60f6c2b7c4c808df0722ff4cbd1b5": {
     "model_module": "@jupyter-widgets/controls",
     "model_module_version": "1.5.0",
     "model_name": "DescriptionStyleModel",
     "state": {
      "_model_module": "@jupyter-widgets/controls",
      "_model_module_version": "1.5.0",
      "_model_name": "DescriptionStyleModel",
      "_view_count": null,
      "_view_module": "@jupyter-widgets/base",
      "_view_module_version": "1.2.0",
      "_view_name": "StyleView",
      "description_width": ""
     }
    },
    "0345452718a2461080a05b47b3232c5f": {
     "model_module": "@jupyter-widgets/base",
     "model_module_version": "1.2.0",
     "model_name": "LayoutModel",
     "state": {
      "_model_module": "@jupyter-widgets/base",
      "_model_module_version": "1.2.0",
      "_model_name": "LayoutModel",
      "_view_count": null,
      "_view_module": "@jupyter-widgets/base",
      "_view_module_version": "1.2.0",
      "_view_name": "LayoutView",
      "align_content": null,
      "align_items": null,
      "align_self": null,
      "border": null,
      "bottom": null,
      "display": null,
      "flex": null,
      "flex_flow": null,
      "grid_area": null,
      "grid_auto_columns": null,
      "grid_auto_flow": null,
      "grid_auto_rows": null,
      "grid_column": null,
      "grid_gap": null,
      "grid_row": null,
      "grid_template_areas": null,
      "grid_template_columns": null,
      "grid_template_rows": null,
      "height": null,
      "justify_content": null,
      "justify_items": null,
      "left": null,
      "margin": null,
      "max_height": null,
      "max_width": null,
      "min_height": null,
      "min_width": null,
      "object_fit": null,
      "object_position": null,
      "order": null,
      "overflow": null,
      "overflow_x": null,
      "overflow_y": null,
      "padding": null,
      "right": null,
      "top": null,
      "visibility": null,
      "width": null
     }
    },
    "03b1c620d85042bc904f18b9ffc8bad8": {
     "model_module": "@jupyter-widgets/base",
     "model_module_version": "1.2.0",
     "model_name": "LayoutModel",
     "state": {
      "_model_module": "@jupyter-widgets/base",
      "_model_module_version": "1.2.0",
      "_model_name": "LayoutModel",
      "_view_count": null,
      "_view_module": "@jupyter-widgets/base",
      "_view_module_version": "1.2.0",
      "_view_name": "LayoutView",
      "align_content": null,
      "align_items": null,
      "align_self": null,
      "border": null,
      "bottom": null,
      "display": null,
      "flex": null,
      "flex_flow": null,
      "grid_area": null,
      "grid_auto_columns": null,
      "grid_auto_flow": null,
      "grid_auto_rows": null,
      "grid_column": null,
      "grid_gap": null,
      "grid_row": null,
      "grid_template_areas": null,
      "grid_template_columns": null,
      "grid_template_rows": null,
      "height": null,
      "justify_content": null,
      "justify_items": null,
      "left": null,
      "margin": null,
      "max_height": null,
      "max_width": null,
      "min_height": null,
      "min_width": null,
      "object_fit": null,
      "object_position": null,
      "order": null,
      "overflow": null,
      "overflow_x": null,
      "overflow_y": null,
      "padding": null,
      "right": null,
      "top": null,
      "visibility": null,
      "width": null
     }
    },
    "058893d3a6414ed291906ed24fb5a676": {
     "model_module": "@jupyter-widgets/controls",
     "model_module_version": "1.5.0",
     "model_name": "DescriptionStyleModel",
     "state": {
      "_model_module": "@jupyter-widgets/controls",
      "_model_module_version": "1.5.0",
      "_model_name": "DescriptionStyleModel",
      "_view_count": null,
      "_view_module": "@jupyter-widgets/base",
      "_view_module_version": "1.2.0",
      "_view_name": "StyleView",
      "description_width": ""
     }
    },
    "06c9949f0b7e41b6876d8f9db23c6bf3": {
     "model_module": "@jupyter-widgets/base",
     "model_module_version": "1.2.0",
     "model_name": "LayoutModel",
     "state": {
      "_model_module": "@jupyter-widgets/base",
      "_model_module_version": "1.2.0",
      "_model_name": "LayoutModel",
      "_view_count": null,
      "_view_module": "@jupyter-widgets/base",
      "_view_module_version": "1.2.0",
      "_view_name": "LayoutView",
      "align_content": null,
      "align_items": null,
      "align_self": null,
      "border": null,
      "bottom": null,
      "display": null,
      "flex": null,
      "flex_flow": null,
      "grid_area": null,
      "grid_auto_columns": null,
      "grid_auto_flow": null,
      "grid_auto_rows": null,
      "grid_column": null,
      "grid_gap": null,
      "grid_row": null,
      "grid_template_areas": null,
      "grid_template_columns": null,
      "grid_template_rows": null,
      "height": null,
      "justify_content": null,
      "justify_items": null,
      "left": null,
      "margin": null,
      "max_height": null,
      "max_width": null,
      "min_height": null,
      "min_width": null,
      "object_fit": null,
      "object_position": null,
      "order": null,
      "overflow": null,
      "overflow_x": null,
      "overflow_y": null,
      "padding": null,
      "right": null,
      "top": null,
      "visibility": null,
      "width": null
     }
    },
    "0781044e951d410080b356822c8ed2ed": {
     "model_module": "@jupyter-widgets/base",
     "model_module_version": "1.2.0",
     "model_name": "LayoutModel",
     "state": {
      "_model_module": "@jupyter-widgets/base",
      "_model_module_version": "1.2.0",
      "_model_name": "LayoutModel",
      "_view_count": null,
      "_view_module": "@jupyter-widgets/base",
      "_view_module_version": "1.2.0",
      "_view_name": "LayoutView",
      "align_content": null,
      "align_items": null,
      "align_self": null,
      "border": null,
      "bottom": null,
      "display": null,
      "flex": null,
      "flex_flow": null,
      "grid_area": null,
      "grid_auto_columns": null,
      "grid_auto_flow": null,
      "grid_auto_rows": null,
      "grid_column": null,
      "grid_gap": null,
      "grid_row": null,
      "grid_template_areas": null,
      "grid_template_columns": null,
      "grid_template_rows": null,
      "height": null,
      "justify_content": null,
      "justify_items": null,
      "left": null,
      "margin": null,
      "max_height": null,
      "max_width": null,
      "min_height": null,
      "min_width": null,
      "object_fit": null,
      "object_position": null,
      "order": null,
      "overflow": null,
      "overflow_x": null,
      "overflow_y": null,
      "padding": null,
      "right": null,
      "top": null,
      "visibility": null,
      "width": null
     }
    },
    "09fdc9ade5014a838c5af7101fd9e513": {
     "model_module": "@jupyter-widgets/controls",
     "model_module_version": "1.5.0",
     "model_name": "HTMLModel",
     "state": {
      "_dom_classes": [],
      "_model_module": "@jupyter-widgets/controls",
      "_model_module_version": "1.5.0",
      "_model_name": "HTMLModel",
      "_view_count": null,
      "_view_module": "@jupyter-widgets/controls",
      "_view_module_version": "1.5.0",
      "_view_name": "HTMLView",
      "description": "",
      "description_tooltip": null,
      "layout": "IPY_MODEL_1df03bf58a3749cf9a519c72a3cd6eb1",
      "placeholder": "​",
      "style": "IPY_MODEL_39f8e06f2a6c4a34b20e4400af0eb3a5",
      "value": " 709M/709M [00:04&lt;00:00, 166MB/s]"
     }
    },
    "0f90c8e7b019485f9a763af471bd9412": {
     "model_module": "@jupyter-widgets/base",
     "model_module_version": "1.2.0",
     "model_name": "LayoutModel",
     "state": {
      "_model_module": "@jupyter-widgets/base",
      "_model_module_version": "1.2.0",
      "_model_name": "LayoutModel",
      "_view_count": null,
      "_view_module": "@jupyter-widgets/base",
      "_view_module_version": "1.2.0",
      "_view_name": "LayoutView",
      "align_content": null,
      "align_items": null,
      "align_self": null,
      "border": null,
      "bottom": null,
      "display": null,
      "flex": null,
      "flex_flow": null,
      "grid_area": null,
      "grid_auto_columns": null,
      "grid_auto_flow": null,
      "grid_auto_rows": null,
      "grid_column": null,
      "grid_gap": null,
      "grid_row": null,
      "grid_template_areas": null,
      "grid_template_columns": null,
      "grid_template_rows": null,
      "height": null,
      "justify_content": null,
      "justify_items": null,
      "left": null,
      "margin": null,
      "max_height": null,
      "max_width": null,
      "min_height": null,
      "min_width": null,
      "object_fit": null,
      "object_position": null,
      "order": null,
      "overflow": null,
      "overflow_x": null,
      "overflow_y": null,
      "padding": null,
      "right": null,
      "top": null,
      "visibility": null,
      "width": null
     }
    },
    "144f251cf24c4c6290dd12ff28dcb3b1": {
     "model_module": "@jupyter-widgets/controls",
     "model_module_version": "1.5.0",
     "model_name": "DescriptionStyleModel",
     "state": {
      "_model_module": "@jupyter-widgets/controls",
      "_model_module_version": "1.5.0",
      "_model_name": "DescriptionStyleModel",
      "_view_count": null,
      "_view_module": "@jupyter-widgets/base",
      "_view_module_version": "1.2.0",
      "_view_name": "StyleView",
      "description_width": ""
     }
    },
    "1648440a54624a61ba16f621f1d65051": {
     "model_module": "@jupyter-widgets/controls",
     "model_module_version": "1.5.0",
     "model_name": "HBoxModel",
     "state": {
      "_dom_classes": [],
      "_model_module": "@jupyter-widgets/controls",
      "_model_module_version": "1.5.0",
      "_model_name": "HBoxModel",
      "_view_count": null,
      "_view_module": "@jupyter-widgets/controls",
      "_view_module_version": "1.5.0",
      "_view_name": "HBoxView",
      "box_style": "",
      "children": [
       "IPY_MODEL_b5187b920c6c4facb1794399e6cb1085",
       "IPY_MODEL_32d147fc28e84cc483228024ed5cbe69",
       "IPY_MODEL_166c9552ad4944e28c118aee610b29ef"
      ],
      "layout": "IPY_MODEL_0781044e951d410080b356822c8ed2ed"
     }
    },
    "166c9552ad4944e28c118aee610b29ef": {
     "model_module": "@jupyter-widgets/controls",
     "model_module_version": "1.5.0",
     "model_name": "HTMLModel",
     "state": {
      "_dom_classes": [],
      "_model_module": "@jupyter-widgets/controls",
      "_model_module_version": "1.5.0",
      "_model_name": "HTMLModel",
      "_view_count": null,
      "_view_module": "@jupyter-widgets/controls",
      "_view_module_version": "1.5.0",
      "_view_name": "HTMLView",
      "description": "",
      "description_tooltip": null,
      "layout": "IPY_MODEL_03b1c620d85042bc904f18b9ffc8bad8",
      "placeholder": "​",
      "style": "IPY_MODEL_3d893af58000457b9264d159adb4e4fd",
      "value": " 1.19k/1.19k [00:00&lt;00:00, 56.3kB/s]"
     }
    },
    "1db54a064f3c4fef8624443931f60b11": {
     "model_module": "@jupyter-widgets/controls",
     "model_module_version": "1.5.0",
     "model_name": "DescriptionStyleModel",
     "state": {
      "_model_module": "@jupyter-widgets/controls",
      "_model_module_version": "1.5.0",
      "_model_name": "DescriptionStyleModel",
      "_view_count": null,
      "_view_module": "@jupyter-widgets/base",
      "_view_module_version": "1.2.0",
      "_view_name": "StyleView",
      "description_width": ""
     }
    },
    "1df03bf58a3749cf9a519c72a3cd6eb1": {
     "model_module": "@jupyter-widgets/base",
     "model_module_version": "1.2.0",
     "model_name": "LayoutModel",
     "state": {
      "_model_module": "@jupyter-widgets/base",
      "_model_module_version": "1.2.0",
      "_model_name": "LayoutModel",
      "_view_count": null,
      "_view_module": "@jupyter-widgets/base",
      "_view_module_version": "1.2.0",
      "_view_name": "LayoutView",
      "align_content": null,
      "align_items": null,
      "align_self": null,
      "border": null,
      "bottom": null,
      "display": null,
      "flex": null,
      "flex_flow": null,
      "grid_area": null,
      "grid_auto_columns": null,
      "grid_auto_flow": null,
      "grid_auto_rows": null,
      "grid_column": null,
      "grid_gap": null,
      "grid_row": null,
      "grid_template_areas": null,
      "grid_template_columns": null,
      "grid_template_rows": null,
      "height": null,
      "justify_content": null,
      "justify_items": null,
      "left": null,
      "margin": null,
      "max_height": null,
      "max_width": null,
      "min_height": null,
      "min_width": null,
      "object_fit": null,
      "object_position": null,
      "order": null,
      "overflow": null,
      "overflow_x": null,
      "overflow_y": null,
      "padding": null,
      "right": null,
      "top": null,
      "visibility": null,
      "width": null
     }
    },
    "1e2941f0ca2a48d8a2c8712cfe211cac": {
     "model_module": "@jupyter-widgets/controls",
     "model_module_version": "1.5.0",
     "model_name": "HTMLModel",
     "state": {
      "_dom_classes": [],
      "_model_module": "@jupyter-widgets/controls",
      "_model_module_version": "1.5.0",
      "_model_name": "HTMLModel",
      "_view_count": null,
      "_view_module": "@jupyter-widgets/controls",
      "_view_module_version": "1.5.0",
      "_view_name": "HTMLView",
      "description": "",
      "description_tooltip": null,
      "layout": "IPY_MODEL_64d05a9b82074707be40b13a03beda80",
      "placeholder": "​",
      "style": "IPY_MODEL_411a31cba87542e996a9bb7be2f98761",
      "value": "special_tokens_map.json: 100%"
     }
    },
    "1f3fc7c7397b4b8ca230e48542852975": {
     "model_module": "@jupyter-widgets/base",
     "model_module_version": "1.2.0",
     "model_name": "LayoutModel",
     "state": {
      "_model_module": "@jupyter-widgets/base",
      "_model_module_version": "1.2.0",
      "_model_name": "LayoutModel",
      "_view_count": null,
      "_view_module": "@jupyter-widgets/base",
      "_view_module_version": "1.2.0",
      "_view_name": "LayoutView",
      "align_content": null,
      "align_items": null,
      "align_self": null,
      "border": null,
      "bottom": null,
      "display": null,
      "flex": null,
      "flex_flow": null,
      "grid_area": null,
      "grid_auto_columns": null,
      "grid_auto_flow": null,
      "grid_auto_rows": null,
      "grid_column": null,
      "grid_gap": null,
      "grid_row": null,
      "grid_template_areas": null,
      "grid_template_columns": null,
      "grid_template_rows": null,
      "height": null,
      "justify_content": null,
      "justify_items": null,
      "left": null,
      "margin": null,
      "max_height": null,
      "max_width": null,
      "min_height": null,
      "min_width": null,
      "object_fit": null,
      "object_position": null,
      "order": null,
      "overflow": null,
      "overflow_x": null,
      "overflow_y": null,
      "padding": null,
      "right": null,
      "top": null,
      "visibility": null,
      "width": null
     }
    },
    "2118d7aada9f4130aa9453d8fd05a54b": {
     "model_module": "@jupyter-widgets/base",
     "model_module_version": "1.2.0",
     "model_name": "LayoutModel",
     "state": {
      "_model_module": "@jupyter-widgets/base",
      "_model_module_version": "1.2.0",
      "_model_name": "LayoutModel",
      "_view_count": null,
      "_view_module": "@jupyter-widgets/base",
      "_view_module_version": "1.2.0",
      "_view_name": "LayoutView",
      "align_content": null,
      "align_items": null,
      "align_self": null,
      "border": null,
      "bottom": null,
      "display": null,
      "flex": null,
      "flex_flow": null,
      "grid_area": null,
      "grid_auto_columns": null,
      "grid_auto_flow": null,
      "grid_auto_rows": null,
      "grid_column": null,
      "grid_gap": null,
      "grid_row": null,
      "grid_template_areas": null,
      "grid_template_columns": null,
      "grid_template_rows": null,
      "height": null,
      "justify_content": null,
      "justify_items": null,
      "left": null,
      "margin": null,
      "max_height": null,
      "max_width": null,
      "min_height": null,
      "min_width": null,
      "object_fit": null,
      "object_position": null,
      "order": null,
      "overflow": null,
      "overflow_x": null,
      "overflow_y": null,
      "padding": null,
      "right": null,
      "top": null,
      "visibility": null,
      "width": null
     }
    },
    "2122b0f5124d444d81861d4e2a5460ca": {
     "model_module": "@jupyter-widgets/controls",
     "model_module_version": "1.5.0",
     "model_name": "DescriptionStyleModel",
     "state": {
      "_model_module": "@jupyter-widgets/controls",
      "_model_module_version": "1.5.0",
      "_model_name": "DescriptionStyleModel",
      "_view_count": null,
      "_view_module": "@jupyter-widgets/base",
      "_view_module_version": "1.2.0",
      "_view_name": "StyleView",
      "description_width": ""
     }
    },
    "244c8098d8ac4364ab9fc36e3bce1b74": {
     "model_module": "@jupyter-widgets/controls",
     "model_module_version": "1.5.0",
     "model_name": "DescriptionStyleModel",
     "state": {
      "_model_module": "@jupyter-widgets/controls",
      "_model_module_version": "1.5.0",
      "_model_name": "DescriptionStyleModel",
      "_view_count": null,
      "_view_module": "@jupyter-widgets/base",
      "_view_module_version": "1.2.0",
      "_view_name": "StyleView",
      "description_width": ""
     }
    },
    "248d9fcd296d4fd0903b7127f9cc7896": {
     "model_module": "@jupyter-widgets/controls",
     "model_module_version": "1.5.0",
     "model_name": "HBoxModel",
     "state": {
      "_dom_classes": [],
      "_model_module": "@jupyter-widgets/controls",
      "_model_module_version": "1.5.0",
      "_model_name": "HBoxModel",
      "_view_count": null,
      "_view_module": "@jupyter-widgets/controls",
      "_view_module_version": "1.5.0",
      "_view_name": "HBoxView",
      "box_style": "",
      "children": [
       "IPY_MODEL_f444e230367f4d3a8a3b078be76bb390",
       "IPY_MODEL_aea1442965984bae989f0fdb80af8982",
       "IPY_MODEL_fe2316faf2754bd9845d900c88284f2a"
      ],
      "layout": "IPY_MODEL_26f6dfa033224ed6bba678c379f48ee8"
     }
    },
    "26f6dfa033224ed6bba678c379f48ee8": {
     "model_module": "@jupyter-widgets/base",
     "model_module_version": "1.2.0",
     "model_name": "LayoutModel",
     "state": {
      "_model_module": "@jupyter-widgets/base",
      "_model_module_version": "1.2.0",
      "_model_name": "LayoutModel",
      "_view_count": null,
      "_view_module": "@jupyter-widgets/base",
      "_view_module_version": "1.2.0",
      "_view_name": "LayoutView",
      "align_content": null,
      "align_items": null,
      "align_self": null,
      "border": null,
      "bottom": null,
      "display": null,
      "flex": null,
      "flex_flow": null,
      "grid_area": null,
      "grid_auto_columns": null,
      "grid_auto_flow": null,
      "grid_auto_rows": null,
      "grid_column": null,
      "grid_gap": null,
      "grid_row": null,
      "grid_template_areas": null,
      "grid_template_columns": null,
      "grid_template_rows": null,
      "height": null,
      "justify_content": null,
      "justify_items": null,
      "left": null,
      "margin": null,
      "max_height": null,
      "max_width": null,
      "min_height": null,
      "min_width": null,
      "object_fit": null,
      "object_position": null,
      "order": null,
      "overflow": null,
      "overflow_x": null,
      "overflow_y": null,
      "padding": null,
      "right": null,
      "top": null,
      "visibility": null,
      "width": null
     }
    },
    "32d147fc28e84cc483228024ed5cbe69": {
     "model_module": "@jupyter-widgets/controls",
     "model_module_version": "1.5.0",
     "model_name": "FloatProgressModel",
     "state": {
      "_dom_classes": [],
      "_model_module": "@jupyter-widgets/controls",
      "_model_module_version": "1.5.0",
      "_model_name": "FloatProgressModel",
      "_view_count": null,
      "_view_module": "@jupyter-widgets/controls",
      "_view_module_version": "1.5.0",
      "_view_name": "ProgressView",
      "bar_style": "success",
      "description": "",
      "description_tooltip": null,
      "layout": "IPY_MODEL_8e535280a1404a76abe74124d74fc7ac",
      "max": 1185,
      "min": 0,
      "orientation": "horizontal",
      "style": "IPY_MODEL_ae197e918fcd47318e62095dbc96e72b",
      "value": 1185
     }
    },
    "336dc12a88734f91b352ea1ddcec4ab7": {
     "model_module": "@jupyter-widgets/controls",
     "model_module_version": "1.5.0",
     "model_name": "HBoxModel",
     "state": {
      "_dom_classes": [],
      "_model_module": "@jupyter-widgets/controls",
      "_model_module_version": "1.5.0",
      "_model_name": "HBoxModel",
      "_view_count": null,
      "_view_module": "@jupyter-widgets/controls",
      "_view_module_version": "1.5.0",
      "_view_name": "HBoxView",
      "box_style": "",
      "children": [
       "IPY_MODEL_8301fb426aae43d6998413e91b08732d",
       "IPY_MODEL_79c8cf8792b94225bd5a938f7299597f",
       "IPY_MODEL_5946b36e38784ad6916795df12309f10"
      ],
      "layout": "IPY_MODEL_55db65dac0164603970b74a6ad7fad90"
     }
    },
    "355454266444492897ab574dac77c594": {
     "model_module": "@jupyter-widgets/controls",
     "model_module_version": "1.5.0",
     "model_name": "HTMLModel",
     "state": {
      "_dom_classes": [],
      "_model_module": "@jupyter-widgets/controls",
      "_model_module_version": "1.5.0",
      "_model_name": "HTMLModel",
      "_view_count": null,
      "_view_module": "@jupyter-widgets/controls",
      "_view_module_version": "1.5.0",
      "_view_name": "HTMLView",
      "description": "",
      "description_tooltip": null,
      "layout": "IPY_MODEL_7d30128b6e8840d292d0e0333f5cb5e9",
      "placeholder": "​",
      "style": "IPY_MODEL_7cf2171daf2f4692afcf3c17d28b5e0a",
      "value": " 112/112 [00:00&lt;00:00, 7.25kB/s]"
     }
    },
    "39f8e06f2a6c4a34b20e4400af0eb3a5": {
     "model_module": "@jupyter-widgets/controls",
     "model_module_version": "1.5.0",
     "model_name": "DescriptionStyleModel",
     "state": {
      "_model_module": "@jupyter-widgets/controls",
      "_model_module_version": "1.5.0",
      "_model_name": "DescriptionStyleModel",
      "_view_count": null,
      "_view_module": "@jupyter-widgets/base",
      "_view_module_version": "1.2.0",
      "_view_name": "StyleView",
      "description_width": ""
     }
    },
    "3bd33b3e1b1e425091a73b711163cd23": {
     "model_module": "@jupyter-widgets/controls",
     "model_module_version": "1.5.0",
     "model_name": "DescriptionStyleModel",
     "state": {
      "_model_module": "@jupyter-widgets/controls",
      "_model_module_version": "1.5.0",
      "_model_name": "DescriptionStyleModel",
      "_view_count": null,
      "_view_module": "@jupyter-widgets/base",
      "_view_module_version": "1.2.0",
      "_view_name": "StyleView",
      "description_width": ""
     }
    },
    "3d893af58000457b9264d159adb4e4fd": {
     "model_module": "@jupyter-widgets/controls",
     "model_module_version": "1.5.0",
     "model_name": "DescriptionStyleModel",
     "state": {
      "_model_module": "@jupyter-widgets/controls",
      "_model_module_version": "1.5.0",
      "_model_name": "DescriptionStyleModel",
      "_view_count": null,
      "_view_module": "@jupyter-widgets/base",
      "_view_module_version": "1.2.0",
      "_view_name": "StyleView",
      "description_width": ""
     }
    },
    "411a31cba87542e996a9bb7be2f98761": {
     "model_module": "@jupyter-widgets/controls",
     "model_module_version": "1.5.0",
     "model_name": "DescriptionStyleModel",
     "state": {
      "_model_module": "@jupyter-widgets/controls",
      "_model_module_version": "1.5.0",
      "_model_name": "DescriptionStyleModel",
      "_view_count": null,
      "_view_module": "@jupyter-widgets/base",
      "_view_module_version": "1.2.0",
      "_view_name": "StyleView",
      "description_width": ""
     }
    },
    "42b74b4c32bf4e128a1473ab3365daeb": {
     "model_module": "@jupyter-widgets/base",
     "model_module_version": "1.2.0",
     "model_name": "LayoutModel",
     "state": {
      "_model_module": "@jupyter-widgets/base",
      "_model_module_version": "1.2.0",
      "_model_name": "LayoutModel",
      "_view_count": null,
      "_view_module": "@jupyter-widgets/base",
      "_view_module_version": "1.2.0",
      "_view_name": "LayoutView",
      "align_content": null,
      "align_items": null,
      "align_self": null,
      "border": null,
      "bottom": null,
      "display": null,
      "flex": null,
      "flex_flow": null,
      "grid_area": null,
      "grid_auto_columns": null,
      "grid_auto_flow": null,
      "grid_auto_rows": null,
      "grid_column": null,
      "grid_gap": null,
      "grid_row": null,
      "grid_template_areas": null,
      "grid_template_columns": null,
      "grid_template_rows": null,
      "height": null,
      "justify_content": null,
      "justify_items": null,
      "left": null,
      "margin": null,
      "max_height": null,
      "max_width": null,
      "min_height": null,
      "min_width": null,
      "object_fit": null,
      "object_position": null,
      "order": null,
      "overflow": null,
      "overflow_x": null,
      "overflow_y": null,
      "padding": null,
      "right": null,
      "top": null,
      "visibility": null,
      "width": null
     }
    },
    "47294ed79c224dac937c065c370e6041": {
     "model_module": "@jupyter-widgets/controls",
     "model_module_version": "1.5.0",
     "model_name": "HBoxModel",
     "state": {
      "_dom_classes": [],
      "_model_module": "@jupyter-widgets/controls",
      "_model_module_version": "1.5.0",
      "_model_name": "HBoxModel",
      "_view_count": null,
      "_view_module": "@jupyter-widgets/controls",
      "_view_module_version": "1.5.0",
      "_view_name": "HBoxView",
      "box_style": "",
      "children": [
       "IPY_MODEL_50f4359fd80646d4818d421138fff9f8",
       "IPY_MODEL_ef29430adf024bc1845895c03a2b4bda",
       "IPY_MODEL_5ea7263fb23f485e868ce6f149747030"
      ],
      "layout": "IPY_MODEL_06c9949f0b7e41b6876d8f9db23c6bf3"
     }
    },
    "4cb3ac050773448ca156cee4f685d504": {
     "model_module": "@jupyter-widgets/base",
     "model_module_version": "1.2.0",
     "model_name": "LayoutModel",
     "state": {
      "_model_module": "@jupyter-widgets/base",
      "_model_module_version": "1.2.0",
      "_model_name": "LayoutModel",
      "_view_count": null,
      "_view_module": "@jupyter-widgets/base",
      "_view_module_version": "1.2.0",
      "_view_name": "LayoutView",
      "align_content": null,
      "align_items": null,
      "align_self": null,
      "border": null,
      "bottom": null,
      "display": null,
      "flex": null,
      "flex_flow": null,
      "grid_area": null,
      "grid_auto_columns": null,
      "grid_auto_flow": null,
      "grid_auto_rows": null,
      "grid_column": null,
      "grid_gap": null,
      "grid_row": null,
      "grid_template_areas": null,
      "grid_template_columns": null,
      "grid_template_rows": null,
      "height": null,
      "justify_content": null,
      "justify_items": null,
      "left": null,
      "margin": null,
      "max_height": null,
      "max_width": null,
      "min_height": null,
      "min_width": null,
      "object_fit": null,
      "object_position": null,
      "order": null,
      "overflow": null,
      "overflow_x": null,
      "overflow_y": null,
      "padding": null,
      "right": null,
      "top": null,
      "visibility": null,
      "width": null
     }
    },
    "4ec66f9d2e9249a2b9dff76fe1d027a7": {
     "model_module": "@jupyter-widgets/controls",
     "model_module_version": "1.5.0",
     "model_name": "ProgressStyleModel",
     "state": {
      "_model_module": "@jupyter-widgets/controls",
      "_model_module_version": "1.5.0",
      "_model_name": "ProgressStyleModel",
      "_view_count": null,
      "_view_module": "@jupyter-widgets/base",
      "_view_module_version": "1.2.0",
      "_view_name": "StyleView",
      "bar_color": null,
      "description_width": ""
     }
    },
    "4f3e002c8003455d9000d8cb57721ffc": {
     "model_module": "@jupyter-widgets/controls",
     "model_module_version": "1.5.0",
     "model_name": "HBoxModel",
     "state": {
      "_dom_classes": [],
      "_model_module": "@jupyter-widgets/controls",
      "_model_module_version": "1.5.0",
      "_model_name": "HBoxModel",
      "_view_count": null,
      "_view_module": "@jupyter-widgets/controls",
      "_view_module_version": "1.5.0",
      "_view_name": "HBoxView",
      "box_style": "",
      "children": [
       "IPY_MODEL_1e2941f0ca2a48d8a2c8712cfe211cac",
       "IPY_MODEL_836332d7e0ff4582afb7cdd55e5561d8",
       "IPY_MODEL_355454266444492897ab574dac77c594"
      ],
      "layout": "IPY_MODEL_cae5f96d3599478fb9dd282a72643462"
     }
    },
    "50abd5b4f48740a2a7bc9b4db80143f4": {
     "model_module": "@jupyter-widgets/base",
     "model_module_version": "1.2.0",
     "model_name": "LayoutModel",
     "state": {
      "_model_module": "@jupyter-widgets/base",
      "_model_module_version": "1.2.0",
      "_model_name": "LayoutModel",
      "_view_count": null,
      "_view_module": "@jupyter-widgets/base",
      "_view_module_version": "1.2.0",
      "_view_name": "LayoutView",
      "align_content": null,
      "align_items": null,
      "align_self": null,
      "border": null,
      "bottom": null,
      "display": null,
      "flex": null,
      "flex_flow": null,
      "grid_area": null,
      "grid_auto_columns": null,
      "grid_auto_flow": null,
      "grid_auto_rows": null,
      "grid_column": null,
      "grid_gap": null,
      "grid_row": null,
      "grid_template_areas": null,
      "grid_template_columns": null,
      "grid_template_rows": null,
      "height": null,
      "justify_content": null,
      "justify_items": null,
      "left": null,
      "margin": null,
      "max_height": null,
      "max_width": null,
      "min_height": null,
      "min_width": null,
      "object_fit": null,
      "object_position": null,
      "order": null,
      "overflow": null,
      "overflow_x": null,
      "overflow_y": null,
      "padding": null,
      "right": null,
      "top": null,
      "visibility": null,
      "width": null
     }
    },
    "50f4359fd80646d4818d421138fff9f8": {
     "model_module": "@jupyter-widgets/controls",
     "model_module_version": "1.5.0",
     "model_name": "HTMLModel",
     "state": {
      "_dom_classes": [],
      "_model_module": "@jupyter-widgets/controls",
      "_model_module_version": "1.5.0",
      "_model_name": "HTMLModel",
      "_view_count": null,
      "_view_module": "@jupyter-widgets/controls",
      "_view_module_version": "1.5.0",
      "_view_name": "HTMLView",
      "description": "",
      "description_tooltip": null,
      "layout": "IPY_MODEL_995b215fad624234a1d9ebb5d550b1b6",
      "placeholder": "​",
      "style": "IPY_MODEL_d356dafa83d74f099817f53f0c8fbc68",
      "value": "Map: 100%"
     }
    },
    "513a5701fe164c46aef330c2df1b4bde": {
     "model_module": "@jupyter-widgets/base",
     "model_module_version": "1.2.0",
     "model_name": "LayoutModel",
     "state": {
      "_model_module": "@jupyter-widgets/base",
      "_model_module_version": "1.2.0",
      "_model_name": "LayoutModel",
      "_view_count": null,
      "_view_module": "@jupyter-widgets/base",
      "_view_module_version": "1.2.0",
      "_view_name": "LayoutView",
      "align_content": null,
      "align_items": null,
      "align_self": null,
      "border": null,
      "bottom": null,
      "display": null,
      "flex": null,
      "flex_flow": null,
      "grid_area": null,
      "grid_auto_columns": null,
      "grid_auto_flow": null,
      "grid_auto_rows": null,
      "grid_column": null,
      "grid_gap": null,
      "grid_row": null,
      "grid_template_areas": null,
      "grid_template_columns": null,
      "grid_template_rows": null,
      "height": null,
      "justify_content": null,
      "justify_items": null,
      "left": null,
      "margin": null,
      "max_height": null,
      "max_width": null,
      "min_height": null,
      "min_width": null,
      "object_fit": null,
      "object_position": null,
      "order": null,
      "overflow": null,
      "overflow_x": null,
      "overflow_y": null,
      "padding": null,
      "right": null,
      "top": null,
      "visibility": null,
      "width": null
     }
    },
    "54708878c154416aa5305956a0e2b215": {
     "model_module": "@jupyter-widgets/controls",
     "model_module_version": "1.5.0",
     "model_name": "HTMLModel",
     "state": {
      "_dom_classes": [],
      "_model_module": "@jupyter-widgets/controls",
      "_model_module_version": "1.5.0",
      "_model_name": "HTMLModel",
      "_view_count": null,
      "_view_module": "@jupyter-widgets/controls",
      "_view_module_version": "1.5.0",
      "_view_name": "HTMLView",
      "description": "",
      "description_tooltip": null,
      "layout": "IPY_MODEL_1f3fc7c7397b4b8ca230e48542852975",
      "placeholder": "​",
      "style": "IPY_MODEL_058893d3a6414ed291906ed24fb5a676",
      "value": "model.safetensors: 100%"
     }
    },
    "556056e52719488393ce1dfdda856f02": {
     "model_module": "@jupyter-widgets/controls",
     "model_module_version": "1.5.0",
     "model_name": "ProgressStyleModel",
     "state": {
      "_model_module": "@jupyter-widgets/controls",
      "_model_module_version": "1.5.0",
      "_model_name": "ProgressStyleModel",
      "_view_count": null,
      "_view_module": "@jupyter-widgets/base",
      "_view_module_version": "1.2.0",
      "_view_name": "StyleView",
      "bar_color": null,
      "description_width": ""
     }
    },
    "55db65dac0164603970b74a6ad7fad90": {
     "model_module": "@jupyter-widgets/base",
     "model_module_version": "1.2.0",
     "model_name": "LayoutModel",
     "state": {
      "_model_module": "@jupyter-widgets/base",
      "_model_module_version": "1.2.0",
      "_model_name": "LayoutModel",
      "_view_count": null,
      "_view_module": "@jupyter-widgets/base",
      "_view_module_version": "1.2.0",
      "_view_name": "LayoutView",
      "align_content": null,
      "align_items": null,
      "align_self": null,
      "border": null,
      "bottom": null,
      "display": null,
      "flex": null,
      "flex_flow": null,
      "grid_area": null,
      "grid_auto_columns": null,
      "grid_auto_flow": null,
      "grid_auto_rows": null,
      "grid_column": null,
      "grid_gap": null,
      "grid_row": null,
      "grid_template_areas": null,
      "grid_template_columns": null,
      "grid_template_rows": null,
      "height": null,
      "justify_content": null,
      "justify_items": null,
      "left": null,
      "margin": null,
      "max_height": null,
      "max_width": null,
      "min_height": null,
      "min_width": null,
      "object_fit": null,
      "object_position": null,
      "order": null,
      "overflow": null,
      "overflow_x": null,
      "overflow_y": null,
      "padding": null,
      "right": null,
      "top": null,
      "visibility": null,
      "width": null
     }
    },
    "5946b36e38784ad6916795df12309f10": {
     "model_module": "@jupyter-widgets/controls",
     "model_module_version": "1.5.0",
     "model_name": "HTMLModel",
     "state": {
      "_dom_classes": [],
      "_model_module": "@jupyter-widgets/controls",
      "_model_module_version": "1.5.0",
      "_model_name": "HTMLModel",
      "_view_count": null,
      "_view_module": "@jupyter-widgets/controls",
      "_view_module_version": "1.5.0",
      "_view_name": "HTMLView",
      "description": "",
      "description_tooltip": null,
      "layout": "IPY_MODEL_513a5701fe164c46aef330c2df1b4bde",
      "placeholder": "​",
      "style": "IPY_MODEL_144f251cf24c4c6290dd12ff28dcb3b1",
      "value": " 333/333 [00:00&lt;00:00, 21.8kB/s]"
     }
    },
    "5a6b22ecabc34381828faeaad6bc2454": {
     "model_module": "@jupyter-widgets/controls",
     "model_module_version": "1.5.0",
     "model_name": "HTMLModel",
     "state": {
      "_dom_classes": [],
      "_model_module": "@jupyter-widgets/controls",
      "_model_module_version": "1.5.0",
      "_model_name": "HTMLModel",
      "_view_count": null,
      "_view_module": "@jupyter-widgets/controls",
      "_view_module_version": "1.5.0",
      "_view_name": "HTMLView",
      "description": "",
      "description_tooltip": null,
      "layout": "IPY_MODEL_e72da7bdc2fd4ecbb5b7d6c30fda482c",
      "placeholder": "​",
      "style": "IPY_MODEL_85a3a2189a1f4781b530e8812e950cd1",
      "value": " 6.33k/? [00:00&lt;00:00, 426kB/s]"
     }
    },
    "5ea7263fb23f485e868ce6f149747030": {
     "model_module": "@jupyter-widgets/controls",
     "model_module_version": "1.5.0",
     "model_name": "HTMLModel",
     "state": {
      "_dom_classes": [],
      "_model_module": "@jupyter-widgets/controls",
      "_model_module_version": "1.5.0",
      "_model_name": "HTMLModel",
      "_view_count": null,
      "_view_module": "@jupyter-widgets/controls",
      "_view_module_version": "1.5.0",
      "_view_name": "HTMLView",
      "description": "",
      "description_tooltip": null,
      "layout": "IPY_MODEL_eada1fb8dd66489099dc8a040b4451b9",
      "placeholder": "​",
      "style": "IPY_MODEL_7d06ed7128184f5abe082f9afdb3e77e",
      "value": " 2000/2000 [00:08&lt;00:00, 245.68 examples/s]"
     }
    },
    "63ce0450c301471b8fac0962e72536e5": {
     "model_module": "@jupyter-widgets/controls",
     "model_module_version": "1.5.0",
     "model_name": "FloatProgressModel",
     "state": {
      "_dom_classes": [],
      "_model_module": "@jupyter-widgets/controls",
      "_model_module_version": "1.5.0",
      "_model_name": "FloatProgressModel",
      "_view_count": null,
      "_view_module": "@jupyter-widgets/controls",
      "_view_module_version": "1.5.0",
      "_view_name": "ProgressView",
      "bar_style": "success",
      "description": "",
      "description_tooltip": null,
      "layout": "IPY_MODEL_b525518280dc4c08ac55ee86f38bf679",
      "max": 2471,
      "min": 0,
      "orientation": "horizontal",
      "style": "IPY_MODEL_fa7306804d6b453c95c85718598f2a7c",
      "value": 2471
     }
    },
    "64d05a9b82074707be40b13a03beda80": {
     "model_module": "@jupyter-widgets/base",
     "model_module_version": "1.2.0",
     "model_name": "LayoutModel",
     "state": {
      "_model_module": "@jupyter-widgets/base",
      "_model_module_version": "1.2.0",
      "_model_name": "LayoutModel",
      "_view_count": null,
      "_view_module": "@jupyter-widgets/base",
      "_view_module_version": "1.2.0",
      "_view_name": "LayoutView",
      "align_content": null,
      "align_items": null,
      "align_self": null,
      "border": null,
      "bottom": null,
      "display": null,
      "flex": null,
      "flex_flow": null,
      "grid_area": null,
      "grid_auto_columns": null,
      "grid_auto_flow": null,
      "grid_auto_rows": null,
      "grid_column": null,
      "grid_gap": null,
      "grid_row": null,
      "grid_template_areas": null,
      "grid_template_columns": null,
      "grid_template_rows": null,
      "height": null,
      "justify_content": null,
      "justify_items": null,
      "left": null,
      "margin": null,
      "max_height": null,
      "max_width": null,
      "min_height": null,
      "min_width": null,
      "object_fit": null,
      "object_position": null,
      "order": null,
      "overflow": null,
      "overflow_x": null,
      "overflow_y": null,
      "padding": null,
      "right": null,
      "top": null,
      "visibility": null,
      "width": null
     }
    },
    "64e1d987382e486ab84a3afb672d690b": {
     "model_module": "@jupyter-widgets/controls",
     "model_module_version": "1.5.0",
     "model_name": "HTMLModel",
     "state": {
      "_dom_classes": [],
      "_model_module": "@jupyter-widgets/controls",
      "_model_module_version": "1.5.0",
      "_model_name": "HTMLModel",
      "_view_count": null,
      "_view_module": "@jupyter-widgets/controls",
      "_view_module_version": "1.5.0",
      "_view_name": "HTMLView",
      "description": "",
      "description_tooltip": null,
      "layout": "IPY_MODEL_2118d7aada9f4130aa9453d8fd05a54b",
      "placeholder": "​",
      "style": "IPY_MODEL_244c8098d8ac4364ab9fc36e3bce1b74",
      "value": " 1.96M/1.96M [00:00&lt;00:00, 18.4MB/s]"
     }
    },
    "6d33fe8b049c45258a9367f20c0e8ce8": {
     "model_module": "@jupyter-widgets/controls",
     "model_module_version": "1.5.0",
     "model_name": "ProgressStyleModel",
     "state": {
      "_model_module": "@jupyter-widgets/controls",
      "_model_module_version": "1.5.0",
      "_model_name": "ProgressStyleModel",
      "_view_count": null,
      "_view_module": "@jupyter-widgets/base",
      "_view_module_version": "1.2.0",
      "_view_name": "StyleView",
      "bar_color": null,
      "description_width": ""
     }
    },
    "75fb03eefa7f49aaaf63dc2db7704aaa": {
     "model_module": "@jupyter-widgets/base",
     "model_module_version": "1.2.0",
     "model_name": "LayoutModel",
     "state": {
      "_model_module": "@jupyter-widgets/base",
      "_model_module_version": "1.2.0",
      "_model_name": "LayoutModel",
      "_view_count": null,
      "_view_module": "@jupyter-widgets/base",
      "_view_module_version": "1.2.0",
      "_view_name": "LayoutView",
      "align_content": null,
      "align_items": null,
      "align_self": null,
      "border": null,
      "bottom": null,
      "display": null,
      "flex": null,
      "flex_flow": null,
      "grid_area": null,
      "grid_auto_columns": null,
      "grid_auto_flow": null,
      "grid_auto_rows": null,
      "grid_column": null,
      "grid_gap": null,
      "grid_row": null,
      "grid_template_areas": null,
      "grid_template_columns": null,
      "grid_template_rows": null,
      "height": null,
      "justify_content": null,
      "justify_items": null,
      "left": null,
      "margin": null,
      "max_height": null,
      "max_width": null,
      "min_height": null,
      "min_width": null,
      "object_fit": null,
      "object_position": null,
      "order": null,
      "overflow": null,
      "overflow_x": null,
      "overflow_y": null,
      "padding": null,
      "right": null,
      "top": null,
      "visibility": null,
      "width": null
     }
    },
    "7630fb58bf3e42d6b48a5f87fe1065cc": {
     "model_module": "@jupyter-widgets/base",
     "model_module_version": "1.2.0",
     "model_name": "LayoutModel",
     "state": {
      "_model_module": "@jupyter-widgets/base",
      "_model_module_version": "1.2.0",
      "_model_name": "LayoutModel",
      "_view_count": null,
      "_view_module": "@jupyter-widgets/base",
      "_view_module_version": "1.2.0",
      "_view_name": "LayoutView",
      "align_content": null,
      "align_items": null,
      "align_self": null,
      "border": null,
      "bottom": null,
      "display": null,
      "flex": null,
      "flex_flow": null,
      "grid_area": null,
      "grid_auto_columns": null,
      "grid_auto_flow": null,
      "grid_auto_rows": null,
      "grid_column": null,
      "grid_gap": null,
      "grid_row": null,
      "grid_template_areas": null,
      "grid_template_columns": null,
      "grid_template_rows": null,
      "height": null,
      "justify_content": null,
      "justify_items": null,
      "left": null,
      "margin": null,
      "max_height": null,
      "max_width": null,
      "min_height": null,
      "min_width": null,
      "object_fit": null,
      "object_position": null,
      "order": null,
      "overflow": null,
      "overflow_x": null,
      "overflow_y": null,
      "padding": null,
      "right": null,
      "top": null,
      "visibility": null,
      "width": null
     }
    },
    "797d8c0bfd9e42ab9028c816a1794fac": {
     "model_module": "@jupyter-widgets/controls",
     "model_module_version": "1.5.0",
     "model_name": "HTMLModel",
     "state": {
      "_dom_classes": [],
      "_model_module": "@jupyter-widgets/controls",
      "_model_module_version": "1.5.0",
      "_model_name": "HTMLModel",
      "_view_count": null,
      "_view_module": "@jupyter-widgets/controls",
      "_view_module_version": "1.5.0",
      "_view_name": "HTMLView",
      "description": "",
      "description_tooltip": null,
      "layout": "IPY_MODEL_e4aac0c7351c418585f1195dc6e4e7ed",
      "placeholder": "​",
      "style": "IPY_MODEL_b262bf167d744273906d4822661027c4",
      "value": "Map: 100%"
     }
    },
    "79c8cf8792b94225bd5a938f7299597f": {
     "model_module": "@jupyter-widgets/controls",
     "model_module_version": "1.5.0",
     "model_name": "FloatProgressModel",
     "state": {
      "_dom_classes": [],
      "_model_module": "@jupyter-widgets/controls",
      "_model_module_version": "1.5.0",
      "_model_name": "FloatProgressModel",
      "_view_count": null,
      "_view_module": "@jupyter-widgets/controls",
      "_view_module_version": "1.5.0",
      "_view_name": "ProgressView",
      "bar_style": "success",
      "description": "",
      "description_tooltip": null,
      "layout": "IPY_MODEL_bebc0a23a515479aaa0481c825f7d275",
      "max": 333,
      "min": 0,
      "orientation": "horizontal",
      "style": "IPY_MODEL_9f826dabf35644c3b9776f73b9203949",
      "value": 333
     }
    },
    "7b09de4a935346868a4f544fb7e047d4": {
     "model_module": "@jupyter-widgets/controls",
     "model_module_version": "1.5.0",
     "model_name": "FloatProgressModel",
     "state": {
      "_dom_classes": [],
      "_model_module": "@jupyter-widgets/controls",
      "_model_module_version": "1.5.0",
      "_model_name": "FloatProgressModel",
      "_view_count": null,
      "_view_module": "@jupyter-widgets/controls",
      "_view_module_version": "1.5.0",
      "_view_name": "ProgressView",
      "bar_style": "success",
      "description": "",
      "description_tooltip": null,
      "layout": "IPY_MODEL_e4134e0d83444c9b9d0aa51bd6e275aa",
      "max": 1961898,
      "min": 0,
      "orientation": "horizontal",
      "style": "IPY_MODEL_e05ebdfabbcd4f39a0887e44576b1624",
      "value": 1961898
     }
    },
    "7cf2171daf2f4692afcf3c17d28b5e0a": {
     "model_module": "@jupyter-widgets/controls",
     "model_module_version": "1.5.0",
     "model_name": "DescriptionStyleModel",
     "state": {
      "_model_module": "@jupyter-widgets/controls",
      "_model_module_version": "1.5.0",
      "_model_name": "DescriptionStyleModel",
      "_view_count": null,
      "_view_module": "@jupyter-widgets/base",
      "_view_module_version": "1.2.0",
      "_view_name": "StyleView",
      "description_width": ""
     }
    },
    "7d06ed7128184f5abe082f9afdb3e77e": {
     "model_module": "@jupyter-widgets/controls",
     "model_module_version": "1.5.0",
     "model_name": "DescriptionStyleModel",
     "state": {
      "_model_module": "@jupyter-widgets/controls",
      "_model_module_version": "1.5.0",
      "_model_name": "DescriptionStyleModel",
      "_view_count": null,
      "_view_module": "@jupyter-widgets/base",
      "_view_module_version": "1.2.0",
      "_view_name": "StyleView",
      "description_width": ""
     }
    },
    "7d30128b6e8840d292d0e0333f5cb5e9": {
     "model_module": "@jupyter-widgets/base",
     "model_module_version": "1.2.0",
     "model_name": "LayoutModel",
     "state": {
      "_model_module": "@jupyter-widgets/base",
      "_model_module_version": "1.2.0",
      "_model_name": "LayoutModel",
      "_view_count": null,
      "_view_module": "@jupyter-widgets/base",
      "_view_module_version": "1.2.0",
      "_view_name": "LayoutView",
      "align_content": null,
      "align_items": null,
      "align_self": null,
      "border": null,
      "bottom": null,
      "display": null,
      "flex": null,
      "flex_flow": null,
      "grid_area": null,
      "grid_auto_columns": null,
      "grid_auto_flow": null,
      "grid_auto_rows": null,
      "grid_column": null,
      "grid_gap": null,
      "grid_row": null,
      "grid_template_areas": null,
      "grid_template_columns": null,
      "grid_template_rows": null,
      "height": null,
      "justify_content": null,
      "justify_items": null,
      "left": null,
      "margin": null,
      "max_height": null,
      "max_width": null,
      "min_height": null,
      "min_width": null,
      "object_fit": null,
      "object_position": null,
      "order": null,
      "overflow": null,
      "overflow_x": null,
      "overflow_y": null,
      "padding": null,
      "right": null,
      "top": null,
      "visibility": null,
      "width": null
     }
    },
    "7f2631fde5d242cfa8943a78837de23b": {
     "model_module": "@jupyter-widgets/controls",
     "model_module_version": "1.5.0",
     "model_name": "DescriptionStyleModel",
     "state": {
      "_model_module": "@jupyter-widgets/controls",
      "_model_module_version": "1.5.0",
      "_model_name": "DescriptionStyleModel",
      "_view_count": null,
      "_view_module": "@jupyter-widgets/base",
      "_view_module_version": "1.2.0",
      "_view_name": "StyleView",
      "description_width": ""
     }
    },
    "8301fb426aae43d6998413e91b08732d": {
     "model_module": "@jupyter-widgets/controls",
     "model_module_version": "1.5.0",
     "model_name": "HTMLModel",
     "state": {
      "_dom_classes": [],
      "_model_module": "@jupyter-widgets/controls",
      "_model_module_version": "1.5.0",
      "_model_name": "HTMLModel",
      "_view_count": null,
      "_view_module": "@jupyter-widgets/controls",
      "_view_module_version": "1.5.0",
      "_view_name": "HTMLView",
      "description": "",
      "description_tooltip": null,
      "layout": "IPY_MODEL_94491c17b9084409be3750645e9df81d",
      "placeholder": "​",
      "style": "IPY_MODEL_ed830f8e9b174c1cab3df9719470c5ae",
      "value": "tokenizer_config.json: 100%"
     }
    },
    "836332d7e0ff4582afb7cdd55e5561d8": {
     "model_module": "@jupyter-widgets/controls",
     "model_module_version": "1.5.0",
     "model_name": "FloatProgressModel",
     "state": {
      "_dom_classes": [],
      "_model_module": "@jupyter-widgets/controls",
      "_model_module_version": "1.5.0",
      "_model_name": "FloatProgressModel",
      "_view_count": null,
      "_view_module": "@jupyter-widgets/controls",
      "_view_module_version": "1.5.0",
      "_view_name": "ProgressView",
      "bar_style": "success",
      "description": "",
      "description_tooltip": null,
      "layout": "IPY_MODEL_0f90c8e7b019485f9a763af471bd9412",
      "max": 112,
      "min": 0,
      "orientation": "horizontal",
      "style": "IPY_MODEL_6d33fe8b049c45258a9367f20c0e8ce8",
      "value": 112
     }
    },
    "859d1e44dbb84605a0fd21e5456ac64f": {
     "model_module": "@jupyter-widgets/controls",
     "model_module_version": "1.5.0",
     "model_name": "ProgressStyleModel",
     "state": {
      "_model_module": "@jupyter-widgets/controls",
      "_model_module_version": "1.5.0",
      "_model_name": "ProgressStyleModel",
      "_view_count": null,
      "_view_module": "@jupyter-widgets/base",
      "_view_module_version": "1.2.0",
      "_view_name": "StyleView",
      "bar_color": null,
      "description_width": ""
     }
    },
    "85a3a2189a1f4781b530e8812e950cd1": {
     "model_module": "@jupyter-widgets/controls",
     "model_module_version": "1.5.0",
     "model_name": "DescriptionStyleModel",
     "state": {
      "_model_module": "@jupyter-widgets/controls",
      "_model_module_version": "1.5.0",
      "_model_name": "DescriptionStyleModel",
      "_view_count": null,
      "_view_module": "@jupyter-widgets/base",
      "_view_module_version": "1.2.0",
      "_view_name": "StyleView",
      "description_width": ""
     }
    },
    "8aefdd671bbb42baafc606e9f92e5557": {
     "model_module": "@jupyter-widgets/controls",
     "model_module_version": "1.5.0",
     "model_name": "HTMLModel",
     "state": {
      "_dom_classes": [],
      "_model_module": "@jupyter-widgets/controls",
      "_model_module_version": "1.5.0",
      "_model_name": "HTMLModel",
      "_view_count": null,
      "_view_module": "@jupyter-widgets/controls",
      "_view_module_version": "1.5.0",
      "_view_name": "HTMLView",
      "description": "",
      "description_tooltip": null,
      "layout": "IPY_MODEL_f1df8b4fcc684f769027bdd7526b202e",
      "placeholder": "​",
      "style": "IPY_MODEL_02c60f6c2b7c4c808df0722ff4cbd1b5",
      "value": "Downloading builder script: "
     }
    },
    "8bceb62de14b4a078d3309ebc3ca3cdd": {
     "model_module": "@jupyter-widgets/base",
     "model_module_version": "1.2.0",
     "model_name": "LayoutModel",
     "state": {
      "_model_module": "@jupyter-widgets/base",
      "_model_module_version": "1.2.0",
      "_model_name": "LayoutModel",
      "_view_count": null,
      "_view_module": "@jupyter-widgets/base",
      "_view_module_version": "1.2.0",
      "_view_name": "LayoutView",
      "align_content": null,
      "align_items": null,
      "align_self": null,
      "border": null,
      "bottom": null,
      "display": null,
      "flex": null,
      "flex_flow": null,
      "grid_area": null,
      "grid_auto_columns": null,
      "grid_auto_flow": null,
      "grid_auto_rows": null,
      "grid_column": null,
      "grid_gap": null,
      "grid_row": null,
      "grid_template_areas": null,
      "grid_template_columns": null,
      "grid_template_rows": null,
      "height": null,
      "justify_content": null,
      "justify_items": null,
      "left": null,
      "margin": null,
      "max_height": null,
      "max_width": null,
      "min_height": null,
      "min_width": null,
      "object_fit": null,
      "object_position": null,
      "order": null,
      "overflow": null,
      "overflow_x": null,
      "overflow_y": null,
      "padding": null,
      "right": null,
      "top": null,
      "visibility": null,
      "width": null
     }
    },
    "8e535280a1404a76abe74124d74fc7ac": {
     "model_module": "@jupyter-widgets/base",
     "model_module_version": "1.2.0",
     "model_name": "LayoutModel",
     "state": {
      "_model_module": "@jupyter-widgets/base",
      "_model_module_version": "1.2.0",
      "_model_name": "LayoutModel",
      "_view_count": null,
      "_view_module": "@jupyter-widgets/base",
      "_view_module_version": "1.2.0",
      "_view_name": "LayoutView",
      "align_content": null,
      "align_items": null,
      "align_self": null,
      "border": null,
      "bottom": null,
      "display": null,
      "flex": null,
      "flex_flow": null,
      "grid_area": null,
      "grid_auto_columns": null,
      "grid_auto_flow": null,
      "grid_auto_rows": null,
      "grid_column": null,
      "grid_gap": null,
      "grid_row": null,
      "grid_template_areas": null,
      "grid_template_columns": null,
      "grid_template_rows": null,
      "height": null,
      "justify_content": null,
      "justify_items": null,
      "left": null,
      "margin": null,
      "max_height": null,
      "max_width": null,
      "min_height": null,
      "min_width": null,
      "object_fit": null,
      "object_position": null,
      "order": null,
      "overflow": null,
      "overflow_x": null,
      "overflow_y": null,
      "padding": null,
      "right": null,
      "top": null,
      "visibility": null,
      "width": null
     }
    },
    "90d22b98264a46919379fae677a9b335": {
     "model_module": "@jupyter-widgets/base",
     "model_module_version": "1.2.0",
     "model_name": "LayoutModel",
     "state": {
      "_model_module": "@jupyter-widgets/base",
      "_model_module_version": "1.2.0",
      "_model_name": "LayoutModel",
      "_view_count": null,
      "_view_module": "@jupyter-widgets/base",
      "_view_module_version": "1.2.0",
      "_view_name": "LayoutView",
      "align_content": null,
      "align_items": null,
      "align_self": null,
      "border": null,
      "bottom": null,
      "display": null,
      "flex": null,
      "flex_flow": null,
      "grid_area": null,
      "grid_auto_columns": null,
      "grid_auto_flow": null,
      "grid_auto_rows": null,
      "grid_column": null,
      "grid_gap": null,
      "grid_row": null,
      "grid_template_areas": null,
      "grid_template_columns": null,
      "grid_template_rows": null,
      "height": null,
      "justify_content": null,
      "justify_items": null,
      "left": null,
      "margin": null,
      "max_height": null,
      "max_width": null,
      "min_height": null,
      "min_width": null,
      "object_fit": null,
      "object_position": null,
      "order": null,
      "overflow": null,
      "overflow_x": null,
      "overflow_y": null,
      "padding": null,
      "right": null,
      "top": null,
      "visibility": null,
      "width": null
     }
    },
    "94491c17b9084409be3750645e9df81d": {
     "model_module": "@jupyter-widgets/base",
     "model_module_version": "1.2.0",
     "model_name": "LayoutModel",
     "state": {
      "_model_module": "@jupyter-widgets/base",
      "_model_module_version": "1.2.0",
      "_model_name": "LayoutModel",
      "_view_count": null,
      "_view_module": "@jupyter-widgets/base",
      "_view_module_version": "1.2.0",
      "_view_name": "LayoutView",
      "align_content": null,
      "align_items": null,
      "align_self": null,
      "border": null,
      "bottom": null,
      "display": null,
      "flex": null,
      "flex_flow": null,
      "grid_area": null,
      "grid_auto_columns": null,
      "grid_auto_flow": null,
      "grid_auto_rows": null,
      "grid_column": null,
      "grid_gap": null,
      "grid_row": null,
      "grid_template_areas": null,
      "grid_template_columns": null,
      "grid_template_rows": null,
      "height": null,
      "justify_content": null,
      "justify_items": null,
      "left": null,
      "margin": null,
      "max_height": null,
      "max_width": null,
      "min_height": null,
      "min_width": null,
      "object_fit": null,
      "object_position": null,
      "order": null,
      "overflow": null,
      "overflow_x": null,
      "overflow_y": null,
      "padding": null,
      "right": null,
      "top": null,
      "visibility": null,
      "width": null
     }
    },
    "995b215fad624234a1d9ebb5d550b1b6": {
     "model_module": "@jupyter-widgets/base",
     "model_module_version": "1.2.0",
     "model_name": "LayoutModel",
     "state": {
      "_model_module": "@jupyter-widgets/base",
      "_model_module_version": "1.2.0",
      "_model_name": "LayoutModel",
      "_view_count": null,
      "_view_module": "@jupyter-widgets/base",
      "_view_module_version": "1.2.0",
      "_view_name": "LayoutView",
      "align_content": null,
      "align_items": null,
      "align_self": null,
      "border": null,
      "bottom": null,
      "display": null,
      "flex": null,
      "flex_flow": null,
      "grid_area": null,
      "grid_auto_columns": null,
      "grid_auto_flow": null,
      "grid_auto_rows": null,
      "grid_column": null,
      "grid_gap": null,
      "grid_row": null,
      "grid_template_areas": null,
      "grid_template_columns": null,
      "grid_template_rows": null,
      "height": null,
      "justify_content": null,
      "justify_items": null,
      "left": null,
      "margin": null,
      "max_height": null,
      "max_width": null,
      "min_height": null,
      "min_width": null,
      "object_fit": null,
      "object_position": null,
      "order": null,
      "overflow": null,
      "overflow_x": null,
      "overflow_y": null,
      "padding": null,
      "right": null,
      "top": null,
      "visibility": null,
      "width": null
     }
    },
    "99c1034007a74b458906f0d26af025c3": {
     "model_module": "@jupyter-widgets/controls",
     "model_module_version": "1.5.0",
     "model_name": "HBoxModel",
     "state": {
      "_dom_classes": [],
      "_model_module": "@jupyter-widgets/controls",
      "_model_module_version": "1.5.0",
      "_model_name": "HBoxModel",
      "_view_count": null,
      "_view_module": "@jupyter-widgets/controls",
      "_view_module_version": "1.5.0",
      "_view_name": "HBoxView",
      "box_style": "",
      "children": [
       "IPY_MODEL_797d8c0bfd9e42ab9028c816a1794fac",
       "IPY_MODEL_f89c0b6c4ee34dd9bb87429287f6006d",
       "IPY_MODEL_f561605e61c94dcf9dd30f99d1202257"
      ],
      "layout": "IPY_MODEL_0345452718a2461080a05b47b3232c5f"
     }
    },
    "9db3a4408d7c42cda76bc80200fb1fc3": {
     "model_module": "@jupyter-widgets/base",
     "model_module_version": "1.2.0",
     "model_name": "LayoutModel",
     "state": {
      "_model_module": "@jupyter-widgets/base",
      "_model_module_version": "1.2.0",
      "_model_name": "LayoutModel",
      "_view_count": null,
      "_view_module": "@jupyter-widgets/base",
      "_view_module_version": "1.2.0",
      "_view_name": "LayoutView",
      "align_content": null,
      "align_items": null,
      "align_self": null,
      "border": null,
      "bottom": null,
      "display": null,
      "flex": null,
      "flex_flow": null,
      "grid_area": null,
      "grid_auto_columns": null,
      "grid_auto_flow": null,
      "grid_auto_rows": null,
      "grid_column": null,
      "grid_gap": null,
      "grid_row": null,
      "grid_template_areas": null,
      "grid_template_columns": null,
      "grid_template_rows": null,
      "height": null,
      "justify_content": null,
      "justify_items": null,
      "left": null,
      "margin": null,
      "max_height": null,
      "max_width": null,
      "min_height": null,
      "min_width": null,
      "object_fit": null,
      "object_position": null,
      "order": null,
      "overflow": null,
      "overflow_x": null,
      "overflow_y": null,
      "padding": null,
      "right": null,
      "top": null,
      "visibility": null,
      "width": null
     }
    },
    "9f826dabf35644c3b9776f73b9203949": {
     "model_module": "@jupyter-widgets/controls",
     "model_module_version": "1.5.0",
     "model_name": "ProgressStyleModel",
     "state": {
      "_model_module": "@jupyter-widgets/controls",
      "_model_module_version": "1.5.0",
      "_model_name": "ProgressStyleModel",
      "_view_count": null,
      "_view_module": "@jupyter-widgets/base",
      "_view_module_version": "1.2.0",
      "_view_name": "StyleView",
      "bar_color": null,
      "description_width": ""
     }
    },
    "ae197e918fcd47318e62095dbc96e72b": {
     "model_module": "@jupyter-widgets/controls",
     "model_module_version": "1.5.0",
     "model_name": "ProgressStyleModel",
     "state": {
      "_model_module": "@jupyter-widgets/controls",
      "_model_module_version": "1.5.0",
      "_model_name": "ProgressStyleModel",
      "_view_count": null,
      "_view_module": "@jupyter-widgets/base",
      "_view_module_version": "1.2.0",
      "_view_name": "StyleView",
      "bar_color": null,
      "description_width": ""
     }
    },
    "aea1442965984bae989f0fdb80af8982": {
     "model_module": "@jupyter-widgets/controls",
     "model_module_version": "1.5.0",
     "model_name": "FloatProgressModel",
     "state": {
      "_dom_classes": [],
      "_model_module": "@jupyter-widgets/controls",
      "_model_module_version": "1.5.0",
      "_model_name": "FloatProgressModel",
      "_view_count": null,
      "_view_module": "@jupyter-widgets/controls",
      "_view_module_version": "1.5.0",
      "_view_name": "ProgressView",
      "bar_style": "success",
      "description": "",
      "description_tooltip": null,
      "layout": "IPY_MODEL_50abd5b4f48740a2a7bc9b4db80143f4",
      "max": 995526,
      "min": 0,
      "orientation": "horizontal",
      "style": "IPY_MODEL_cd7787d3f8bc495ab3164ee467a3f0d8",
      "value": 995526
     }
    },
    "b262bf167d744273906d4822661027c4": {
     "model_module": "@jupyter-widgets/controls",
     "model_module_version": "1.5.0",
     "model_name": "DescriptionStyleModel",
     "state": {
      "_model_module": "@jupyter-widgets/controls",
      "_model_module_version": "1.5.0",
      "_model_name": "DescriptionStyleModel",
      "_view_count": null,
      "_view_module": "@jupyter-widgets/base",
      "_view_module_version": "1.2.0",
      "_view_name": "StyleView",
      "description_width": ""
     }
    },
    "b5187b920c6c4facb1794399e6cb1085": {
     "model_module": "@jupyter-widgets/controls",
     "model_module_version": "1.5.0",
     "model_name": "HTMLModel",
     "state": {
      "_dom_classes": [],
      "_model_module": "@jupyter-widgets/controls",
      "_model_module_version": "1.5.0",
      "_model_name": "HTMLModel",
      "_view_count": null,
      "_view_module": "@jupyter-widgets/controls",
      "_view_module_version": "1.5.0",
      "_view_name": "HTMLView",
      "description": "",
      "description_tooltip": null,
      "layout": "IPY_MODEL_42b74b4c32bf4e128a1473ab3365daeb",
      "placeholder": "​",
      "style": "IPY_MODEL_d2e11a91852645cb922510a80e590f0f",
      "value": "config.json: 100%"
     }
    },
    "b525518280dc4c08ac55ee86f38bf679": {
     "model_module": "@jupyter-widgets/base",
     "model_module_version": "1.2.0",
     "model_name": "LayoutModel",
     "state": {
      "_model_module": "@jupyter-widgets/base",
      "_model_module_version": "1.2.0",
      "_model_name": "LayoutModel",
      "_view_count": null,
      "_view_module": "@jupyter-widgets/base",
      "_view_module_version": "1.2.0",
      "_view_name": "LayoutView",
      "align_content": null,
      "align_items": null,
      "align_self": null,
      "border": null,
      "bottom": null,
      "display": null,
      "flex": null,
      "flex_flow": null,
      "grid_area": null,
      "grid_auto_columns": null,
      "grid_auto_flow": null,
      "grid_auto_rows": null,
      "grid_column": null,
      "grid_gap": null,
      "grid_row": null,
      "grid_template_areas": null,
      "grid_template_columns": null,
      "grid_template_rows": null,
      "height": null,
      "justify_content": null,
      "justify_items": null,
      "left": null,
      "margin": null,
      "max_height": null,
      "max_width": null,
      "min_height": null,
      "min_width": null,
      "object_fit": null,
      "object_position": null,
      "order": null,
      "overflow": null,
      "overflow_x": null,
      "overflow_y": null,
      "padding": null,
      "right": null,
      "top": null,
      "visibility": null,
      "width": null
     }
    },
    "b743c841f40b4c18a38545a7507ff7f0": {
     "model_module": "@jupyter-widgets/base",
     "model_module_version": "1.2.0",
     "model_name": "LayoutModel",
     "state": {
      "_model_module": "@jupyter-widgets/base",
      "_model_module_version": "1.2.0",
      "_model_name": "LayoutModel",
      "_view_count": null,
      "_view_module": "@jupyter-widgets/base",
      "_view_module_version": "1.2.0",
      "_view_name": "LayoutView",
      "align_content": null,
      "align_items": null,
      "align_self": null,
      "border": null,
      "bottom": null,
      "display": null,
      "flex": null,
      "flex_flow": null,
      "grid_area": null,
      "grid_auto_columns": null,
      "grid_auto_flow": null,
      "grid_auto_rows": null,
      "grid_column": null,
      "grid_gap": null,
      "grid_row": null,
      "grid_template_areas": null,
      "grid_template_columns": null,
      "grid_template_rows": null,
      "height": null,
      "justify_content": null,
      "justify_items": null,
      "left": null,
      "margin": null,
      "max_height": null,
      "max_width": null,
      "min_height": null,
      "min_width": null,
      "object_fit": null,
      "object_position": null,
      "order": null,
      "overflow": null,
      "overflow_x": null,
      "overflow_y": null,
      "padding": null,
      "right": null,
      "top": null,
      "visibility": null,
      "width": null
     }
    },
    "bb23bf25236c474abd592c3e5b54e518": {
     "model_module": "@jupyter-widgets/controls",
     "model_module_version": "1.5.0",
     "model_name": "FloatProgressModel",
     "state": {
      "_dom_classes": [],
      "_model_module": "@jupyter-widgets/controls",
      "_model_module_version": "1.5.0",
      "_model_name": "FloatProgressModel",
      "_view_count": null,
      "_view_module": "@jupyter-widgets/controls",
      "_view_module_version": "1.5.0",
      "_view_name": "ProgressView",
      "bar_style": "success",
      "description": "",
      "description_tooltip": null,
      "layout": "IPY_MODEL_d3803a2a63a9456da9fea507217cf425",
      "max": 709106622,
      "min": 0,
      "orientation": "horizontal",
      "style": "IPY_MODEL_859d1e44dbb84605a0fd21e5456ac64f",
      "value": 709106622
     }
    },
    "bebc0a23a515479aaa0481c825f7d275": {
     "model_module": "@jupyter-widgets/base",
     "model_module_version": "1.2.0",
     "model_name": "LayoutModel",
     "state": {
      "_model_module": "@jupyter-widgets/base",
      "_model_module_version": "1.2.0",
      "_model_name": "LayoutModel",
      "_view_count": null,
      "_view_module": "@jupyter-widgets/base",
      "_view_module_version": "1.2.0",
      "_view_name": "LayoutView",
      "align_content": null,
      "align_items": null,
      "align_self": null,
      "border": null,
      "bottom": null,
      "display": null,
      "flex": null,
      "flex_flow": null,
      "grid_area": null,
      "grid_auto_columns": null,
      "grid_auto_flow": null,
      "grid_auto_rows": null,
      "grid_column": null,
      "grid_gap": null,
      "grid_row": null,
      "grid_template_areas": null,
      "grid_template_columns": null,
      "grid_template_rows": null,
      "height": null,
      "justify_content": null,
      "justify_items": null,
      "left": null,
      "margin": null,
      "max_height": null,
      "max_width": null,
      "min_height": null,
      "min_width": null,
      "object_fit": null,
      "object_position": null,
      "order": null,
      "overflow": null,
      "overflow_x": null,
      "overflow_y": null,
      "padding": null,
      "right": null,
      "top": null,
      "visibility": null,
      "width": null
     }
    },
    "cae5f96d3599478fb9dd282a72643462": {
     "model_module": "@jupyter-widgets/base",
     "model_module_version": "1.2.0",
     "model_name": "LayoutModel",
     "state": {
      "_model_module": "@jupyter-widgets/base",
      "_model_module_version": "1.2.0",
      "_model_name": "LayoutModel",
      "_view_count": null,
      "_view_module": "@jupyter-widgets/base",
      "_view_module_version": "1.2.0",
      "_view_name": "LayoutView",
      "align_content": null,
      "align_items": null,
      "align_self": null,
      "border": null,
      "bottom": null,
      "display": null,
      "flex": null,
      "flex_flow": null,
      "grid_area": null,
      "grid_auto_columns": null,
      "grid_auto_flow": null,
      "grid_auto_rows": null,
      "grid_column": null,
      "grid_gap": null,
      "grid_row": null,
      "grid_template_areas": null,
      "grid_template_columns": null,
      "grid_template_rows": null,
      "height": null,
      "justify_content": null,
      "justify_items": null,
      "left": null,
      "margin": null,
      "max_height": null,
      "max_width": null,
      "min_height": null,
      "min_width": null,
      "object_fit": null,
      "object_position": null,
      "order": null,
      "overflow": null,
      "overflow_x": null,
      "overflow_y": null,
      "padding": null,
      "right": null,
      "top": null,
      "visibility": null,
      "width": null
     }
    },
    "cbd887df91d84f33b18cf5c8d1bb294f": {
     "model_module": "@jupyter-widgets/base",
     "model_module_version": "1.2.0",
     "model_name": "LayoutModel",
     "state": {
      "_model_module": "@jupyter-widgets/base",
      "_model_module_version": "1.2.0",
      "_model_name": "LayoutModel",
      "_view_count": null,
      "_view_module": "@jupyter-widgets/base",
      "_view_module_version": "1.2.0",
      "_view_name": "LayoutView",
      "align_content": null,
      "align_items": null,
      "align_self": null,
      "border": null,
      "bottom": null,
      "display": null,
      "flex": null,
      "flex_flow": null,
      "grid_area": null,
      "grid_auto_columns": null,
      "grid_auto_flow": null,
      "grid_auto_rows": null,
      "grid_column": null,
      "grid_gap": null,
      "grid_row": null,
      "grid_template_areas": null,
      "grid_template_columns": null,
      "grid_template_rows": null,
      "height": null,
      "justify_content": null,
      "justify_items": null,
      "left": null,
      "margin": null,
      "max_height": null,
      "max_width": null,
      "min_height": null,
      "min_width": null,
      "object_fit": null,
      "object_position": null,
      "order": null,
      "overflow": null,
      "overflow_x": null,
      "overflow_y": null,
      "padding": null,
      "right": null,
      "top": null,
      "visibility": null,
      "width": null
     }
    },
    "cd7787d3f8bc495ab3164ee467a3f0d8": {
     "model_module": "@jupyter-widgets/controls",
     "model_module_version": "1.5.0",
     "model_name": "ProgressStyleModel",
     "state": {
      "_model_module": "@jupyter-widgets/controls",
      "_model_module_version": "1.5.0",
      "_model_name": "ProgressStyleModel",
      "_view_count": null,
      "_view_module": "@jupyter-widgets/base",
      "_view_module_version": "1.2.0",
      "_view_name": "StyleView",
      "bar_color": null,
      "description_width": ""
     }
    },
    "d2e11a91852645cb922510a80e590f0f": {
     "model_module": "@jupyter-widgets/controls",
     "model_module_version": "1.5.0",
     "model_name": "DescriptionStyleModel",
     "state": {
      "_model_module": "@jupyter-widgets/controls",
      "_model_module_version": "1.5.0",
      "_model_name": "DescriptionStyleModel",
      "_view_count": null,
      "_view_module": "@jupyter-widgets/base",
      "_view_module_version": "1.2.0",
      "_view_name": "StyleView",
      "description_width": ""
     }
    },
    "d356dafa83d74f099817f53f0c8fbc68": {
     "model_module": "@jupyter-widgets/controls",
     "model_module_version": "1.5.0",
     "model_name": "DescriptionStyleModel",
     "state": {
      "_model_module": "@jupyter-widgets/controls",
      "_model_module_version": "1.5.0",
      "_model_name": "DescriptionStyleModel",
      "_view_count": null,
      "_view_module": "@jupyter-widgets/base",
      "_view_module_version": "1.2.0",
      "_view_name": "StyleView",
      "description_width": ""
     }
    },
    "d3803a2a63a9456da9fea507217cf425": {
     "model_module": "@jupyter-widgets/base",
     "model_module_version": "1.2.0",
     "model_name": "LayoutModel",
     "state": {
      "_model_module": "@jupyter-widgets/base",
      "_model_module_version": "1.2.0",
      "_model_name": "LayoutModel",
      "_view_count": null,
      "_view_module": "@jupyter-widgets/base",
      "_view_module_version": "1.2.0",
      "_view_name": "LayoutView",
      "align_content": null,
      "align_items": null,
      "align_self": null,
      "border": null,
      "bottom": null,
      "display": null,
      "flex": null,
      "flex_flow": null,
      "grid_area": null,
      "grid_auto_columns": null,
      "grid_auto_flow": null,
      "grid_auto_rows": null,
      "grid_column": null,
      "grid_gap": null,
      "grid_row": null,
      "grid_template_areas": null,
      "grid_template_columns": null,
      "grid_template_rows": null,
      "height": null,
      "justify_content": null,
      "justify_items": null,
      "left": null,
      "margin": null,
      "max_height": null,
      "max_width": null,
      "min_height": null,
      "min_width": null,
      "object_fit": null,
      "object_position": null,
      "order": null,
      "overflow": null,
      "overflow_x": null,
      "overflow_y": null,
      "padding": null,
      "right": null,
      "top": null,
      "visibility": null,
      "width": null
     }
    },
    "d94f107a82e5430481c36f59d1a0f506": {
     "model_module": "@jupyter-widgets/base",
     "model_module_version": "1.2.0",
     "model_name": "LayoutModel",
     "state": {
      "_model_module": "@jupyter-widgets/base",
      "_model_module_version": "1.2.0",
      "_model_name": "LayoutModel",
      "_view_count": null,
      "_view_module": "@jupyter-widgets/base",
      "_view_module_version": "1.2.0",
      "_view_name": "LayoutView",
      "align_content": null,
      "align_items": null,
      "align_self": null,
      "border": null,
      "bottom": null,
      "display": null,
      "flex": null,
      "flex_flow": null,
      "grid_area": null,
      "grid_auto_columns": null,
      "grid_auto_flow": null,
      "grid_auto_rows": null,
      "grid_column": null,
      "grid_gap": null,
      "grid_row": null,
      "grid_template_areas": null,
      "grid_template_columns": null,
      "grid_template_rows": null,
      "height": null,
      "justify_content": null,
      "justify_items": null,
      "left": null,
      "margin": null,
      "max_height": null,
      "max_width": null,
      "min_height": null,
      "min_width": null,
      "object_fit": null,
      "object_position": null,
      "order": null,
      "overflow": null,
      "overflow_x": null,
      "overflow_y": null,
      "padding": null,
      "right": null,
      "top": null,
      "visibility": null,
      "width": null
     }
    },
    "e05ebdfabbcd4f39a0887e44576b1624": {
     "model_module": "@jupyter-widgets/controls",
     "model_module_version": "1.5.0",
     "model_name": "ProgressStyleModel",
     "state": {
      "_model_module": "@jupyter-widgets/controls",
      "_model_module_version": "1.5.0",
      "_model_name": "ProgressStyleModel",
      "_view_count": null,
      "_view_module": "@jupyter-widgets/base",
      "_view_module_version": "1.2.0",
      "_view_name": "StyleView",
      "bar_color": null,
      "description_width": ""
     }
    },
    "e1c395cca89d4079a4d41e383bbee7bb": {
     "model_module": "@jupyter-widgets/controls",
     "model_module_version": "1.5.0",
     "model_name": "HTMLModel",
     "state": {
      "_dom_classes": [],
      "_model_module": "@jupyter-widgets/controls",
      "_model_module_version": "1.5.0",
      "_model_name": "HTMLModel",
      "_view_count": null,
      "_view_module": "@jupyter-widgets/controls",
      "_view_module_version": "1.5.0",
      "_view_name": "HTMLView",
      "description": "",
      "description_tooltip": null,
      "layout": "IPY_MODEL_b743c841f40b4c18a38545a7507ff7f0",
      "placeholder": "​",
      "style": "IPY_MODEL_3bd33b3e1b1e425091a73b711163cd23",
      "value": "tokenizer.json: 100%"
     }
    },
    "e3b79ddae8e94dbf99b39c527f02b01f": {
     "model_module": "@jupyter-widgets/controls",
     "model_module_version": "1.5.0",
     "model_name": "HBoxModel",
     "state": {
      "_dom_classes": [],
      "_model_module": "@jupyter-widgets/controls",
      "_model_module_version": "1.5.0",
      "_model_name": "HBoxModel",
      "_view_count": null,
      "_view_module": "@jupyter-widgets/controls",
      "_view_module_version": "1.5.0",
      "_view_name": "HBoxView",
      "box_style": "",
      "children": [
       "IPY_MODEL_e1c395cca89d4079a4d41e383bbee7bb",
       "IPY_MODEL_7b09de4a935346868a4f544fb7e047d4",
       "IPY_MODEL_64e1d987382e486ab84a3afb672d690b"
      ],
      "layout": "IPY_MODEL_cbd887df91d84f33b18cf5c8d1bb294f"
     }
    },
    "e4134e0d83444c9b9d0aa51bd6e275aa": {
     "model_module": "@jupyter-widgets/base",
     "model_module_version": "1.2.0",
     "model_name": "LayoutModel",
     "state": {
      "_model_module": "@jupyter-widgets/base",
      "_model_module_version": "1.2.0",
      "_model_name": "LayoutModel",
      "_view_count": null,
      "_view_module": "@jupyter-widgets/base",
      "_view_module_version": "1.2.0",
      "_view_name": "LayoutView",
      "align_content": null,
      "align_items": null,
      "align_self": null,
      "border": null,
      "bottom": null,
      "display": null,
      "flex": null,
      "flex_flow": null,
      "grid_area": null,
      "grid_auto_columns": null,
      "grid_auto_flow": null,
      "grid_auto_rows": null,
      "grid_column": null,
      "grid_gap": null,
      "grid_row": null,
      "grid_template_areas": null,
      "grid_template_columns": null,
      "grid_template_rows": null,
      "height": null,
      "justify_content": null,
      "justify_items": null,
      "left": null,
      "margin": null,
      "max_height": null,
      "max_width": null,
      "min_height": null,
      "min_width": null,
      "object_fit": null,
      "object_position": null,
      "order": null,
      "overflow": null,
      "overflow_x": null,
      "overflow_y": null,
      "padding": null,
      "right": null,
      "top": null,
      "visibility": null,
      "width": null
     }
    },
    "e4aac0c7351c418585f1195dc6e4e7ed": {
     "model_module": "@jupyter-widgets/base",
     "model_module_version": "1.2.0",
     "model_name": "LayoutModel",
     "state": {
      "_model_module": "@jupyter-widgets/base",
      "_model_module_version": "1.2.0",
      "_model_name": "LayoutModel",
      "_view_count": null,
      "_view_module": "@jupyter-widgets/base",
      "_view_module_version": "1.2.0",
      "_view_name": "LayoutView",
      "align_content": null,
      "align_items": null,
      "align_self": null,
      "border": null,
      "bottom": null,
      "display": null,
      "flex": null,
      "flex_flow": null,
      "grid_area": null,
      "grid_auto_columns": null,
      "grid_auto_flow": null,
      "grid_auto_rows": null,
      "grid_column": null,
      "grid_gap": null,
      "grid_row": null,
      "grid_template_areas": null,
      "grid_template_columns": null,
      "grid_template_rows": null,
      "height": null,
      "justify_content": null,
      "justify_items": null,
      "left": null,
      "margin": null,
      "max_height": null,
      "max_width": null,
      "min_height": null,
      "min_width": null,
      "object_fit": null,
      "object_position": null,
      "order": null,
      "overflow": null,
      "overflow_x": null,
      "overflow_y": null,
      "padding": null,
      "right": null,
      "top": null,
      "visibility": null,
      "width": null
     }
    },
    "e72da7bdc2fd4ecbb5b7d6c30fda482c": {
     "model_module": "@jupyter-widgets/base",
     "model_module_version": "1.2.0",
     "model_name": "LayoutModel",
     "state": {
      "_model_module": "@jupyter-widgets/base",
      "_model_module_version": "1.2.0",
      "_model_name": "LayoutModel",
      "_view_count": null,
      "_view_module": "@jupyter-widgets/base",
      "_view_module_version": "1.2.0",
      "_view_name": "LayoutView",
      "align_content": null,
      "align_items": null,
      "align_self": null,
      "border": null,
      "bottom": null,
      "display": null,
      "flex": null,
      "flex_flow": null,
      "grid_area": null,
      "grid_auto_columns": null,
      "grid_auto_flow": null,
      "grid_auto_rows": null,
      "grid_column": null,
      "grid_gap": null,
      "grid_row": null,
      "grid_template_areas": null,
      "grid_template_columns": null,
      "grid_template_rows": null,
      "height": null,
      "justify_content": null,
      "justify_items": null,
      "left": null,
      "margin": null,
      "max_height": null,
      "max_width": null,
      "min_height": null,
      "min_width": null,
      "object_fit": null,
      "object_position": null,
      "order": null,
      "overflow": null,
      "overflow_x": null,
      "overflow_y": null,
      "padding": null,
      "right": null,
      "top": null,
      "visibility": null,
      "width": null
     }
    },
    "eada1fb8dd66489099dc8a040b4451b9": {
     "model_module": "@jupyter-widgets/base",
     "model_module_version": "1.2.0",
     "model_name": "LayoutModel",
     "state": {
      "_model_module": "@jupyter-widgets/base",
      "_model_module_version": "1.2.0",
      "_model_name": "LayoutModel",
      "_view_count": null,
      "_view_module": "@jupyter-widgets/base",
      "_view_module_version": "1.2.0",
      "_view_name": "LayoutView",
      "align_content": null,
      "align_items": null,
      "align_self": null,
      "border": null,
      "bottom": null,
      "display": null,
      "flex": null,
      "flex_flow": null,
      "grid_area": null,
      "grid_auto_columns": null,
      "grid_auto_flow": null,
      "grid_auto_rows": null,
      "grid_column": null,
      "grid_gap": null,
      "grid_row": null,
      "grid_template_areas": null,
      "grid_template_columns": null,
      "grid_template_rows": null,
      "height": null,
      "justify_content": null,
      "justify_items": null,
      "left": null,
      "margin": null,
      "max_height": null,
      "max_width": null,
      "min_height": null,
      "min_width": null,
      "object_fit": null,
      "object_position": null,
      "order": null,
      "overflow": null,
      "overflow_x": null,
      "overflow_y": null,
      "padding": null,
      "right": null,
      "top": null,
      "visibility": null,
      "width": null
     }
    },
    "ed830f8e9b174c1cab3df9719470c5ae": {
     "model_module": "@jupyter-widgets/controls",
     "model_module_version": "1.5.0",
     "model_name": "DescriptionStyleModel",
     "state": {
      "_model_module": "@jupyter-widgets/controls",
      "_model_module_version": "1.5.0",
      "_model_name": "DescriptionStyleModel",
      "_view_count": null,
      "_view_module": "@jupyter-widgets/base",
      "_view_module_version": "1.2.0",
      "_view_name": "StyleView",
      "description_width": ""
     }
    },
    "ef29430adf024bc1845895c03a2b4bda": {
     "model_module": "@jupyter-widgets/controls",
     "model_module_version": "1.5.0",
     "model_name": "FloatProgressModel",
     "state": {
      "_dom_classes": [],
      "_model_module": "@jupyter-widgets/controls",
      "_model_module_version": "1.5.0",
      "_model_name": "FloatProgressModel",
      "_view_count": null,
      "_view_module": "@jupyter-widgets/controls",
      "_view_module_version": "1.5.0",
      "_view_name": "ProgressView",
      "bar_style": "success",
      "description": "",
      "description_tooltip": null,
      "layout": "IPY_MODEL_4cb3ac050773448ca156cee4f685d504",
      "max": 2000,
      "min": 0,
      "orientation": "horizontal",
      "style": "IPY_MODEL_4ec66f9d2e9249a2b9dff76fe1d027a7",
      "value": 2000
     }
    },
    "f1df8b4fcc684f769027bdd7526b202e": {
     "model_module": "@jupyter-widgets/base",
     "model_module_version": "1.2.0",
     "model_name": "LayoutModel",
     "state": {
      "_model_module": "@jupyter-widgets/base",
      "_model_module_version": "1.2.0",
      "_model_name": "LayoutModel",
      "_view_count": null,
      "_view_module": "@jupyter-widgets/base",
      "_view_module_version": "1.2.0",
      "_view_name": "LayoutView",
      "align_content": null,
      "align_items": null,
      "align_self": null,
      "border": null,
      "bottom": null,
      "display": null,
      "flex": null,
      "flex_flow": null,
      "grid_area": null,
      "grid_auto_columns": null,
      "grid_auto_flow": null,
      "grid_auto_rows": null,
      "grid_column": null,
      "grid_gap": null,
      "grid_row": null,
      "grid_template_areas": null,
      "grid_template_columns": null,
      "grid_template_rows": null,
      "height": null,
      "justify_content": null,
      "justify_items": null,
      "left": null,
      "margin": null,
      "max_height": null,
      "max_width": null,
      "min_height": null,
      "min_width": null,
      "object_fit": null,
      "object_position": null,
      "order": null,
      "overflow": null,
      "overflow_x": null,
      "overflow_y": null,
      "padding": null,
      "right": null,
      "top": null,
      "visibility": null,
      "width": null
     }
    },
    "f444e230367f4d3a8a3b078be76bb390": {
     "model_module": "@jupyter-widgets/controls",
     "model_module_version": "1.5.0",
     "model_name": "HTMLModel",
     "state": {
      "_dom_classes": [],
      "_model_module": "@jupyter-widgets/controls",
      "_model_module_version": "1.5.0",
      "_model_name": "HTMLModel",
      "_view_count": null,
      "_view_module": "@jupyter-widgets/controls",
      "_view_module_version": "1.5.0",
      "_view_name": "HTMLView",
      "description": "",
      "description_tooltip": null,
      "layout": "IPY_MODEL_7630fb58bf3e42d6b48a5f87fe1065cc",
      "placeholder": "​",
      "style": "IPY_MODEL_1db54a064f3c4fef8624443931f60b11",
      "value": "vocab.txt: 100%"
     }
    },
    "f561605e61c94dcf9dd30f99d1202257": {
     "model_module": "@jupyter-widgets/controls",
     "model_module_version": "1.5.0",
     "model_name": "HTMLModel",
     "state": {
      "_dom_classes": [],
      "_model_module": "@jupyter-widgets/controls",
      "_model_module_version": "1.5.0",
      "_model_name": "HTMLModel",
      "_view_count": null,
      "_view_module": "@jupyter-widgets/controls",
      "_view_module_version": "1.5.0",
      "_view_name": "HTMLView",
      "description": "",
      "description_tooltip": null,
      "layout": "IPY_MODEL_9db3a4408d7c42cda76bc80200fb1fc3",
      "placeholder": "​",
      "style": "IPY_MODEL_7f2631fde5d242cfa8943a78837de23b",
      "value": " 8000/8000 [00:37&lt;00:00, 207.97 examples/s]"
     }
    },
    "f66e666da5684404b86d3f775343521b": {
     "model_module": "@jupyter-widgets/controls",
     "model_module_version": "1.5.0",
     "model_name": "HBoxModel",
     "state": {
      "_dom_classes": [],
      "_model_module": "@jupyter-widgets/controls",
      "_model_module_version": "1.5.0",
      "_model_name": "HBoxModel",
      "_view_count": null,
      "_view_module": "@jupyter-widgets/controls",
      "_view_module_version": "1.5.0",
      "_view_name": "HBoxView",
      "box_style": "",
      "children": [
       "IPY_MODEL_8aefdd671bbb42baafc606e9f92e5557",
       "IPY_MODEL_63ce0450c301471b8fac0962e72536e5",
       "IPY_MODEL_5a6b22ecabc34381828faeaad6bc2454"
      ],
      "layout": "IPY_MODEL_8bceb62de14b4a078d3309ebc3ca3cdd"
     }
    },
    "f803fc898a334aedb54a8375f2aad856": {
     "model_module": "@jupyter-widgets/controls",
     "model_module_version": "1.5.0",
     "model_name": "HBoxModel",
     "state": {
      "_dom_classes": [],
      "_model_module": "@jupyter-widgets/controls",
      "_model_module_version": "1.5.0",
      "_model_name": "HBoxModel",
      "_view_count": null,
      "_view_module": "@jupyter-widgets/controls",
      "_view_module_version": "1.5.0",
      "_view_name": "HBoxView",
      "box_style": "",
      "children": [
       "IPY_MODEL_54708878c154416aa5305956a0e2b215",
       "IPY_MODEL_bb23bf25236c474abd592c3e5b54e518",
       "IPY_MODEL_09fdc9ade5014a838c5af7101fd9e513"
      ],
      "layout": "IPY_MODEL_d94f107a82e5430481c36f59d1a0f506"
     }
    },
    "f89c0b6c4ee34dd9bb87429287f6006d": {
     "model_module": "@jupyter-widgets/controls",
     "model_module_version": "1.5.0",
     "model_name": "FloatProgressModel",
     "state": {
      "_dom_classes": [],
      "_model_module": "@jupyter-widgets/controls",
      "_model_module_version": "1.5.0",
      "_model_name": "FloatProgressModel",
      "_view_count": null,
      "_view_module": "@jupyter-widgets/controls",
      "_view_module_version": "1.5.0",
      "_view_name": "ProgressView",
      "bar_style": "success",
      "description": "",
      "description_tooltip": null,
      "layout": "IPY_MODEL_75fb03eefa7f49aaaf63dc2db7704aaa",
      "max": 8000,
      "min": 0,
      "orientation": "horizontal",
      "style": "IPY_MODEL_556056e52719488393ce1dfdda856f02",
      "value": 8000
     }
    },
    "fa7306804d6b453c95c85718598f2a7c": {
     "model_module": "@jupyter-widgets/controls",
     "model_module_version": "1.5.0",
     "model_name": "ProgressStyleModel",
     "state": {
      "_model_module": "@jupyter-widgets/controls",
      "_model_module_version": "1.5.0",
      "_model_name": "ProgressStyleModel",
      "_view_count": null,
      "_view_module": "@jupyter-widgets/base",
      "_view_module_version": "1.2.0",
      "_view_name": "StyleView",
      "bar_color": null,
      "description_width": ""
     }
    },
    "fe2316faf2754bd9845d900c88284f2a": {
     "model_module": "@jupyter-widgets/controls",
     "model_module_version": "1.5.0",
     "model_name": "HTMLModel",
     "state": {
      "_dom_classes": [],
      "_model_module": "@jupyter-widgets/controls",
      "_model_module_version": "1.5.0",
      "_model_name": "HTMLModel",
      "_view_count": null,
      "_view_module": "@jupyter-widgets/controls",
      "_view_module_version": "1.5.0",
      "_view_name": "HTMLView",
      "description": "",
      "description_tooltip": null,
      "layout": "IPY_MODEL_90d22b98264a46919379fae677a9b335",
      "placeholder": "​",
      "style": "IPY_MODEL_2122b0f5124d444d81861d4e2a5460ca",
      "value": " 996k/996k [00:00&lt;00:00, 13.6MB/s]"
     }
    }
   }
  }
 },
 "nbformat": 4,
 "nbformat_minor": 5
}
