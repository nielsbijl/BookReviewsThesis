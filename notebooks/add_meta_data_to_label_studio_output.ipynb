{
 "cells": [
  {
   "cell_type": "markdown",
   "id": "692f0c4f-ec50-4c7a-87e3-7f20ad6f1c6b",
   "metadata": {},
   "source": [
    "# Integrating Metadata into Annotated Book Review Articles\n",
    "\n",
    "In this notebook, we will load the exported Label Studio annotated data for the Trouw and Het Parool newspapers and enrich it by adding metadata. This metadata includes important information about the book review articles, such as the year of publication.\n",
    "\n",
    "The main steps in this process are:\n",
    "1. **Data Loading:** Import the annotated data from Label Studio and the metadata from the newspapers\n",
    "2. **Metadata Integration:** Merge metadata to annotations, specifically the year of publication, to each annotated book review article.\n",
    "3. **Data Preparation:** Prepare the enriched dataset for further analysis or modeling.\n",
    "\n",
    "By the end of this notebook, we will have an annotated dataset that includes both the annotations and relevant metadata for the book review articles from Trouw and Het Parool.\n",
    "\n",
    "Let's get started!"
   ]
  },
  {
   "cell_type": "code",
   "execution_count": 3,
   "id": "initial_id",
   "metadata": {},
   "outputs": [],
   "source": [
    "import numpy as np\n",
    "import pandas as pd\n",
    "from tqdm import tqdm\n",
    "import json"
   ]
  },
  {
   "cell_type": "code",
   "execution_count": 4,
   "id": "c8b98931-18af-4b2e-a2c3-e4de622f4fa8",
   "metadata": {},
   "outputs": [
    {
     "name": "stderr",
     "output_type": "stream",
     "text": [
      "100%|██████████████████████████████████████████████████████████████████████████████████████████████████████████████████████████████████████████████████████████████████████████████████████████████| 51/51 [01:23<00:00,  1.63s/it]\n",
      "100%|██████████████████████████████████████████████████████████████████████████████████████████████████████████████████████████████████████████████████████████████████████████████████████████████| 50/50 [01:14<00:00,  1.49s/it]\n"
     ]
    }
   ],
   "source": [
    "def get_csv(file_path):\n",
    "    return pd.read_csv(file_path, delimiter=';').drop(columns=['Unnamed: 0'])\n",
    "\n",
    "def load_dataframes(base_path, file_prefix, start_year, end_year):\n",
    "    dataframes = []\n",
    "    for year in tqdm(range(start_year, end_year + 1)):\n",
    "        file_path = f\"{base_path}/{file_prefix}_{year}.csv\"\n",
    "        df = get_csv(file_path)\n",
    "        dataframes.append(df)\n",
    "    return pd.concat(dataframes, ignore_index=True)\n",
    "\n",
    "base_path = \"D:/UU/Kranten\"\n",
    "\n",
    "# Load dataframes for each newspaper\n",
    "parool_df = load_dataframes(base_path, \"Parool\", 1945, 1995)\n",
    "trouw_df = load_dataframes(base_path, \"Trouw\", 1946, 1995)"
   ]
  },
  {
   "cell_type": "code",
   "execution_count": 5,
   "id": "494cf430-d2e9-4895-b479-f8e3b61816f3",
   "metadata": {},
   "outputs": [],
   "source": [
    "# Merge all dataframes into one big dataframe\n",
    "all_news_df = pd.concat([parool_df, trouw_df], ignore_index=True)"
   ]
  },
  {
   "cell_type": "code",
   "execution_count": 6,
   "id": "2e242015-a172-47f9-a298-7eea2c815d9d",
   "metadata": {},
   "outputs": [],
   "source": [
    "# Clean up RAM\n",
    "del parool_df, trouw_df"
   ]
  },
  {
   "cell_type": "code",
   "execution_count": 7,
   "id": "77aabece-4748-43b1-bb0e-59fc4c380f68",
   "metadata": {},
   "outputs": [
    {
     "data": {
      "text/plain": [
       "array(['Parool', 'Trouw'], dtype=object)"
      ]
     },
     "execution_count": 7,
     "metadata": {},
     "output_type": "execute_result"
    }
   ],
   "source": [
    "all_news_df.newspaper.unique()"
   ]
  },
  {
   "cell_type": "code",
   "execution_count": 8,
   "id": "735c04e0-abea-450e-8e85-15bd5aeabdcd",
   "metadata": {},
   "outputs": [
    {
     "data": {
      "text/plain": [
       "array(['artikel', 'advertentie', 'familiebericht',\n",
       "       'illustratie met onderschrift'], dtype=object)"
      ]
     },
     "execution_count": 8,
     "metadata": {},
     "output_type": "execute_result"
    }
   ],
   "source": [
    "all_news_df.genre.unique()"
   ]
  },
  {
   "cell_type": "code",
   "execution_count": 9,
   "id": "e83246ca-67dd-4e33-9b55-6e5e54dec4ae",
   "metadata": {},
   "outputs": [],
   "source": [
    "all_news_df = all_news_df[all_news_df['genre'] == 'artikel']"
   ]
  },
  {
   "cell_type": "code",
   "execution_count": 36,
   "id": "0837a992-e8c3-418f-b19f-3fb5414298a5",
   "metadata": {},
   "outputs": [],
   "source": [
    "# Load the JSON data\n",
    "with open('data/trouw_label_studio_export.json', 'r', encoding='utf-8') as file:\n",
    "    trouw_data = json.load(file)\n",
    "\n",
    "# Load the JSON data\n",
    "with open('data/parool_label_studio_export.json', 'r', encoding='utf-8') as file:\n",
    "    parool_data = json.load(file)"
   ]
  },
  {
   "cell_type": "code",
   "execution_count": 37,
   "id": "1a3fec64-048c-4f81-bcce-7421e94bd130",
   "metadata": {},
   "outputs": [
    {
     "data": {
      "text/plain": [
       "{'text': \"Macabere trekken bij Cortázar In een van zijn dagboeken schrijft de Poolse Argentijn Witold Gombrowicz hoe moeilijk het is voor schrijvers die in Zuid-Amerika wonen om zowel in eigen land als in Europa naam te maken. Pas wanneer de Parijse literaire wereld een schrijver geaccepteerd heeft, kan deze op sukses in eigen land.— en tegelijkertijd daarbuiten — rekenen. Misschien is dat een reden waarom de Zuidamerikaanse literatuur hier te lande vrij onbekend is. Daar komt de laatste jaren wel verandering in. Als een monument in de huidige wereldliteratuur staat de Argentijn Jorge Luis Borges. Toen deze een paar maanden geleden in Londen lezingen hield, organiseerde men vanuit Nederland zelfs een charterbedevaart. In het Rotterdamse poëzie-festival kon het Nederlandse publiek kennis maken met de in Parijs wonende Chileense dichter Pablo Neruda, die regelmatig op één lijn gesteld wordt met Ezra Pound en T.S. Eliot. Toch is waarschijnlijk het werk van Julio Cortazar in Nederland door meer mensen gelezen dan dat van Borges en zeker dan dat van Neruda. Sinds een paar jaar geeft de uitgeverij Mculenhoff werk van Cortazar in vertaling uit, waarbij het een suksesrijke start maakte met De mierenmoordenaar. Daarna volgden Het kwijlen van de duivel en Brief aan een meisje in Parijs, eveneens verhalen. De vertaling van Cortazars verhalen is thans .voltooid, want dit jaar verscheen Circe (1), een bundel met bijna twintig verhalen uit drie verschillende bundels. Cortózars verhalen zijn het eenvoudigst te omschrijven als surrealistisch. Deze omschrijving wordt versterkt door het schilderij dat op de omslag van het boek staat afgebeeld. Dit is 'Het Gerucht' van f. Moesman, dat — hoe figuratief ook — geen illustratie bij een van Cortazars verhalen is, maar meer een beeldende variant op Cortazars proza. Bij het kijken naar een surrealistisch schilderij wordt men vaak niet zozeer getroffen door details als wel door de verrassende sfeer, die niet vanuit de details te verklaren lijkt. Hetzelfde geldt voor het lezen van Cortazars verhalen. Massa's details spelen een rol, maar zonder dat een bepaald detail hinderlijk overheerst, zorgen alle details met elkaar voor rii sfeer die de lezer voor onverklaarbare zaken stelt. Als voorbeeld kan dienen het verhaal Het eiland om twaalf uur 's middags. Dit verhaal valt tot in alle details, op één na, na te vertellen. Een steward ziet op de luchtlijn Rome-Teheran drie maal in de week rond twaalf uur 's middags een Grieks eilandje liggen dat hem intrigeert. Hij wil er heen, hoewel hij soms wel eens twijfelt of hij werkelijk wil. Uiteindelijk gaat hij er naar toe. Het blijkt een nauwelijks bevolkt visserseiland te zijn, waar de steward zich zo op zijn gemak voelt dat hij er verder zijn leven lang wil blijven. Al gauw echter wordt hij met zijn verleden geconfronteerd, want om twaalf uur 's middags komt het lijnvliegtuig Rome-Teheran over. Tot schrik en verbazing van de steward stort het vliegtuig in zee. Deze op zichzelf dramatische gebeurtenis krijgt door Cortazars wijze van vertellen iets sierlijks, waardoor de lezer zich nauwelijks van een spanning bewust is. De steward springt in zee en probeert nog mensen te redden. Hij redt enkel een doodbloedende man. Als de eilandbewoners on het strand komen, vragen zij zich alleen maar af hoe die man dat heeft kunnen halen. Over de steward wordt met geen woord meer gerept. In dit verhaal zijn de details helder, maar toch blijft er aan het eind een mysterie over. De spanning rond het verlangen van de stewarr! is door Cortazar langzaam maar zeker opgevoerd. Al lezend raakt men zo gewend aan de aanwezigheid van de steward binnen dit verhaal, dat men bij eerste lezing niet merkt dat hij tenslotte verdwenen moet zijn, al is die afwezigheid bij reconstructie eenvoudig aannemelijk te maken. De sfeer is in lang niet alle verhalen dezelfde, al ontbreken zelden macabere trekken, zoals in Hoofdpijn, waarin ziek wordende mensen zieke dieren verzorgen. In de loop van het verhaal worden de ziekten van mens en dier één. alsof mens en dier zelf in elkaar zijn opgegaan. Even macaber is het titelverhaal, waarin het meisje Delia al twee verloofdes om het, leven heeft gebracht, zodat de derde natuurlijk op zijn hoede is. Macaber detail is dat hij van Delia bonbons krijgt waarin kakkerlakken verwerkt blijken te zijn. En wat te denken van het boeiende Venijnen, over een machine die mieren verdelgt, en die uiteindelijk door een jongetje gebruikt wordt om zijn liefdesjaloezie op de mieren af te reageren. Maar het meest macaber is misschien wel Hereniging, juist omdat hierin de macabere details haast weggemoffeld zijn. Dit is een bijna extatisch verhaal over de hereniging van twee groepen Cubaanse vrijheidsstrijders. In de extase van de mogelijke hereniging tellen de slachtoffers van de strijd niet. Hun dood wordt wel gemerkt, maar zonder enige ophef, als was het de gewoonste zaak van de wereld. Wie iets van Cortazar, Borges of Neruda leest, krijgt een hoge dunk van de Zuidamerikaanse literatuur. Dat is dan een bedrieglijk voordeel van deze literatuur op de Europese, maar mogen wij Goïnbrowicz geloven dan moet het mogelijk zijn om ook zonder de goedkeuring van Parijs goede Zuidamerikaanse literatuur te vinden. Fantastische verhalen als in Circe doen de lezer wel uitzien naar deze verdere kennismaking. 1) Julio Cortazar, Circe (vertaald door Barber van de Pol en prof. dr. J. A van Praag) Meulenhoff Amsterdam 192 blz. prijs ƒ 12,50 ISBN 90 290 0081 3L. Julio Cortazar\",\n",
       " 'id': 195,\n",
       " 'label': [{'start': 0,\n",
       "   'end': 29,\n",
       "   'text': 'Macabere trekken bij Cortázar',\n",
       "   'labels': ['BOOK']},\n",
       "  {'start': 1651, 'end': 1664, 'text': \"'Het Gerucht'\", 'labels': ['BOOK']},\n",
       "  {'start': 5346, 'end': 5351, 'text': 'Circe', 'labels': ['BOOK']}],\n",
       " 'annotator': 1,\n",
       " 'annotation_id': 15,\n",
       " 'created_at': '2024-05-24T08:59:11.438206Z',\n",
       " 'updated_at': '2024-05-24T08:59:11.438206Z',\n",
       " 'lead_time': 398.986}"
      ]
     },
     "execution_count": 37,
     "metadata": {},
     "output_type": "execute_result"
    }
   ],
   "source": [
    "trouw_data[0]"
   ]
  },
  {
   "cell_type": "code",
   "execution_count": 41,
   "id": "b5781731-bb3c-4df4-b593-2d804ec310cd",
   "metadata": {},
   "outputs": [
    {
     "data": {
      "text/plain": [
       "'number of trouw book reviews: 115, and in the parool: 193'"
      ]
     },
     "execution_count": 41,
     "metadata": {},
     "output_type": "execute_result"
    }
   ],
   "source": [
    "f\"number of trouw book reviews: {len(trouw_data)}, and in the parool: {len(parool_data)}\""
   ]
  },
  {
   "cell_type": "code",
   "execution_count": 42,
   "id": "8830ca0f-ef91-4728-9694-9c8f3181c3f6",
   "metadata": {},
   "outputs": [],
   "source": [
    "data = trouw_data + parool_data"
   ]
  },
  {
   "cell_type": "code",
   "execution_count": 45,
   "id": "d9fe8c23-3cde-4291-b8fb-f75bc1be713d",
   "metadata": {},
   "outputs": [],
   "source": [
    "# Initialize lists to store the dataframe data\n",
    "texts = []\n",
    "start_indices = []\n",
    "end_indices = []\n",
    "book_titles = []\n",
    "\n",
    "# Loop through each entry in the JSON data\n",
    "for entry in data:\n",
    "    text = entry['text']\n",
    "    for label in entry['label']:\n",
    "        texts.append(text)\n",
    "        start_indices.append(label['start'])\n",
    "        end_indices.append(label['end'])\n",
    "        book_titles.append(label['text'])\n",
    "\n",
    "# Create the dataframe\n",
    "df = pd.DataFrame({\n",
    "    'text': texts,\n",
    "    'start_index': start_indices,\n",
    "    'end_index': end_indices,\n",
    "    'book_title': book_titles\n",
    "})"
   ]
  },
  {
   "cell_type": "code",
   "execution_count": 48,
   "id": "934729a5-d61a-4311-928f-6fc71caab8bc",
   "metadata": {},
   "outputs": [
    {
     "data": {
      "text/html": [
       "<div>\n",
       "<style scoped>\n",
       "    .dataframe tbody tr th:only-of-type {\n",
       "        vertical-align: middle;\n",
       "    }\n",
       "\n",
       "    .dataframe tbody tr th {\n",
       "        vertical-align: top;\n",
       "    }\n",
       "\n",
       "    .dataframe thead th {\n",
       "        text-align: right;\n",
       "    }\n",
       "</style>\n",
       "<table border=\"1\" class=\"dataframe\">\n",
       "  <thead>\n",
       "    <tr style=\"text-align: right;\">\n",
       "      <th></th>\n",
       "      <th>text</th>\n",
       "      <th>start_index</th>\n",
       "      <th>end_index</th>\n",
       "      <th>book_title</th>\n",
       "      <th>RecId</th>\n",
       "      <th>genre</th>\n",
       "      <th>date</th>\n",
       "      <th>year</th>\n",
       "      <th>article_tit</th>\n",
       "      <th>newspaper</th>\n",
       "      <th>month</th>\n",
       "    </tr>\n",
       "  </thead>\n",
       "  <tbody>\n",
       "    <tr>\n",
       "      <th>0</th>\n",
       "      <td>Macabere trekken bij Cortázar In een van zijn ...</td>\n",
       "      <td>0</td>\n",
       "      <td>29</td>\n",
       "      <td>Macabere trekken bij Cortázar</td>\n",
       "      <td>ddd:010818290:mpeg21:a0275</td>\n",
       "      <td>artikel</td>\n",
       "      <td>1971-11-13</td>\n",
       "      <td>1971</td>\n",
       "      <td>NaN</td>\n",
       "      <td>Trouw</td>\n",
       "      <td>11.0</td>\n",
       "    </tr>\n",
       "    <tr>\n",
       "      <th>1</th>\n",
       "      <td>Macabere trekken bij Cortázar In een van zijn ...</td>\n",
       "      <td>1651</td>\n",
       "      <td>1664</td>\n",
       "      <td>'Het Gerucht'</td>\n",
       "      <td>ddd:010818290:mpeg21:a0275</td>\n",
       "      <td>artikel</td>\n",
       "      <td>1971-11-13</td>\n",
       "      <td>1971</td>\n",
       "      <td>NaN</td>\n",
       "      <td>Trouw</td>\n",
       "      <td>11.0</td>\n",
       "    </tr>\n",
       "    <tr>\n",
       "      <th>2</th>\n",
       "      <td>Macabere trekken bij Cortázar In een van zijn ...</td>\n",
       "      <td>5346</td>\n",
       "      <td>5351</td>\n",
       "      <td>Circe</td>\n",
       "      <td>ddd:010818290:mpeg21:a0275</td>\n",
       "      <td>artikel</td>\n",
       "      <td>1971-11-13</td>\n",
       "      <td>1971</td>\n",
       "      <td>NaN</td>\n",
       "      <td>Trouw</td>\n",
       "      <td>11.0</td>\n",
       "    </tr>\n",
       "    <tr>\n",
       "      <th>3</th>\n",
       "      <td>'Ik ben altijd gelijk’ door Ad Zuiderent J. Be...</td>\n",
       "      <td>73</td>\n",
       "      <td>83</td>\n",
       "      <td>Het verlof</td>\n",
       "      <td>ddd:010828144:mpeg21:a0319</td>\n",
       "      <td>artikel</td>\n",
       "      <td>1971-09-18</td>\n",
       "      <td>1971</td>\n",
       "      <td>NaN</td>\n",
       "      <td>Trouw</td>\n",
       "      <td>9.0</td>\n",
       "    </tr>\n",
       "    <tr>\n",
       "      <th>4</th>\n",
       "      <td>'Ik ben altijd gelijk’ door Ad Zuiderent J. Be...</td>\n",
       "      <td>5601</td>\n",
       "      <td>5611</td>\n",
       "      <td>Het verlof</td>\n",
       "      <td>ddd:010828144:mpeg21:a0319</td>\n",
       "      <td>artikel</td>\n",
       "      <td>1971-09-18</td>\n",
       "      <td>1971</td>\n",
       "      <td>NaN</td>\n",
       "      <td>Trouw</td>\n",
       "      <td>9.0</td>\n",
       "    </tr>\n",
       "    <tr>\n",
       "      <th>...</th>\n",
       "      <td>...</td>\n",
       "      <td>...</td>\n",
       "      <td>...</td>\n",
       "      <td>...</td>\n",
       "      <td>...</td>\n",
       "      <td>...</td>\n",
       "      <td>...</td>\n",
       "      <td>...</td>\n",
       "      <td>...</td>\n",
       "      <td>...</td>\n",
       "      <td>...</td>\n",
       "    </tr>\n",
       "    <tr>\n",
       "      <th>531</th>\n",
       "      <td>FINANCIEN &amp; ECONOMIE Hoge inkomens hebben mees...</td>\n",
       "      <td>7615</td>\n",
       "      <td>7643</td>\n",
       "      <td>Profijt van de overheid 111.</td>\n",
       "      <td>ddd:010842199:mpeg21:a0297</td>\n",
       "      <td>artikel</td>\n",
       "      <td>1994-12-24</td>\n",
       "      <td>1994</td>\n",
       "      <td>NaN</td>\n",
       "      <td>Parool</td>\n",
       "      <td>12.0</td>\n",
       "    </tr>\n",
       "    <tr>\n",
       "      <th>532</th>\n",
       "      <td>BART TROMP De contramine voorbij ER ZIJN TWEE ...</td>\n",
       "      <td>5446</td>\n",
       "      <td>5469</td>\n",
       "      <td>Ik kan alles uitleggen.</td>\n",
       "      <td>ddd:010842201:mpeg21:a0117</td>\n",
       "      <td>artikel</td>\n",
       "      <td>1994-12-28</td>\n",
       "      <td>1994</td>\n",
       "      <td>NaN</td>\n",
       "      <td>Parool</td>\n",
       "      <td>12.0</td>\n",
       "    </tr>\n",
       "    <tr>\n",
       "      <th>533</th>\n",
       "      <td>BART TROMP Onaanvaardbaar geworden? zou opbouw...</td>\n",
       "      <td>3886</td>\n",
       "      <td>3953</td>\n",
       "      <td>Jakhalzen van het Derde Rijk. Ondergang van de...</td>\n",
       "      <td>ddd:010841825:mpeg21:a0124</td>\n",
       "      <td>artikel</td>\n",
       "      <td>1995-10-25</td>\n",
       "      <td>1995</td>\n",
       "      <td>NaN</td>\n",
       "      <td>Parool</td>\n",
       "      <td>10.0</td>\n",
       "    </tr>\n",
       "    <tr>\n",
       "      <th>534</th>\n",
       "      <td>Dames met sappige tomatentassen Handtasjes heb...</td>\n",
       "      <td>9640</td>\n",
       "      <td>9667</td>\n",
       "      <td>Rond de tafel der Romeinen,</td>\n",
       "      <td>ddd:010842165:mpeg21:a0173</td>\n",
       "      <td>artikel</td>\n",
       "      <td>1995-01-04</td>\n",
       "      <td>1995</td>\n",
       "      <td>NaN</td>\n",
       "      <td>Parool</td>\n",
       "      <td>1.0</td>\n",
       "    </tr>\n",
       "    <tr>\n",
       "      <th>535</th>\n",
       "      <td>Dames met sappige tomatentassen Handtasjes heb...</td>\n",
       "      <td>4544</td>\n",
       "      <td>4578</td>\n",
       "      <td>Judith Leiber, The Artful Handbag,</td>\n",
       "      <td>ddd:010842165:mpeg21:a0173</td>\n",
       "      <td>artikel</td>\n",
       "      <td>1995-01-04</td>\n",
       "      <td>1995</td>\n",
       "      <td>NaN</td>\n",
       "      <td>Parool</td>\n",
       "      <td>1.0</td>\n",
       "    </tr>\n",
       "  </tbody>\n",
       "</table>\n",
       "<p>536 rows × 11 columns</p>\n",
       "</div>"
      ],
      "text/plain": [
       "                                                  text  start_index  \\\n",
       "0    Macabere trekken bij Cortázar In een van zijn ...            0   \n",
       "1    Macabere trekken bij Cortázar In een van zijn ...         1651   \n",
       "2    Macabere trekken bij Cortázar In een van zijn ...         5346   \n",
       "3    'Ik ben altijd gelijk’ door Ad Zuiderent J. Be...           73   \n",
       "4    'Ik ben altijd gelijk’ door Ad Zuiderent J. Be...         5601   \n",
       "..                                                 ...          ...   \n",
       "531  FINANCIEN & ECONOMIE Hoge inkomens hebben mees...         7615   \n",
       "532  BART TROMP De contramine voorbij ER ZIJN TWEE ...         5446   \n",
       "533  BART TROMP Onaanvaardbaar geworden? zou opbouw...         3886   \n",
       "534  Dames met sappige tomatentassen Handtasjes heb...         9640   \n",
       "535  Dames met sappige tomatentassen Handtasjes heb...         4544   \n",
       "\n",
       "     end_index                                         book_title  \\\n",
       "0           29                      Macabere trekken bij Cortázar   \n",
       "1         1664                                      'Het Gerucht'   \n",
       "2         5351                                              Circe   \n",
       "3           83                                         Het verlof   \n",
       "4         5611                                         Het verlof   \n",
       "..         ...                                                ...   \n",
       "531       7643                       Profijt van de overheid 111.   \n",
       "532       5469                            Ik kan alles uitleggen.   \n",
       "533       3953  Jakhalzen van het Derde Rijk. Ondergang van de...   \n",
       "534       9667                        Rond de tafel der Romeinen,   \n",
       "535       4578                 Judith Leiber, The Artful Handbag,   \n",
       "\n",
       "                          RecId    genre        date  year article_tit  \\\n",
       "0    ddd:010818290:mpeg21:a0275  artikel  1971-11-13  1971         NaN   \n",
       "1    ddd:010818290:mpeg21:a0275  artikel  1971-11-13  1971         NaN   \n",
       "2    ddd:010818290:mpeg21:a0275  artikel  1971-11-13  1971         NaN   \n",
       "3    ddd:010828144:mpeg21:a0319  artikel  1971-09-18  1971         NaN   \n",
       "4    ddd:010828144:mpeg21:a0319  artikel  1971-09-18  1971         NaN   \n",
       "..                          ...      ...         ...   ...         ...   \n",
       "531  ddd:010842199:mpeg21:a0297  artikel  1994-12-24  1994         NaN   \n",
       "532  ddd:010842201:mpeg21:a0117  artikel  1994-12-28  1994         NaN   \n",
       "533  ddd:010841825:mpeg21:a0124  artikel  1995-10-25  1995         NaN   \n",
       "534  ddd:010842165:mpeg21:a0173  artikel  1995-01-04  1995         NaN   \n",
       "535  ddd:010842165:mpeg21:a0173  artikel  1995-01-04  1995         NaN   \n",
       "\n",
       "    newspaper  month  \n",
       "0       Trouw   11.0  \n",
       "1       Trouw   11.0  \n",
       "2       Trouw   11.0  \n",
       "3       Trouw    9.0  \n",
       "4       Trouw    9.0  \n",
       "..        ...    ...  \n",
       "531    Parool   12.0  \n",
       "532    Parool   12.0  \n",
       "533    Parool   10.0  \n",
       "534    Parool    1.0  \n",
       "535    Parool    1.0  \n",
       "\n",
       "[536 rows x 11 columns]"
      ]
     },
     "execution_count": 48,
     "metadata": {},
     "output_type": "execute_result"
    }
   ],
   "source": [
    "final_df = pd.merge(df, all_news_df, left_on='text', right_on='Content', how='left').drop(columns=['Content'])\n",
    "final_df"
   ]
  },
  {
   "cell_type": "code",
   "execution_count": 50,
   "id": "694a49e8-60ad-4839-a056-a9a8b60cb949",
   "metadata": {},
   "outputs": [],
   "source": [
    "final_df.to_csv('data/trouw_and_parool_annotated_book_titles.csv', index=False)"
   ]
  }
 ],
 "metadata": {
  "kernelspec": {
   "display_name": "Python 3 (ipykernel)",
   "language": "python",
   "name": "python3"
  },
  "language_info": {
   "codemirror_mode": {
    "name": "ipython",
    "version": 3
   },
   "file_extension": ".py",
   "mimetype": "text/x-python",
   "name": "python",
   "nbconvert_exporter": "python",
   "pygments_lexer": "ipython3",
   "version": "3.10.14"
  }
 },
 "nbformat": 4,
 "nbformat_minor": 5
}
