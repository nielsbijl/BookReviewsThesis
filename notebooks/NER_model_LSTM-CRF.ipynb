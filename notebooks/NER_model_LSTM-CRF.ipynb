{
 "cells": [
  {
   "cell_type": "markdown",
   "id": "85bcd0dd-4070-4593-aad2-ac6cc3e812ab",
   "metadata": {},
   "source": [
    "# Developing and Training a BiLSTM-CRF Model for Book Title Extraction\n",
    "\n",
    "In this notebook, we will develop and train a BiLSTM-CRF model from scratch to extract book titles from historical newspaper archives. The key steps involved in this process are as follows:\n",
    "\n",
    "1. **Word Embeddings:** We will use NL Fasttext word embeddings with 300 dimensions to transform the text into a machine-readable format.\n",
    "2. **Model Architecture:** Implement a BiLSTM-CRF (Bidirectional Long Short-Term Memory with Conditional Random Fields) model for the task of named entity recognition (NER), specifically focusing on extracting book titles.\n",
    "3. **Loss Function:** Employ the Majority or Minority (MoM) loss function to optimize the model during training.\n",
    "4. **Training:** Train the model on the Leeuwarder Courant (LC) training dataset.\n",
    "5. **Evaluation:** Evaluate the model's performance on the Leeuwarder Courant test set as well as on test sets from Trouw and Het Parool.\n",
    "\n",
    "By the end of this notebook, we aim to have a robust BiLSTM-CRF model capable of accurately identifying book titles in historical newspaper texts.\n",
    "\n",
    "Let's get started!\n"
   ]
  },
  {
   "cell_type": "code",
   "execution_count": 1,
   "id": "b7974230-679f-4cd7-9550-f1b11b355ff9",
   "metadata": {
    "scrolled": true
   },
   "outputs": [],
   "source": [
    "# !python -m spacy download nl_core_news_sm"
   ]
  },
  {
   "cell_type": "code",
   "execution_count": 3,
   "id": "4975e59e-2fc5-4452-8dd9-00c729c0b8fc",
   "metadata": {
    "colab": {
     "base_uri": "https://localhost:8080/",
     "height": 0
    },
    "id": "4975e59e-2fc5-4452-8dd9-00c729c0b8fc",
    "outputId": "3390b10b-e6f8-45f6-a190-54d03b5b4cd5"
   },
   "outputs": [
    {
     "name": "stderr",
     "output_type": "stream",
     "text": [
      "C:\\Users\\niels\\miniconda3\\envs\\fasttext\\lib\\site-packages\\tqdm\\auto.py:21: TqdmWarning: IProgress not found. Please update jupyter and ipywidgets. See https://ipywidgets.readthedocs.io/en/stable/user_install.html\n",
      "  from .autonotebook import tqdm as notebook_tqdm\n"
     ]
    }
   ],
   "source": [
    "import pandas as pd\n",
    "import numpy as np\n",
    "import re\n",
    "\n",
    "from datasets import Dataset\n",
    "import spacy\n",
    "import gensim\n",
    "import os\n",
    "from sklearn.metrics import f1_score, precision_score, recall_score, accuracy_score\n",
    "from tqdm import tqdm\n",
    "import pickle\n",
    "import math\n",
    "import time\n",
    "import matplotlib.pyplot as plt\n",
    "from datetime import datetime\n",
    "import json"
   ]
  },
  {
   "cell_type": "code",
   "execution_count": 4,
   "id": "1f0f78fc-69dc-42c3-ba98-cee8a0e5e02e",
   "metadata": {},
   "outputs": [
    {
     "name": "stderr",
     "output_type": "stream",
     "text": [
      "C:\\Users\\niels\\miniconda3\\envs\\fasttext\\lib\\site-packages\\torchtext\\vocab\\__init__.py:4: UserWarning: \n",
      "/!\\ IMPORTANT WARNING ABOUT TORCHTEXT STATUS /!\\ \n",
      "Torchtext is deprecated and the last released version will be 0.18 (this one). You can silence this warning by calling the following at the beginnign of your scripts: `import torchtext; torchtext.disable_torchtext_deprecation_warning()`\n",
      "  warnings.warn(torchtext._TORCHTEXT_DEPRECATION_MSG)\n",
      "C:\\Users\\niels\\miniconda3\\envs\\fasttext\\lib\\site-packages\\torchtext\\utils.py:4: UserWarning: \n",
      "/!\\ IMPORTANT WARNING ABOUT TORCHTEXT STATUS /!\\ \n",
      "Torchtext is deprecated and the last released version will be 0.18 (this one). You can silence this warning by calling the following at the beginnign of your scripts: `import torchtext; torchtext.disable_torchtext_deprecation_warning()`\n",
      "  warnings.warn(torchtext._TORCHTEXT_DEPRECATION_MSG)\n"
     ]
    }
   ],
   "source": [
    "import torch\n",
    "from torch.utils.data import DataLoader\n",
    "from torchtext.vocab import Vectors\n",
    "from torchtext.vocab import GloVe\n",
    "from torch.optim import Adam\n",
    "import torch.nn as nn\n",
    "from TorchCRF import CRF\n",
    "from torch.cuda.amp import GradScaler, autocast"
   ]
  },
  {
   "cell_type": "code",
   "execution_count": 5,
   "id": "c95ff931-39c6-42b1-8cd3-90d6618c89d8",
   "metadata": {},
   "outputs": [
    {
     "name": "stdout",
     "output_type": "stream",
     "text": [
      "Current working directory: C:\\Users\\niels\\PycharmProjects\\BookReviewsThesis\n"
     ]
    }
   ],
   "source": [
    "# Get the current notebook directory\n",
    "current_dir = os.path.abspath('')\n",
    "\n",
    "# Set the main directory (modify as needed to point to your main project directory)\n",
    "main_dir = os.path.abspath(os.path.join(current_dir, '../'))\n",
    "\n",
    "# Change the working directory to the main directory\n",
    "os.chdir(main_dir)\n",
    "\n",
    "# Verify that the working directory has been set correctly\n",
    "print(f\"Current working directory: {os.getcwd()}\")"
   ]
  },
  {
   "cell_type": "code",
   "execution_count": 6,
   "id": "92e906bb-489a-4349-9335-3b8f04b8e0fc",
   "metadata": {},
   "outputs": [],
   "source": [
    "from scripts.loss_functions import compute_class_weights\n",
    "from scripts.dataset_preparation import remove_punctuation, find_sentence_in_text, create_mask_for_sentence, process_text, \\\n",
    "                                        create_data_set, trouw_parool_create_dataset, save_dataset, load_dataset, split_samples"
   ]
  },
  {
   "cell_type": "code",
   "execution_count": 7,
   "id": "34ea6712-f681-4a9b-8822-8a08398f11bd",
   "metadata": {},
   "outputs": [],
   "source": [
    "os.environ['CUDA_LAUNCH_BLOCKING'] = '1'"
   ]
  },
  {
   "cell_type": "code",
   "execution_count": 8,
   "id": "281caeef-2fab-4d28-a0b3-42ffba7ec1d2",
   "metadata": {
    "id": "dea05ca1-440d-4517-aca1-1e6c49660574"
   },
   "outputs": [],
   "source": [
    "pd.set_option('display.max_columns', None)"
   ]
  },
  {
   "cell_type": "markdown",
   "id": "09fbe14c-217b-4dbc-9884-82c3d56d7cb3",
   "metadata": {},
   "source": [
    "## Load and preprocess data"
   ]
  },
  {
   "cell_type": "code",
   "execution_count": 9,
   "id": "88328172-d74c-4c78-b754-15863f3433ea",
   "metadata": {
    "id": "5ef3cfbf-f761-48a8-81db-dbdd2688701d"
   },
   "outputs": [],
   "source": [
    "# Load data from Excel and CSV files into DataFrames\n",
    "\n",
    "# Load leeuwarde courant Excel file into a DataFrame\n",
    "df_lc = pd.read_excel('data/raw/manullay_check_partially_matched_titles.xlsx', engine='openpyxl')\n",
    "\n",
    "# Load Trouw and Het Parool annotated book review file into a DataFrame\n",
    "df_trouw_parool = pd.read_csv('data/raw/trouw_and_parool_annotated_book_titles.csv')"
   ]
  },
  {
   "cell_type": "code",
   "execution_count": 10,
   "id": "e24a4c77-82f5-4786-9d67-82c62978cdbf",
   "metadata": {
    "id": "fb5aa31c-73ca-4e26-aab5-a3b7e144714c"
   },
   "outputs": [],
   "source": [
    "# Define function to remove extra spaces from text\n",
    "def remove_extra_spaces(text):\n",
    "    \"\"\"\n",
    "    Remove extra spaces from a string by replacing multiple spaces with a single space.\n",
    "\n",
    "    Args:\n",
    "        text (str): The input text with potential extra spaces.\n",
    "\n",
    "    Returns:\n",
    "        str: The cleaned text with single spaces between words.\n",
    "    \"\"\"\n",
    "    cleaned_text = re.sub(r'\\s+', ' ', text)\n",
    "    return cleaned_text.strip()"
   ]
  },
  {
   "cell_type": "code",
   "execution_count": 11,
   "id": "316eeba3-1812-4981-acca-ece9b89bb403",
   "metadata": {
    "id": "6109b689-85d5-40d1-8ddd-2fb0c0311750"
   },
   "outputs": [],
   "source": [
    "df_lc['content'] = df_lc['content'].apply(remove_extra_spaces)\n",
    "df_lc['title1'] = df_lc['title1'].apply(remove_extra_spaces)\n",
    "df_lc['title4'] = df_lc['title4'].apply(remove_extra_spaces)"
   ]
  },
  {
   "cell_type": "code",
   "execution_count": 12,
   "id": "bc22bb63-d9a2-4c10-b882-5516f662e599",
   "metadata": {},
   "outputs": [],
   "source": [
    "# First, filter rows where 'manually_removed' is 1 and get unique 'content' values in these rows\n",
    "content_removed = df_lc[df_lc['manually_removed'] == 1]['content'].unique()\n",
    "\n",
    "# Now, filter out these 'content' values from the main DataFrame and find unique 'content' not removed\n",
    "df_lc_clean = df_lc[~df_lc['content'].isin(content_removed)]"
   ]
  },
  {
   "cell_type": "markdown",
   "id": "d5a78b62-a6a4-4cfb-919d-4a4d570c9ac9",
   "metadata": {
    "id": "c35afb79-0f32-42ba-933a-ed3cfb872484"
   },
   "source": [
    "## Create datasets"
   ]
  },
  {
   "cell_type": "code",
   "execution_count": 13,
   "id": "937d4fae-e046-42d5-8a2d-6d4ee9ef722a",
   "metadata": {
    "id": "c3e2a3b9-ce8f-4faf-9baa-24c067f38adf"
   },
   "outputs": [],
   "source": [
    "label_list = ['O', 'I']"
   ]
  },
  {
   "cell_type": "code",
   "execution_count": 14,
   "id": "49ab9d98-875d-41de-a1f7-a6f06de31c5b",
   "metadata": {},
   "outputs": [],
   "source": [
    "nlp = spacy.load(\"nl_core_news_sm\")"
   ]
  },
  {
   "cell_type": "code",
   "execution_count": 15,
   "id": "5b83aab9-249e-4aed-aa85-0af4c16b255e",
   "metadata": {},
   "outputs": [],
   "source": [
    "remove_punc = False\n",
    "force_lower_case = False"
   ]
  },
  {
   "cell_type": "code",
   "execution_count": 16,
   "id": "aafb788e-f1b6-4299-b3c5-ad0502136a04",
   "metadata": {},
   "outputs": [],
   "source": [
    "# Define file paths for saving/loading datasets\n",
    "lc_train_filename = 'C:/Users/niels/PycharmProjects/BookReviewsThesis/data/processed/lc_train_dataset.pkl'\n",
    "lc_val_filename = 'C:/Users/niels/PycharmProjects/BookReviewsThesis/data/processed/lc_val_dataset.pkl'\n",
    "lc_test_filename = 'C:/Users/niels/PycharmProjects/BookReviewsThesis/data/processed/lc_test_dataset.pkl'\n",
    "\n",
    "trouw_parool_test_filename = 'C:/Users/niels/PycharmProjects/BookReviewsThesis/data/processed/trouw_parool_test_dataset.pkl'"
   ]
  },
  {
   "cell_type": "markdown",
   "id": "9f4271eb-28fb-418c-8e3e-9a9cc906f01f",
   "metadata": {},
   "source": [
    "### Create Leeuwarde Courant TRAIN, VALIDATION, and TEST datasets"
   ]
  },
  {
   "cell_type": "code",
   "execution_count": 17,
   "id": "48ed51b5-dd9c-4e99-851a-39f5622260a1",
   "metadata": {},
   "outputs": [
    {
     "name": "stdout",
     "output_type": "stream",
     "text": [
      "Loading training, validation, and test datasets....\n",
      "Done...\n"
     ]
    }
   ],
   "source": [
    "# Split the samples into training, validation, and test sets\n",
    "\n",
    "# Set the random seed for reproducibility\n",
    "np.random.seed(42)\n",
    "\n",
    "# Get unique content samples\n",
    "samples = df_lc_clean['content'].unique()\n",
    "\n",
    "# Split the samples into training, validation, and test sets\n",
    "lc_train_samples, lc_val_samples, lc_test_samples = split_samples(samples=samples, train_ratio=0.7, val_ratio=0.15, test_ratio=0.15)\n",
    "\n",
    "# Check if datasets already exist, otherwise create them\n",
    "if os.path.exists(lc_train_filename) and os.path.exists(lc_val_filename) and os.path.exists(lc_test_filename):\n",
    "    print(\"Loading training, validation, and test datasets....\")\n",
    "    lc_train_dataset = load_dataset(lc_train_filename)\n",
    "    lc_val_dataset = load_dataset(lc_val_filename)\n",
    "    lc_test_dataset = load_dataset(lc_test_filename)\n",
    "else:\n",
    "    print(\"Creating training, validation, and test datasets....\")\n",
    "    # Create dataset\n",
    "    lc_train_dataset = Dataset.from_list(create_data_set(samples=lc_train_samples, df=df_lc_clean, nlp=nlp, remove_punc=remove_punc, force_lower_case=force_lower_case))\n",
    "    lc_val_dataset = Dataset.from_list(create_data_set(samples=lc_val_samples, df=df_lc_clean, nlp=nlp, remove_punc=remove_punc, force_lower_case=force_lower_case))\n",
    "    lc_test_dataset = Dataset.from_list(create_data_set(samples=lc_test_samples, df=df_lc_clean, nlp=nlp, remove_punc=remove_punc, force_lower_case=force_lower_case))\n",
    "\n",
    "    # Save dataset, so we don't have to create it everytime again\n",
    "    save_dataset(lc_train_dataset, lc_train_filename)\n",
    "    save_dataset(lc_val_dataset, lc_val_filename)\n",
    "    save_dataset(lc_test_dataset, lc_test_filename)\n",
    "\n",
    "print(\"Done...\")"
   ]
  },
  {
   "cell_type": "code",
   "execution_count": 18,
   "id": "1826318f-1c9f-44a8-b56e-3af9069e51f5",
   "metadata": {},
   "outputs": [
    {
     "data": {
      "text/plain": [
       "Dataset({\n",
       "    features: ['tokens', 'ner_tags'],\n",
       "    num_rows: 8774\n",
       "})"
      ]
     },
     "execution_count": 18,
     "metadata": {},
     "output_type": "execute_result"
    }
   ],
   "source": [
    "lc_train_dataset"
   ]
  },
  {
   "cell_type": "code",
   "execution_count": 19,
   "id": "9add4702-cebc-4a48-94ff-77e0364295a5",
   "metadata": {},
   "outputs": [
    {
     "data": {
      "text/plain": [
       "Dataset({\n",
       "    features: ['tokens', 'ner_tags'],\n",
       "    num_rows: 1880\n",
       "})"
      ]
     },
     "execution_count": 19,
     "metadata": {},
     "output_type": "execute_result"
    }
   ],
   "source": [
    "lc_val_dataset"
   ]
  },
  {
   "cell_type": "code",
   "execution_count": 20,
   "id": "8fa49d55-4932-4ecb-8772-6b4d4c5babd3",
   "metadata": {},
   "outputs": [
    {
     "data": {
      "text/plain": [
       "Dataset({\n",
       "    features: ['tokens', 'ner_tags'],\n",
       "    num_rows: 1881\n",
       "})"
      ]
     },
     "execution_count": 20,
     "metadata": {},
     "output_type": "execute_result"
    }
   ],
   "source": [
    "lc_test_dataset"
   ]
  },
  {
   "cell_type": "markdown",
   "id": "1b21a0f4-dbff-4846-beb0-8f8fdba6e1dd",
   "metadata": {},
   "source": [
    "### Create Trouw & Parool TEST dataset"
   ]
  },
  {
   "cell_type": "code",
   "execution_count": 21,
   "id": "3b9a65b5-1f2a-43ff-9124-b1ecaa1b0617",
   "metadata": {},
   "outputs": [
    {
     "name": "stdout",
     "output_type": "stream",
     "text": [
      "Loading trouw parool test dataset....\n"
     ]
    }
   ],
   "source": [
    "# Create or load the Trouw/Parool test dataset\n",
    "\n",
    "if os.path.exists(trouw_parool_test_filename):\n",
    "    print(\"Loading trouw parool test dataset....\")\n",
    "    trouw_parool_test_dataset = load_dataset(trouw_parool_test_filename)\n",
    "else:\n",
    "    print(\"Creating trouw parool test dataset....\")\n",
    "    trouw_parool_test_dataset = Dataset.from_list(trouw_parool_create_dataset(df=df_trouw_parool, nlp=nlp, remove_punc=remove_punc, force_lower_case=force_lower_case))\n",
    "    \n",
    "    # Save dataset, so we don't have to create it everytime again\n",
    "    save_dataset(trouw_parool_test_dataset, trouw_parool_test_filename)"
   ]
  },
  {
   "cell_type": "code",
   "execution_count": 22,
   "id": "2e60c723-a94f-47dc-9ce1-e9fc4f1976b3",
   "metadata": {},
   "outputs": [
    {
     "data": {
      "text/plain": [
       "Dataset({\n",
       "    features: ['tokens', 'ner_tags'],\n",
       "    num_rows: 308\n",
       "})"
      ]
     },
     "execution_count": 22,
     "metadata": {},
     "output_type": "execute_result"
    }
   ],
   "source": [
    "trouw_parool_test_dataset"
   ]
  },
  {
   "cell_type": "markdown",
   "id": "093e718c-1aed-4589-8259-c74aac6fc811",
   "metadata": {},
   "source": [
    "## Transform text representation to numeric representation with word embeddings"
   ]
  },
  {
   "cell_type": "code",
   "execution_count": 23,
   "id": "62a6583d-6017-486e-892e-da9ccdcdf5b9",
   "metadata": {},
   "outputs": [],
   "source": [
    "# Load word embeddings\n",
    "w2v_model = gensim.models.KeyedVectors.load_word2vec_format(\"C:\\\\Users\\\\niels\\\\PycharmProjects\\\\BookReviewsThesis\\\\wordembeddings\\\\cc.nl.300.vec\")\n",
    "\n",
    "vocab = {word: idx for idx, word in enumerate(w2v_model.index_to_key)}\n",
    "unk_index = len(vocab)  # Index for unknown words"
   ]
  },
  {
   "cell_type": "code",
   "execution_count": 24,
   "id": "757baaba-1ac4-4d13-92d9-820bcffc81b2",
   "metadata": {},
   "outputs": [],
   "source": [
    "# Convert Word2Vec embeddings to torch tensor and add an extra row for unknown tokens\n",
    "pretrained_embeddings = torch.FloatTensor(np.vstack((w2v_model.vectors, np.zeros((1, w2v_model.vector_size)))))"
   ]
  },
  {
   "cell_type": "code",
   "execution_count": 25,
   "id": "327cf878-57fa-452c-bb29-19fa312a2023",
   "metadata": {},
   "outputs": [],
   "source": [
    "# Padding function\n",
    "def pad_sequence(sequence, max_len, pad_value=0):\n",
    "    return sequence + [pad_value] * (max_len - len(sequence))\n",
    "\n",
    "# Collate function for DataLoader\n",
    "def collate_fn(batch):\n",
    "    max_len = max(len(item['tokens']) for item in batch)\n",
    "    tokens = [pad_sequence([vocab.get(token, unk_index) for token in item['tokens']], max_len) for item in batch]\n",
    "    ner_tags = [pad_sequence(item['ner_tags'], max_len) for item in batch]\n",
    "\n",
    "    # Debugging: Check the range of indices\n",
    "    tokens_tensor = torch.tensor(tokens)\n",
    "    ner_tags_tensor = torch.tensor(ner_tags)\n",
    "    # Debugging: Check the range of indices\n",
    "    assert tokens_tensor.max().item() < pretrained_embeddings.size(0), f\"Found index out of range: {tokens_tensor.max().item()}\"\n",
    "    assert tokens_tensor.min().item() >= 0, f\"Found negative index: {tokens_tensor.min().item()}\"\n",
    "    \n",
    "    return torch.tensor(tokens), torch.tensor(ner_tags)\n",
    "\n",
    "\n",
    "# Optimize DataLoader\n",
    "train_dataloader = DataLoader(lc_train_dataset, batch_size=64, collate_fn=collate_fn, shuffle=True)\n",
    "val_dataloader = DataLoader(lc_val_dataset, batch_size=64, collate_fn=collate_fn, shuffle=False)"
   ]
  },
  {
   "cell_type": "code",
   "execution_count": 26,
   "id": "1fc569e8-2c22-4e96-abbd-6864ad4746c1",
   "metadata": {},
   "outputs": [
    {
     "name": "stdout",
     "output_type": "stream",
     "text": [
      "Percentage of unknown tokens: 2.89%\n"
     ]
    }
   ],
   "source": [
    "# Function to count unknown tokens in the dataset\n",
    "def count_unknown_tokens(dataset, vocab, unk_index=0):\n",
    "    unknown_token_count = 0\n",
    "    total_token_count = 0\n",
    "\n",
    "    for item in dataset:\n",
    "        for token in item['tokens']:\n",
    "            total_token_count += 1\n",
    "            if vocab.get(token, unk_index) == unk_index:\n",
    "                unknown_token_count += 1\n",
    "\n",
    "    return unknown_token_count, total_token_count\n",
    "\n",
    "# Calculate the number of unknown tokens in the train_dataset\n",
    "unknown_token_count, total_token_count = count_unknown_tokens(lc_train_dataset, vocab, unk_index)\n",
    "\n",
    "print(f\"Percentage of unknown tokens: {100 * unknown_token_count / total_token_count:.2f}%\")"
   ]
  },
  {
   "cell_type": "markdown",
   "id": "5583efdf-4ff3-4cc7-b640-c2e739069c6b",
   "metadata": {},
   "source": [
    "## Initialize BiLSTM-CRF"
   ]
  },
  {
   "cell_type": "code",
   "execution_count": 27,
   "id": "8b670f14-7621-4e4b-9374-20e3d01db9c1",
   "metadata": {},
   "outputs": [
    {
     "data": {
      "text/plain": [
       "BiLSTMCRF(\n",
       "  (embedding): Embedding(2000001, 300)\n",
       "  (lstm): LSTM(300, 200, batch_first=True, bidirectional=True)\n",
       "  (hidden2tag): Linear(in_features=400, out_features=2, bias=True)\n",
       "  (crf): CRF()\n",
       ")"
      ]
     },
     "execution_count": 27,
     "metadata": {},
     "output_type": "execute_result"
    }
   ],
   "source": [
    "# Check if GPU is available\n",
    "device = torch.device('cuda' if torch.cuda.is_available() else 'cpu')\n",
    "\n",
    "class BiLSTMCRF(nn.Module):\n",
    "    def __init__(self, vocab_size, tagset_size, embedding_dim, hidden_dim, pretrained_embeddings):\n",
    "        super(BiLSTMCRF, self).__init__()\n",
    "        self.embedding = nn.Embedding.from_pretrained(pretrained_embeddings)\n",
    "        self.lstm = nn.LSTM(embedding_dim, hidden_dim, bidirectional=True, batch_first=True)\n",
    "        self.hidden2tag = nn.Linear(hidden_dim * 2, tagset_size)\n",
    "        self.crf = CRF(tagset_size)\n",
    "    \n",
    "    def forward(self, sentences):\n",
    "        embeddings = self.embedding(sentences)\n",
    "        lstm_out, _ = self.lstm(embeddings)\n",
    "        emissions = self.hidden2tag(lstm_out)\n",
    "        return emissions\n",
    "    \n",
    "    def loss(self, emissions, tags, mask):\n",
    "        return -self.crf(emissions, tags, mask=mask)\n",
    "    \n",
    "    def predict(self, emissions, mask):\n",
    "        return self.crf.viterbi_decode(emissions, mask=mask)\n",
    "\n",
    "# Hyperparameters\n",
    "EMBEDDING_DIM = 300\n",
    "HIDDEN_DIM = 200\n",
    "TAGSET_SIZE = 2\n",
    "\n",
    "# Initialize model\n",
    "model = BiLSTMCRF(len(vocab), TAGSET_SIZE, EMBEDDING_DIM, HIDDEN_DIM, pretrained_embeddings)\n",
    "\n",
    "\n",
    "# Move the model to the GPU\n",
    "model.to(device)"
   ]
  },
  {
   "cell_type": "markdown",
   "id": "d2bb82a9-619c-465b-b532-9ab358ee5282",
   "metadata": {},
   "source": [
    "### Create evaluation function"
   ]
  },
  {
   "cell_type": "code",
   "execution_count": 28,
   "id": "71866b19-53f1-472a-88a5-8b74b0ac89bb",
   "metadata": {},
   "outputs": [],
   "source": [
    "def evaluate(model, dataloader):\n",
    "    model.eval()\n",
    "    all_predictions = []\n",
    "    all_labels = []\n",
    "    with torch.no_grad():\n",
    "        for sentences, tags in dataloader:\n",
    "            sentences, tags = sentences.to(device), tags.to(device)  # Move data to GPU\n",
    "            mask = sentences != 0\n",
    "            mask[:, 0] = 1  # Ensure the first timestep mask is always on\n",
    "            emissions = model(sentences)\n",
    "            predictions = model.predict(emissions, mask)\n",
    "            for i, sentence in enumerate(sentences):\n",
    "                valid_length = mask[i].sum().item()\n",
    "                all_predictions.extend(predictions[i][:valid_length])\n",
    "                all_labels.extend(tags[i][:valid_length].tolist())\n",
    "\n",
    "    f1 = f1_score(y_true=all_labels, y_pred=all_predictions, average='binary')\n",
    "    recall = recall_score(y_true=all_labels, y_pred=all_predictions, average='binary')\n",
    "    precision = precision_score(y_true=all_labels, y_pred=all_predictions, average='binary')\n",
    "    accuracy = accuracy_score(y_true=all_labels, y_pred=all_predictions)\n",
    "    \n",
    "    return {\n",
    "        \"I_sum\": sum(all_predictions),\n",
    "        \"accuracy\": accuracy,\n",
    "        \"f1\": f1,\n",
    "        \"precision\": precision,\n",
    "        \"recall\": recall\n",
    "    }"
   ]
  },
  {
   "cell_type": "markdown",
   "id": "1b4dd3f7-c61a-4359-8708-c5b94f9a6b4f",
   "metadata": {},
   "source": [
    "### Count number of parameters to determine model size"
   ]
  },
  {
   "cell_type": "code",
   "execution_count": 29,
   "id": "19301227-b3b7-4224-bb61-a03d6a57b07d",
   "metadata": {},
   "outputs": [
    {
     "name": "stdout",
     "output_type": "stream",
     "text": [
      "Total number of trainable parameters: 804010\n"
     ]
    }
   ],
   "source": [
    "def count_parameters(model):\n",
    "    return sum(p.numel() for p in model.parameters() if p.requires_grad)\n",
    "\n",
    "num_parameters = count_parameters(model)\n",
    "print(f'Total number of trainable parameters: {num_parameters}')"
   ]
  },
  {
   "cell_type": "markdown",
   "id": "7ee20553-011c-4f60-a3d9-ac46dff00cf4",
   "metadata": {},
   "source": [
    "### Initialize custom MoM loss for training procedure"
   ]
  },
  {
   "cell_type": "code",
   "execution_count": 30,
   "id": "97ed0440-1313-479e-a698-d598e08b600b",
   "metadata": {},
   "outputs": [],
   "source": [
    "class MoMLoss(nn.Module):\n",
    "    def __init__(self, model):\n",
    "        super(MoMLoss, self).__init__()\n",
    "        self.model = model\n",
    "\n",
    "    def forward(self, emissions, tags, mask):\n",
    "        # Compute class weights\n",
    "        flattened_tags = tags.view(-1)\n",
    "        weights = compute_class_weights(flattened_tags)\n",
    "        \n",
    "        # Calculate the CRF loss using the model's loss function\n",
    "        loss = self.model.loss(emissions, tags, mask)  # Shape: [batch_size]\n",
    "\n",
    "        # Calculate the weights for each sequence in the batch\n",
    "        sequence_weights = weights[tags]  # Shape: [batch_size, seq_len]\n",
    "\n",
    "        # Apply the mask to the weights\n",
    "        sequence_weights = sequence_weights * mask.float()\n",
    "\n",
    "        # Compute the average weight for each sequence\n",
    "        sequence_weights = sequence_weights.sum(dim=1) / mask.sum(dim=1).float()\n",
    "\n",
    "        # Apply the sequence weights to the loss\n",
    "        weighted_loss = loss * sequence_weights\n",
    "\n",
    "        # Return the mean of the weighted loss\n",
    "        return weighted_loss.mean()"
   ]
  },
  {
   "cell_type": "markdown",
   "id": "313b9031-4505-4767-8d94-66b95a754bf8",
   "metadata": {},
   "source": [
    "### Initilaze training procedure"
   ]
  },
  {
   "cell_type": "code",
   "execution_count": 31,
   "id": "6c235ace-2403-4842-96fe-f142c82624e2",
   "metadata": {},
   "outputs": [],
   "source": [
    "# Define your training function\n",
    "def train(model, dataloader, val_dataloader, save_path, epochs=5):\n",
    "    len_dataloader = len(dataloader)\n",
    "    optimizer = Adam(model.parameters())\n",
    "    scaler = GradScaler()  # Mixed precision scaler\n",
    "    criterion = MoMLoss(model)  # Use the custom MoMLoss with CRF loss\n",
    "\n",
    "    # Ensure the export directory exists\n",
    "    os.makedirs(os.path.dirname(save_path), exist_ok=True)\n",
    "\n",
    "    # History dictionary to store loss and evaluation metrics\n",
    "    history = {\n",
    "        \"epoch\": [],\n",
    "        \"loss\": [],\n",
    "        \"eval_f1\": [],\n",
    "        \"eval_precision\": [],\n",
    "        \"eval_recall\": [],\n",
    "        \"accuracy\": [],\n",
    "        \"total_I_pred\": []\n",
    "    }\n",
    "\n",
    "    # Variable to keep track of the best F1 score\n",
    "    best_f1 = 0.0\n",
    "\n",
    "    # Start the timer\n",
    "    start_time = time.time()\n",
    "    \n",
    "    for epoch in range(epochs):\n",
    "        model.train()\n",
    "        total_loss = 0\n",
    "        for sentences, tags in tqdm(dataloader):\n",
    "            sentences, tags = sentences.to(device), tags.to(device)  # Move data to GPU\n",
    "            mask = sentences != 0\n",
    "            mask[:, 0] = 1  # Ensure the first timestep mask is always on\n",
    "\n",
    "            optimizer.zero_grad()\n",
    "            with autocast():  # Mixed precision context\n",
    "                emissions = model(sentences)\n",
    "                loss = criterion(emissions, tags, mask)  # Use custom MoMLoss with CRF loss\n",
    "\n",
    "            scaler.scale(loss).backward()\n",
    "            scaler.step(optimizer)\n",
    "            scaler.update()\n",
    "\n",
    "            total_loss += loss.item()\n",
    "            \n",
    "        eval_metrics = evaluate(model, val_dataloader)\n",
    "        avg_loss = total_loss / len_dataloader\n",
    "        \n",
    "        print(f'Epoch {epoch + 1}, Loss: {avg_loss}, Eval F1: {eval_metrics[\"f1\"]}, '\n",
    "              f'Precision: {eval_metrics[\"precision\"]}, Recall: {eval_metrics[\"recall\"]}, '\n",
    "              f'Accuracy: {eval_metrics[\"accuracy\"]}, Number of I preds {eval_metrics[\"I_sum\"]}')\n",
    "\n",
    "        # Update history\n",
    "        history[\"epoch\"].append(epoch + 1)\n",
    "        history[\"loss\"].append(avg_loss)\n",
    "        history[\"eval_f1\"].append(eval_metrics[\"f1\"])\n",
    "        history[\"eval_precision\"].append(eval_metrics[\"precision\"])\n",
    "        history[\"eval_recall\"].append(eval_metrics[\"recall\"])\n",
    "        history[\"accuracy\"].append(eval_metrics[\"accuracy\"])\n",
    "        history[\"total_I_pred\"].append(eval_metrics[\"I_sum\"])\n",
    "\n",
    "        # Save the model if the evaluation F1 score is the best we've seen so far\n",
    "        if eval_metrics[\"f1\"] > best_f1:\n",
    "            best_f1 = eval_metrics[\"f1\"]\n",
    "            torch.save(model.state_dict(), save_path)\n",
    "            print(f'New best model saved with F1 score: {best_f1}')\n",
    "    \n",
    "    # End the timer\n",
    "    training_time = time.time() - start_time\n",
    "\n",
    "    history['total_train_time'] = training_time\n",
    "    \n",
    "    print(f'Training completed in: {training_time:.2f} seconds')\n",
    "\n",
    "    return history"
   ]
  },
  {
   "cell_type": "markdown",
   "id": "f3702820-24a5-4b13-ac3f-59fcc22f3977",
   "metadata": {},
   "source": [
    "## Train model"
   ]
  },
  {
   "cell_type": "code",
   "execution_count": 32,
   "id": "ceab6402-b904-4f11-89b4-1fbb322bdff4",
   "metadata": {},
   "outputs": [],
   "source": [
    "base_path = f\"models/BiLSTM_CRF/{datetime.now().strftime('%Y-%m-%d_%H_%M')}/\" \n",
    "model_export_path = base_path + \"model_weights.pth\""
   ]
  },
  {
   "cell_type": "code",
   "execution_count": 33,
   "id": "62c50f81-fc1a-4ff4-9311-effd82e52d30",
   "metadata": {},
   "outputs": [
    {
     "name": "stderr",
     "output_type": "stream",
     "text": [
      "100%|████████████████████████████████████████████████████████████████████████████████████████████████████████████████████████████████████████████████████████████████████████████████████████████| 138/138 [14:13<00:00,  6.18s/it]\n"
     ]
    },
    {
     "name": "stdout",
     "output_type": "stream",
     "text": [
      "Epoch 1, Loss: 507.04959979955703, Eval F1: 0.39773659885102153, Precision: 0.6512943839298345, Recall: 0.2862828006466857, Accuracy: 0.9869600552909368, Number of I preds 7069\n",
      "New best model saved with F1 score: 0.39773659885102153\n"
     ]
    },
    {
     "name": "stderr",
     "output_type": "stream",
     "text": [
      "100%|████████████████████████████████████████████████████████████████████████████████████████████████████████████████████████████████████████████████████████████████████████████████████████████| 138/138 [14:21<00:00,  6.24s/it]\n"
     ]
    },
    {
     "name": "stdout",
     "output_type": "stream",
     "text": [
      "Epoch 2, Loss: 181.18328630751458, Eval F1: 0.5484681853888451, Precision: 0.7445084239709959, Recall: 0.4341499813456038, Accuracy: 0.9892485688606906, Number of I preds 9378\n",
      "New best model saved with F1 score: 0.5484681853888451\n"
     ]
    },
    {
     "name": "stderr",
     "output_type": "stream",
     "text": [
      "100%|████████████████████████████████████████████████████████████████████████████████████████████████████████████████████████████████████████████████████████████████████████████████████████████| 138/138 [14:20<00:00,  6.24s/it]\n"
     ]
    },
    {
     "name": "stdout",
     "output_type": "stream",
     "text": [
      "Epoch 3, Loss: 153.91037877400717, Eval F1: 0.6142913282682736, Precision: 0.6488861214888613, Recall: 0.5831986071384156, Accuracy: 0.9889848333369184, Number of I preds 14454\n",
      "New best model saved with F1 score: 0.6142913282682736\n"
     ]
    },
    {
     "name": "stderr",
     "output_type": "stream",
     "text": [
      "100%|████████████████████████████████████████████████████████████████████████████████████████████████████████████████████████████████████████████████████████████████████████████████████████████| 138/138 [18:25<00:00,  8.01s/it]\n"
     ]
    },
    {
     "name": "stdout",
     "output_type": "stream",
     "text": [
      "Epoch 4, Loss: 140.95686312689298, Eval F1: 0.6296087017940387, Precision: 0.7286251430439759, Recall: 0.5542842929983833, Accuracy: 0.9901912830733232, Number of I preds 12234\n",
      "New best model saved with F1 score: 0.6296087017940387\n"
     ]
    },
    {
     "name": "stderr",
     "output_type": "stream",
     "text": [
      "100%|████████████████████████████████████████████████████████████████████████████████████████████████████████████████████████████████████████████████████████████████████████████████████████████| 138/138 [14:30<00:00,  6.31s/it]\n"
     ]
    },
    {
     "name": "stdout",
     "output_type": "stream",
     "text": [
      "Epoch 5, Loss: 127.93327543009882, Eval F1: 0.6292268836817736, Precision: 0.7217930146467085, Recall: 0.5577042656386022, Accuracy: 0.9901145940203113, Number of I preds 12426\n"
     ]
    },
    {
     "name": "stderr",
     "output_type": "stream",
     "text": [
      "100%|████████████████████████████████████████████████████████████████████████████████████████████████████████████████████████████████████████████████████████████████████████████████████████████| 138/138 [14:40<00:00,  6.38s/it]\n"
     ]
    },
    {
     "name": "stdout",
     "output_type": "stream",
     "text": [
      "Epoch 6, Loss: 119.90337009706359, Eval F1: 0.6281458654340011, Precision: 0.7660164638511096, Recall: 0.5323342867802512, Accuracy: 0.9905204848618615, Number of I preds 11176\n"
     ]
    },
    {
     "name": "stderr",
     "output_type": "stream",
     "text": [
      "100%|████████████████████████████████████████████████████████████████████████████████████████████████████████████████████████████████████████████████████████████████████████████████████████████| 138/138 [14:08<00:00,  6.15s/it]\n"
     ]
    },
    {
     "name": "stdout",
     "output_type": "stream",
     "text": [
      "Epoch 7, Loss: 111.55733556332795, Eval F1: 0.6446140195208517, Precision: 0.7509302902505581, Recall: 0.5646685735605024, Accuracy: 0.9906355184413792, Number of I preds 12093\n",
      "New best model saved with F1 score: 0.6446140195208517\n"
     ]
    },
    {
     "name": "stderr",
     "output_type": "stream",
     "text": [
      "100%|████████████████████████████████████████████████████████████████████████████████████████████████████████████████████████████████████████████████████████████████████████████████████████████| 138/138 [14:34<00:00,  6.34s/it]\n"
     ]
    },
    {
     "name": "stdout",
     "output_type": "stream",
     "text": [
      "Epoch 8, Loss: 104.12436582040095, Eval F1: 0.6581297155118709, Precision: 0.7421167655323134, Recall: 0.5912199975127471, Accuracy: 0.9907617748091424, Number of I preds 12812\n",
      "New best model saved with F1 score: 0.6581297155118709\n"
     ]
    },
    {
     "name": "stderr",
     "output_type": "stream",
     "text": [
      "100%|████████████████████████████████████████████████████████████████████████████████████████████████████████████████████████████████████████████████████████████████████████████████████████████| 138/138 [14:41<00:00,  6.39s/it]\n"
     ]
    },
    {
     "name": "stdout",
     "output_type": "stream",
     "text": [
      "Epoch 9, Loss: 95.40957152325174, Eval F1: 0.6675299223069924, Precision: 0.7634486071085494, Recall: 0.5930232558139535, Accuracy: 0.9911152926388797, Number of I preds 12492\n",
      "New best model saved with F1 score: 0.6675299223069924\n"
     ]
    },
    {
     "name": "stderr",
     "output_type": "stream",
     "text": [
      "100%|████████████████████████████████████████████████████████████████████████████████████████████████████████████████████████████████████████████████████████████████████████████████████████████| 138/138 [14:44<00:00,  6.41s/it]\n"
     ]
    },
    {
     "name": "stdout",
     "output_type": "stream",
     "text": [
      "Epoch 10, Loss: 91.20776408651601, Eval F1: 0.6734840452819864, Precision: 0.748346887588356, Recall: 0.6122372839199105, Accuracy: 0.991071336718251, Number of I preds 13157\n",
      "New best model saved with F1 score: 0.6734840452819864\n"
     ]
    },
    {
     "name": "stderr",
     "output_type": "stream",
     "text": [
      "100%|████████████████████████████████████████████████████████████████████████████████████████████████████████████████████████████████████████████████████████████████████████████████████████████| 138/138 [18:14<00:00,  7.93s/it]\n"
     ]
    },
    {
     "name": "stdout",
     "output_type": "stream",
     "text": [
      "Epoch 11, Loss: 85.30611973914547, Eval F1: 0.6709277428014446, Precision: 0.6901834440134131, Recall: 0.6527173237159557, Accuracy: 0.9903699124528994, Number of I preds 15209\n"
     ]
    },
    {
     "name": "stderr",
     "output_type": "stream",
     "text": [
      "100%|████████████████████████████████████████████████████████████████████████████████████████████████████████████████████████████████████████████████████████████████████████████████████████████| 138/138 [14:22<00:00,  6.25s/it]\n"
     ]
    },
    {
     "name": "stdout",
     "output_type": "stream",
     "text": [
      "Epoch 12, Loss: 80.0565922225731, Eval F1: 0.6774127867517307, Precision: 0.7456297624383684, Recall: 0.6206317622186295, Accuracy: 0.9911096812447568, Number of I preds 13386\n",
      "New best model saved with F1 score: 0.6774127867517307\n"
     ]
    },
    {
     "name": "stderr",
     "output_type": "stream",
     "text": [
      "100%|████████████████████████████████████████████████████████████████████████████████████████████████████████████████████████████████████████████████████████████████████████████████████████████| 138/138 [15:09<00:00,  6.59s/it]\n"
     ]
    },
    {
     "name": "stdout",
     "output_type": "stream",
     "text": [
      "Epoch 13, Loss: 75.68931206412937, Eval F1: 0.6604530183158123, Precision: 0.7880851797568756, Recall: 0.5683994528043775, Accuracy: 0.9912097511066137, Number of I preds 11599\n"
     ]
    },
    {
     "name": "stderr",
     "output_type": "stream",
     "text": [
      "100%|████████████████████████████████████████████████████████████████████████████████████████████████████████████████████████████████████████████████████████████████████████████████████████████| 138/138 [14:42<00:00,  6.40s/it]\n"
     ]
    },
    {
     "name": "stdout",
     "output_type": "stream",
     "text": [
      "Epoch 14, Loss: 71.36668821694194, Eval F1: 0.6751613884476291, Precision: 0.739577934098482, Recall: 0.6210670314637483, Accuracy: 0.9910114818476077, Number of I preds 13505\n"
     ]
    },
    {
     "name": "stderr",
     "output_type": "stream",
     "text": [
      "100%|████████████████████████████████████████████████████████████████████████████████████████████████████████████████████████████████████████████████████████████████████████████████████████████| 138/138 [14:45<00:00,  6.42s/it]\n"
     ]
    },
    {
     "name": "stdout",
     "output_type": "stream",
     "text": [
      "Epoch 15, Loss: 67.54888426739237, Eval F1: 0.6702894904565428, Precision: 0.727729623424867, Recall: 0.6212535754259421, Accuracy: 0.9908076011944787, Number of I preds 13729\n"
     ]
    },
    {
     "name": "stderr",
     "output_type": "stream",
     "text": [
      "100%|████████████████████████████████████████████████████████████████████████████████████████████████████████████████████████████████████████████████████████████████████████████████████████████| 138/138 [14:39<00:00,  6.37s/it]\n"
     ]
    },
    {
     "name": "stdout",
     "output_type": "stream",
     "text": [
      "Epoch 16, Loss: 62.80047767749731, Eval F1: 0.6608955006728985, Precision: 0.7961615984576286, Recall: 0.5649172988434275, Accuracy: 0.9912808287655026, Number of I preds 11411\n"
     ]
    },
    {
     "name": "stderr",
     "output_type": "stream",
     "text": [
      "100%|████████████████████████████████████████████████████████████████████████████████████████████████████████████████████████████████████████████████████████████████████████████████████████████| 138/138 [14:33<00:00,  6.33s/it]\n"
     ]
    },
    {
     "name": "stdout",
     "output_type": "stream",
     "text": [
      "Epoch 17, Loss: 59.264257748921715, Eval F1: 0.6876183515497825, Precision: 0.7382124259932948, Recall: 0.6435144882477304, Accuracy: 0.9912060101771984, Number of I preds 14019\n",
      "New best model saved with F1 score: 0.6876183515497825\n"
     ]
    },
    {
     "name": "stderr",
     "output_type": "stream",
     "text": [
      "100%|████████████████████████████████████████████████████████████████████████████████████████████████████████████████████████████████████████████████████████████████████████████████████████████| 138/138 [14:30<00:00,  6.31s/it]\n"
     ]
    },
    {
     "name": "stdout",
     "output_type": "stream",
     "text": [
      "Epoch 18, Loss: 56.312911779984184, Eval F1: 0.6764714950821693, Precision: 0.670906978166473, Recall: 0.6821290884218381, Accuracy: 0.9901866069115541, Number of I preds 16351\n"
     ]
    },
    {
     "name": "stderr",
     "output_type": "stream",
     "text": [
      "100%|████████████████████████████████████████████████████████████████████████████████████████████████████████████████████████████████████████████████████████████████████████████████████████████| 138/138 [14:27<00:00,  6.28s/it]\n"
     ]
    },
    {
     "name": "stdout",
     "output_type": "stream",
     "text": [
      "Epoch 19, Loss: 53.19728525134101, Eval F1: 0.6668258733624455, Precision: 0.7386999244142102, Recall: 0.607698047506529, Accuracy: 0.9908665208327683, Number of I preds 13230\n"
     ]
    },
    {
     "name": "stderr",
     "output_type": "stream",
     "text": [
      "100%|████████████████████████████████████████████████████████████████████████████████████████████████████████████████████████████████████████████████████████████████████████████████████████████| 138/138 [14:41<00:00,  6.39s/it]\n"
     ]
    },
    {
     "name": "stdout",
     "output_type": "stream",
     "text": [
      "Epoch 20, Loss: 49.91978502964628, Eval F1: 0.6762354903732536, Precision: 0.7665458556571069, Recall: 0.6049620693943539, Accuracy: 0.9912873753919793, Number of I preds 12692\n",
      "Training completed in: 19082.06 seconds\n"
     ]
    }
   ],
   "source": [
    "training_history = train(model, train_dataloader, val_dataloader, save_path=model_export_path, epochs=20)"
   ]
  },
  {
   "cell_type": "code",
   "execution_count": 34,
   "id": "550ca247-fdea-4c3e-8cad-812ab9bfd480",
   "metadata": {},
   "outputs": [
    {
     "data": {
      "text/plain": [
       "{'epoch': [1,\n",
       "  2,\n",
       "  3,\n",
       "  4,\n",
       "  5,\n",
       "  6,\n",
       "  7,\n",
       "  8,\n",
       "  9,\n",
       "  10,\n",
       "  11,\n",
       "  12,\n",
       "  13,\n",
       "  14,\n",
       "  15,\n",
       "  16,\n",
       "  17,\n",
       "  18,\n",
       "  19,\n",
       "  20],\n",
       " 'loss': [507.04959979955703,\n",
       "  181.18328630751458,\n",
       "  153.91037877400717,\n",
       "  140.95686312689298,\n",
       "  127.93327543009882,\n",
       "  119.90337009706359,\n",
       "  111.55733556332795,\n",
       "  104.12436582040095,\n",
       "  95.40957152325174,\n",
       "  91.20776408651601,\n",
       "  85.30611973914547,\n",
       "  80.0565922225731,\n",
       "  75.68931206412937,\n",
       "  71.36668821694194,\n",
       "  67.54888426739237,\n",
       "  62.80047767749731,\n",
       "  59.264257748921715,\n",
       "  56.312911779984184,\n",
       "  53.19728525134101,\n",
       "  49.91978502964628],\n",
       " 'eval_f1': [0.39773659885102153,\n",
       "  0.5484681853888451,\n",
       "  0.6142913282682736,\n",
       "  0.6296087017940387,\n",
       "  0.6292268836817736,\n",
       "  0.6281458654340011,\n",
       "  0.6446140195208517,\n",
       "  0.6581297155118709,\n",
       "  0.6675299223069924,\n",
       "  0.6734840452819864,\n",
       "  0.6709277428014446,\n",
       "  0.6774127867517307,\n",
       "  0.6604530183158123,\n",
       "  0.6751613884476291,\n",
       "  0.6702894904565428,\n",
       "  0.6608955006728985,\n",
       "  0.6876183515497825,\n",
       "  0.6764714950821693,\n",
       "  0.6668258733624455,\n",
       "  0.6762354903732536],\n",
       " 'eval_precision': [0.6512943839298345,\n",
       "  0.7445084239709959,\n",
       "  0.6488861214888613,\n",
       "  0.7286251430439759,\n",
       "  0.7217930146467085,\n",
       "  0.7660164638511096,\n",
       "  0.7509302902505581,\n",
       "  0.7421167655323134,\n",
       "  0.7634486071085494,\n",
       "  0.748346887588356,\n",
       "  0.6901834440134131,\n",
       "  0.7456297624383684,\n",
       "  0.7880851797568756,\n",
       "  0.739577934098482,\n",
       "  0.727729623424867,\n",
       "  0.7961615984576286,\n",
       "  0.7382124259932948,\n",
       "  0.670906978166473,\n",
       "  0.7386999244142102,\n",
       "  0.7665458556571069],\n",
       " 'eval_recall': [0.2862828006466857,\n",
       "  0.4341499813456038,\n",
       "  0.5831986071384156,\n",
       "  0.5542842929983833,\n",
       "  0.5577042656386022,\n",
       "  0.5323342867802512,\n",
       "  0.5646685735605024,\n",
       "  0.5912199975127471,\n",
       "  0.5930232558139535,\n",
       "  0.6122372839199105,\n",
       "  0.6527173237159557,\n",
       "  0.6206317622186295,\n",
       "  0.5683994528043775,\n",
       "  0.6210670314637483,\n",
       "  0.6212535754259421,\n",
       "  0.5649172988434275,\n",
       "  0.6435144882477304,\n",
       "  0.6821290884218381,\n",
       "  0.607698047506529,\n",
       "  0.6049620693943539],\n",
       " 'accuracy': [0.9869600552909368,\n",
       "  0.9892485688606906,\n",
       "  0.9889848333369184,\n",
       "  0.9901912830733232,\n",
       "  0.9901145940203113,\n",
       "  0.9905204848618615,\n",
       "  0.9906355184413792,\n",
       "  0.9907617748091424,\n",
       "  0.9911152926388797,\n",
       "  0.991071336718251,\n",
       "  0.9903699124528994,\n",
       "  0.9911096812447568,\n",
       "  0.9912097511066137,\n",
       "  0.9910114818476077,\n",
       "  0.9908076011944787,\n",
       "  0.9912808287655026,\n",
       "  0.9912060101771984,\n",
       "  0.9901866069115541,\n",
       "  0.9908665208327683,\n",
       "  0.9912873753919793],\n",
       " 'total_I_pred': [7069,\n",
       "  9378,\n",
       "  14454,\n",
       "  12234,\n",
       "  12426,\n",
       "  11176,\n",
       "  12093,\n",
       "  12812,\n",
       "  12492,\n",
       "  13157,\n",
       "  15209,\n",
       "  13386,\n",
       "  11599,\n",
       "  13505,\n",
       "  13729,\n",
       "  11411,\n",
       "  14019,\n",
       "  16351,\n",
       "  13230,\n",
       "  12692],\n",
       " 'total_train_time': 19082.059438228607}"
      ]
     },
     "execution_count": 34,
     "metadata": {},
     "output_type": "execute_result"
    }
   ],
   "source": [
    "training_history"
   ]
  },
  {
   "cell_type": "code",
   "execution_count": 35,
   "id": "e65db689-3b8b-4337-ab62-ea085cb33a2a",
   "metadata": {},
   "outputs": [],
   "source": [
    "with open(base_path + \"loss_training_history.json\", 'w') as file:\n",
    "    json.dump(training_history, file, indent=4)"
   ]
  },
  {
   "cell_type": "code",
   "execution_count": 36,
   "id": "4d8ab6c7-fad9-42cc-8930-96666ffc45f1",
   "metadata": {},
   "outputs": [],
   "source": [
    "model_paraters = {\n",
    "    \"EMBEDDING_DIM\": EMBEDDING_DIM,\n",
    "     \"HIDDEN_DIM\": HIDDEN_DIM,\n",
    "    \"TAGSET_SIZE\": TAGSET_SIZE,\n",
    "    \"NUM_PARAMETERS\": num_parameters\n",
    "}\n",
    "\n",
    "with open(base_path + \"settings.json\", 'w') as file:\n",
    "    json.dump(model_paraters, file, indent=4) "
   ]
  },
  {
   "cell_type": "code",
   "execution_count": 37,
   "id": "be242c93-165a-411a-ac9b-64c472979d76",
   "metadata": {},
   "outputs": [
    {
     "data": {
      "text/plain": [
       "<matplotlib.legend.Legend at 0x1cab9411d00>"
      ]
     },
     "execution_count": 37,
     "metadata": {},
     "output_type": "execute_result"
    },
    {
     "data": {
      "image/png": "[encoded data removed]",
      "text/plain": [
       "<Figure size 1000x600 with 2 Axes>"
      ]
     },
     "metadata": {},
     "output_type": "display_data"
    }
   ],
   "source": [
    "# Create the plot for smoothed training loss\n",
    "fig, ax1 = plt.subplots(figsize=(10, 6))\n",
    "line1, = ax1.plot(training_history['epoch'], training_history['loss'], marker='o', color='b', label='Training Loss (MoM)')\n",
    "ax1.set_title(\"Training Loss and Evaludation F1 Score vs. Epochs\")\n",
    "ax1.set_xlabel(\"Epochs\")\n",
    "ax1.set_ylabel(\"Training Loss\")\n",
    "ax1.grid(True)\n",
    "\n",
    "# Create secondary y-axis for F1 scores\n",
    "ax2 = ax1.twinx()\n",
    "line2, = ax2.plot(training_history['epoch'], training_history['eval_f1'], marker='s', color='r', label='Evaluation F1 Score')\n",
    "ax2.set_ylabel('F1 Score')\n",
    "\n",
    "# Combine legends from both axes\n",
    "lines = [line1, line2]\n",
    "labels = [l.get_label() for l in lines]\n",
    "ax1.legend(lines, labels, loc='center right')"
   ]
  },
  {
   "cell_type": "code",
   "execution_count": 38,
   "id": "506f14bc-b1cc-4f0d-b1ec-a5e6eb08e824",
   "metadata": {},
   "outputs": [],
   "source": [
    "# Save the training history plot to a PNG file\n",
    "fig.savefig(base_path + \"training_and_f1_plot.png\")"
   ]
  },
  {
   "cell_type": "markdown",
   "id": "aa899147-8254-4dc2-ba05-bc043bf0dfbe",
   "metadata": {},
   "source": [
    "## Evaluate on Leeuwarde Courant test data and Trouw & Parool test data"
   ]
  },
  {
   "cell_type": "code",
   "execution_count": 39,
   "id": "0c2b7967-70db-4345-a3c2-562983a6d868",
   "metadata": {},
   "outputs": [],
   "source": [
    "# Create dataloaders\n",
    "lc_test_dataloader = DataLoader(lc_test_dataset, batch_size=64, collate_fn=collate_fn, shuffle=False)\n",
    "trouw_parool_test_dataloader = DataLoader(trouw_parool_test_dataset, batch_size=64, collate_fn=collate_fn, shuffle=False)"
   ]
  },
  {
   "cell_type": "code",
   "execution_count": 40,
   "id": "199a5afc-462b-4585-a251-fe479aebb9e2",
   "metadata": {},
   "outputs": [
    {
     "data": {
      "text/plain": [
       "<All keys matched successfully>"
      ]
     },
     "execution_count": 40,
     "metadata": {},
     "output_type": "execute_result"
    }
   ],
   "source": [
    "# Load the model with the best validation F1 scoring during the training procedure\n",
    "model.load_state_dict(torch.load(model_export_path)) "
   ]
  },
  {
   "cell_type": "markdown",
   "id": "95ffb247-f01c-4ff7-a470-232270740e0b",
   "metadata": {},
   "source": [
    "### Leeuwarde Courant test dataset"
   ]
  },
  {
   "cell_type": "code",
   "execution_count": 41,
   "id": "cbb41973-4659-4cd4-8c9b-1b19e63df3f1",
   "metadata": {},
   "outputs": [
    {
     "data": {
      "text/plain": [
       "{'I_sum': 13690,\n",
       " 'accuracy': 0.9915556754633733,\n",
       " 'f1': 0.6900431150633253,\n",
       " 'precision': 0.7482103725346969,\n",
       " 'recall': 0.6402675334416802}"
      ]
     },
     "execution_count": 41,
     "metadata": {},
     "output_type": "execute_result"
    }
   ],
   "source": [
    "evaluate(model, lc_test_dataloader)"
   ]
  },
  {
   "cell_type": "markdown",
   "id": "f63fb454-96b1-4b2a-bbcd-455c7e34eb34",
   "metadata": {},
   "source": [
    "### Trouw & Parool test dataset"
   ]
  },
  {
   "cell_type": "code",
   "execution_count": 42,
   "id": "589fa581-41af-486b-9e7d-8ffaaa77cff9",
   "metadata": {},
   "outputs": [
    {
     "data": {
      "text/plain": [
       "{'I_sum': 1050,\n",
       " 'accuracy': 0.9854814324860626,\n",
       " 'f1': 0.3454739084132055,\n",
       " 'precision': 0.7723809523809524,\n",
       " 'recall': 0.22249657064471878}"
      ]
     },
     "execution_count": 42,
     "metadata": {},
     "output_type": "execute_result"
    }
   ],
   "source": [
    "evaluate(model, trouw_parool_test_dataloader)"
   ]
  },
  {
   "cell_type": "code",
   "execution_count": null,
   "id": "f52b2891-8ab3-42ce-8df1-877b56bf8000",
   "metadata": {},
   "outputs": [],
   "source": []
  }
 ],
 "metadata": {
  "accelerator": "GPU",
  "colab": {
   "gpuType": "V100",
   "provenance": []
  },
  "kernelspec": {
   "display_name": "Python 3 (ipykernel)",
   "language": "python",
   "name": "python3"
  },
  "language_info": {
   "codemirror_mode": {
    "name": "ipython",
    "version": 3
   },
   "file_extension": ".py",
   "mimetype": "text/x-python",
   "name": "python",
   "nbconvert_exporter": "python",
   "pygments_lexer": "ipython3",
   "version": "3.10.14"
  },
  "widgets": {
   "application/vnd.jupyter.widget-state+json": {
    "02c60f6c2b7c4c808df0722ff4cbd1b5": {
     "model_module": "@jupyter-widgets/controls",
     "model_module_version": "1.5.0",
     "model_name": "DescriptionStyleModel",
     "state": {
      "_model_module": "@jupyter-widgets/controls",
      "_model_module_version": "1.5.0",
      "_model_name": "DescriptionStyleModel",
      "_view_count": null,
      "_view_module": "@jupyter-widgets/base",
      "_view_module_version": "1.2.0",
      "_view_name": "StyleView",
      "description_width": ""
     }
    },
    "0345452718a2461080a05b47b3232c5f": {
     "model_module": "@jupyter-widgets/base",
     "model_module_version": "1.2.0",
     "model_name": "LayoutModel",
     "state": {
      "_model_module": "@jupyter-widgets/base",
      "_model_module_version": "1.2.0",
      "_model_name": "LayoutModel",
      "_view_count": null,
      "_view_module": "@jupyter-widgets/base",
      "_view_module_version": "1.2.0",
      "_view_name": "LayoutView",
      "align_content": null,
      "align_items": null,
      "align_self": null,
      "border": null,
      "bottom": null,
      "display": null,
      "flex": null,
      "flex_flow": null,
      "grid_area": null,
      "grid_auto_columns": null,
      "grid_auto_flow": null,
      "grid_auto_rows": null,
      "grid_column": null,
      "grid_gap": null,
      "grid_row": null,
      "grid_template_areas": null,
      "grid_template_columns": null,
      "grid_template_rows": null,
      "height": null,
      "justify_content": null,
      "justify_items": null,
      "left": null,
      "margin": null,
      "max_height": null,
      "max_width": null,
      "min_height": null,
      "min_width": null,
      "object_fit": null,
      "object_position": null,
      "order": null,
      "overflow": null,
      "overflow_x": null,
      "overflow_y": null,
      "padding": null,
      "right": null,
      "top": null,
      "visibility": null,
      "width": null
     }
    },
    "03b1c620d85042bc904f18b9ffc8bad8": {
     "model_module": "@jupyter-widgets/base",
     "model_module_version": "1.2.0",
     "model_name": "LayoutModel",
     "state": {
      "_model_module": "@jupyter-widgets/base",
      "_model_module_version": "1.2.0",
      "_model_name": "LayoutModel",
      "_view_count": null,
      "_view_module": "@jupyter-widgets/base",
      "_view_module_version": "1.2.0",
      "_view_name": "LayoutView",
      "align_content": null,
      "align_items": null,
      "align_self": null,
      "border": null,
      "bottom": null,
      "display": null,
      "flex": null,
      "flex_flow": null,
      "grid_area": null,
      "grid_auto_columns": null,
      "grid_auto_flow": null,
      "grid_auto_rows": null,
      "grid_column": null,
      "grid_gap": null,
      "grid_row": null,
      "grid_template_areas": null,
      "grid_template_columns": null,
      "grid_template_rows": null,
      "height": null,
      "justify_content": null,
      "justify_items": null,
      "left": null,
      "margin": null,
      "max_height": null,
      "max_width": null,
      "min_height": null,
      "min_width": null,
      "object_fit": null,
      "object_position": null,
      "order": null,
      "overflow": null,
      "overflow_x": null,
      "overflow_y": null,
      "padding": null,
      "right": null,
      "top": null,
      "visibility": null,
      "width": null
     }
    },
    "058893d3a6414ed291906ed24fb5a676": {
     "model_module": "@jupyter-widgets/controls",
     "model_module_version": "1.5.0",
     "model_name": "DescriptionStyleModel",
     "state": {
      "_model_module": "@jupyter-widgets/controls",
      "_model_module_version": "1.5.0",
      "_model_name": "DescriptionStyleModel",
      "_view_count": null,
      "_view_module": "@jupyter-widgets/base",
      "_view_module_version": "1.2.0",
      "_view_name": "StyleView",
      "description_width": ""
     }
    },
    "06c9949f0b7e41b6876d8f9db23c6bf3": {
     "model_module": "@jupyter-widgets/base",
     "model_module_version": "1.2.0",
     "model_name": "LayoutModel",
     "state": {
      "_model_module": "@jupyter-widgets/base",
      "_model_module_version": "1.2.0",
      "_model_name": "LayoutModel",
      "_view_count": null,
      "_view_module": "@jupyter-widgets/base",
      "_view_module_version": "1.2.0",
      "_view_name": "LayoutView",
      "align_content": null,
      "align_items": null,
      "align_self": null,
      "border": null,
      "bottom": null,
      "display": null,
      "flex": null,
      "flex_flow": null,
      "grid_area": null,
      "grid_auto_columns": null,
      "grid_auto_flow": null,
      "grid_auto_rows": null,
      "grid_column": null,
      "grid_gap": null,
      "grid_row": null,
      "grid_template_areas": null,
      "grid_template_columns": null,
      "grid_template_rows": null,
      "height": null,
      "justify_content": null,
      "justify_items": null,
      "left": null,
      "margin": null,
      "max_height": null,
      "max_width": null,
      "min_height": null,
      "min_width": null,
      "object_fit": null,
      "object_position": null,
      "order": null,
      "overflow": null,
      "overflow_x": null,
      "overflow_y": null,
      "padding": null,
      "right": null,
      "top": null,
      "visibility": null,
      "width": null
     }
    },
    "0781044e951d410080b356822c8ed2ed": {
     "model_module": "@jupyter-widgets/base",
     "model_module_version": "1.2.0",
     "model_name": "LayoutModel",
     "state": {
      "_model_module": "@jupyter-widgets/base",
      "_model_module_version": "1.2.0",
      "_model_name": "LayoutModel",
      "_view_count": null,
      "_view_module": "@jupyter-widgets/base",
      "_view_module_version": "1.2.0",
      "_view_name": "LayoutView",
      "align_content": null,
      "align_items": null,
      "align_self": null,
      "border": null,
      "bottom": null,
      "display": null,
      "flex": null,
      "flex_flow": null,
      "grid_area": null,
      "grid_auto_columns": null,
      "grid_auto_flow": null,
      "grid_auto_rows": null,
      "grid_column": null,
      "grid_gap": null,
      "grid_row": null,
      "grid_template_areas": null,
      "grid_template_columns": null,
      "grid_template_rows": null,
      "height": null,
      "justify_content": null,
      "justify_items": null,
      "left": null,
      "margin": null,
      "max_height": null,
      "max_width": null,
      "min_height": null,
      "min_width": null,
      "object_fit": null,
      "object_position": null,
      "order": null,
      "overflow": null,
      "overflow_x": null,
      "overflow_y": null,
      "padding": null,
      "right": null,
      "top": null,
      "visibility": null,
      "width": null
     }
    },
    "09fdc9ade5014a838c5af7101fd9e513": {
     "model_module": "@jupyter-widgets/controls",
     "model_module_version": "1.5.0",
     "model_name": "HTMLModel",
     "state": {
      "_dom_classes": [],
      "_model_module": "@jupyter-widgets/controls",
      "_model_module_version": "1.5.0",
      "_model_name": "HTMLModel",
      "_view_count": null,
      "_view_module": "@jupyter-widgets/controls",
      "_view_module_version": "1.5.0",
      "_view_name": "HTMLView",
      "description": "",
      "description_tooltip": null,
      "layout": "IPY_MODEL_1df03bf58a3749cf9a519c72a3cd6eb1",
      "placeholder": "​",
      "style": "IPY_MODEL_39f8e06f2a6c4a34b20e4400af0eb3a5",
      "value": " 709M/709M [00:04&lt;00:00, 166MB/s]"
     }
    },
    "0f90c8e7b019485f9a763af471bd9412": {
     "model_module": "@jupyter-widgets/base",
     "model_module_version": "1.2.0",
     "model_name": "LayoutModel",
     "state": {
      "_model_module": "@jupyter-widgets/base",
      "_model_module_version": "1.2.0",
      "_model_name": "LayoutModel",
      "_view_count": null,
      "_view_module": "@jupyter-widgets/base",
      "_view_module_version": "1.2.0",
      "_view_name": "LayoutView",
      "align_content": null,
      "align_items": null,
      "align_self": null,
      "border": null,
      "bottom": null,
      "display": null,
      "flex": null,
      "flex_flow": null,
      "grid_area": null,
      "grid_auto_columns": null,
      "grid_auto_flow": null,
      "grid_auto_rows": null,
      "grid_column": null,
      "grid_gap": null,
      "grid_row": null,
      "grid_template_areas": null,
      "grid_template_columns": null,
      "grid_template_rows": null,
      "height": null,
      "justify_content": null,
      "justify_items": null,
      "left": null,
      "margin": null,
      "max_height": null,
      "max_width": null,
      "min_height": null,
      "min_width": null,
      "object_fit": null,
      "object_position": null,
      "order": null,
      "overflow": null,
      "overflow_x": null,
      "overflow_y": null,
      "padding": null,
      "right": null,
      "top": null,
      "visibility": null,
      "width": null
     }
    },
    "144f251cf24c4c6290dd12ff28dcb3b1": {
     "model_module": "@jupyter-widgets/controls",
     "model_module_version": "1.5.0",
     "model_name": "DescriptionStyleModel",
     "state": {
      "_model_module": "@jupyter-widgets/controls",
      "_model_module_version": "1.5.0",
      "_model_name": "DescriptionStyleModel",
      "_view_count": null,
      "_view_module": "@jupyter-widgets/base",
      "_view_module_version": "1.2.0",
      "_view_name": "StyleView",
      "description_width": ""
     }
    },
    "1648440a54624a61ba16f621f1d65051": {
     "model_module": "@jupyter-widgets/controls",
     "model_module_version": "1.5.0",
     "model_name": "HBoxModel",
     "state": {
      "_dom_classes": [],
      "_model_module": "@jupyter-widgets/controls",
      "_model_module_version": "1.5.0",
      "_model_name": "HBoxModel",
      "_view_count": null,
      "_view_module": "@jupyter-widgets/controls",
      "_view_module_version": "1.5.0",
      "_view_name": "HBoxView",
      "box_style": "",
      "children": [
       "IPY_MODEL_b5187b920c6c4facb1794399e6cb1085",
       "IPY_MODEL_32d147fc28e84cc483228024ed5cbe69",
       "IPY_MODEL_166c9552ad4944e28c118aee610b29ef"
      ],
      "layout": "IPY_MODEL_0781044e951d410080b356822c8ed2ed"
     }
    },
    "166c9552ad4944e28c118aee610b29ef": {
     "model_module": "@jupyter-widgets/controls",
     "model_module_version": "1.5.0",
     "model_name": "HTMLModel",
     "state": {
      "_dom_classes": [],
      "_model_module": "@jupyter-widgets/controls",
      "_model_module_version": "1.5.0",
      "_model_name": "HTMLModel",
      "_view_count": null,
      "_view_module": "@jupyter-widgets/controls",
      "_view_module_version": "1.5.0",
      "_view_name": "HTMLView",
      "description": "",
      "description_tooltip": null,
      "layout": "IPY_MODEL_03b1c620d85042bc904f18b9ffc8bad8",
      "placeholder": "​",
      "style": "IPY_MODEL_3d893af58000457b9264d159adb4e4fd",
      "value": " 1.19k/1.19k [00:00&lt;00:00, 56.3kB/s]"
     }
    },
    "1db54a064f3c4fef8624443931f60b11": {
     "model_module": "@jupyter-widgets/controls",
     "model_module_version": "1.5.0",
     "model_name": "DescriptionStyleModel",
     "state": {
      "_model_module": "@jupyter-widgets/controls",
      "_model_module_version": "1.5.0",
      "_model_name": "DescriptionStyleModel",
      "_view_count": null,
      "_view_module": "@jupyter-widgets/base",
      "_view_module_version": "1.2.0",
      "_view_name": "StyleView",
      "description_width": ""
     }
    },
    "1df03bf58a3749cf9a519c72a3cd6eb1": {
     "model_module": "@jupyter-widgets/base",
     "model_module_version": "1.2.0",
     "model_name": "LayoutModel",
     "state": {
      "_model_module": "@jupyter-widgets/base",
      "_model_module_version": "1.2.0",
      "_model_name": "LayoutModel",
      "_view_count": null,
      "_view_module": "@jupyter-widgets/base",
      "_view_module_version": "1.2.0",
      "_view_name": "LayoutView",
      "align_content": null,
      "align_items": null,
      "align_self": null,
      "border": null,
      "bottom": null,
      "display": null,
      "flex": null,
      "flex_flow": null,
      "grid_area": null,
      "grid_auto_columns": null,
      "grid_auto_flow": null,
      "grid_auto_rows": null,
      "grid_column": null,
      "grid_gap": null,
      "grid_row": null,
      "grid_template_areas": null,
      "grid_template_columns": null,
      "grid_template_rows": null,
      "height": null,
      "justify_content": null,
      "justify_items": null,
      "left": null,
      "margin": null,
      "max_height": null,
      "max_width": null,
      "min_height": null,
      "min_width": null,
      "object_fit": null,
      "object_position": null,
      "order": null,
      "overflow": null,
      "overflow_x": null,
      "overflow_y": null,
      "padding": null,
      "right": null,
      "top": null,
      "visibility": null,
      "width": null
     }
    },
    "1e2941f0ca2a48d8a2c8712cfe211cac": {
     "model_module": "@jupyter-widgets/controls",
     "model_module_version": "1.5.0",
     "model_name": "HTMLModel",
     "state": {
      "_dom_classes": [],
      "_model_module": "@jupyter-widgets/controls",
      "_model_module_version": "1.5.0",
      "_model_name": "HTMLModel",
      "_view_count": null,
      "_view_module": "@jupyter-widgets/controls",
      "_view_module_version": "1.5.0",
      "_view_name": "HTMLView",
      "description": "",
      "description_tooltip": null,
      "layout": "IPY_MODEL_64d05a9b82074707be40b13a03beda80",
      "placeholder": "​",
      "style": "IPY_MODEL_411a31cba87542e996a9bb7be2f98761",
      "value": "special_tokens_map.json: 100%"
     }
    },
    "1f3fc7c7397b4b8ca230e48542852975": {
     "model_module": "@jupyter-widgets/base",
     "model_module_version": "1.2.0",
     "model_name": "LayoutModel",
     "state": {
      "_model_module": "@jupyter-widgets/base",
      "_model_module_version": "1.2.0",
      "_model_name": "LayoutModel",
      "_view_count": null,
      "_view_module": "@jupyter-widgets/base",
      "_view_module_version": "1.2.0",
      "_view_name": "LayoutView",
      "align_content": null,
      "align_items": null,
      "align_self": null,
      "border": null,
      "bottom": null,
      "display": null,
      "flex": null,
      "flex_flow": null,
      "grid_area": null,
      "grid_auto_columns": null,
      "grid_auto_flow": null,
      "grid_auto_rows": null,
      "grid_column": null,
      "grid_gap": null,
      "grid_row": null,
      "grid_template_areas": null,
      "grid_template_columns": null,
      "grid_template_rows": null,
      "height": null,
      "justify_content": null,
      "justify_items": null,
      "left": null,
      "margin": null,
      "max_height": null,
      "max_width": null,
      "min_height": null,
      "min_width": null,
      "object_fit": null,
      "object_position": null,
      "order": null,
      "overflow": null,
      "overflow_x": null,
      "overflow_y": null,
      "padding": null,
      "right": null,
      "top": null,
      "visibility": null,
      "width": null
     }
    },
    "2118d7aada9f4130aa9453d8fd05a54b": {
     "model_module": "@jupyter-widgets/base",
     "model_module_version": "1.2.0",
     "model_name": "LayoutModel",
     "state": {
      "_model_module": "@jupyter-widgets/base",
      "_model_module_version": "1.2.0",
      "_model_name": "LayoutModel",
      "_view_count": null,
      "_view_module": "@jupyter-widgets/base",
      "_view_module_version": "1.2.0",
      "_view_name": "LayoutView",
      "align_content": null,
      "align_items": null,
      "align_self": null,
      "border": null,
      "bottom": null,
      "display": null,
      "flex": null,
      "flex_flow": null,
      "grid_area": null,
      "grid_auto_columns": null,
      "grid_auto_flow": null,
      "grid_auto_rows": null,
      "grid_column": null,
      "grid_gap": null,
      "grid_row": null,
      "grid_template_areas": null,
      "grid_template_columns": null,
      "grid_template_rows": null,
      "height": null,
      "justify_content": null,
      "justify_items": null,
      "left": null,
      "margin": null,
      "max_height": null,
      "max_width": null,
      "min_height": null,
      "min_width": null,
      "object_fit": null,
      "object_position": null,
      "order": null,
      "overflow": null,
      "overflow_x": null,
      "overflow_y": null,
      "padding": null,
      "right": null,
      "top": null,
      "visibility": null,
      "width": null
     }
    },
    "2122b0f5124d444d81861d4e2a5460ca": {
     "model_module": "@jupyter-widgets/controls",
     "model_module_version": "1.5.0",
     "model_name": "DescriptionStyleModel",
     "state": {
      "_model_module": "@jupyter-widgets/controls",
      "_model_module_version": "1.5.0",
      "_model_name": "DescriptionStyleModel",
      "_view_count": null,
      "_view_module": "@jupyter-widgets/base",
      "_view_module_version": "1.2.0",
      "_view_name": "StyleView",
      "description_width": ""
     }
    },
    "244c8098d8ac4364ab9fc36e3bce1b74": {
     "model_module": "@jupyter-widgets/controls",
     "model_module_version": "1.5.0",
     "model_name": "DescriptionStyleModel",
     "state": {
      "_model_module": "@jupyter-widgets/controls",
      "_model_module_version": "1.5.0",
      "_model_name": "DescriptionStyleModel",
      "_view_count": null,
      "_view_module": "@jupyter-widgets/base",
      "_view_module_version": "1.2.0",
      "_view_name": "StyleView",
      "description_width": ""
     }
    },
    "248d9fcd296d4fd0903b7127f9cc7896": {
     "model_module": "@jupyter-widgets/controls",
     "model_module_version": "1.5.0",
     "model_name": "HBoxModel",
     "state": {
      "_dom_classes": [],
      "_model_module": "@jupyter-widgets/controls",
      "_model_module_version": "1.5.0",
      "_model_name": "HBoxModel",
      "_view_count": null,
      "_view_module": "@jupyter-widgets/controls",
      "_view_module_version": "1.5.0",
      "_view_name": "HBoxView",
      "box_style": "",
      "children": [
       "IPY_MODEL_f444e230367f4d3a8a3b078be76bb390",
       "IPY_MODEL_aea1442965984bae989f0fdb80af8982",
       "IPY_MODEL_fe2316faf2754bd9845d900c88284f2a"
      ],
      "layout": "IPY_MODEL_26f6dfa033224ed6bba678c379f48ee8"
     }
    },
    "26f6dfa033224ed6bba678c379f48ee8": {
     "model_module": "@jupyter-widgets/base",
     "model_module_version": "1.2.0",
     "model_name": "LayoutModel",
     "state": {
      "_model_module": "@jupyter-widgets/base",
      "_model_module_version": "1.2.0",
      "_model_name": "LayoutModel",
      "_view_count": null,
      "_view_module": "@jupyter-widgets/base",
      "_view_module_version": "1.2.0",
      "_view_name": "LayoutView",
      "align_content": null,
      "align_items": null,
      "align_self": null,
      "border": null,
      "bottom": null,
      "display": null,
      "flex": null,
      "flex_flow": null,
      "grid_area": null,
      "grid_auto_columns": null,
      "grid_auto_flow": null,
      "grid_auto_rows": null,
      "grid_column": null,
      "grid_gap": null,
      "grid_row": null,
      "grid_template_areas": null,
      "grid_template_columns": null,
      "grid_template_rows": null,
      "height": null,
      "justify_content": null,
      "justify_items": null,
      "left": null,
      "margin": null,
      "max_height": null,
      "max_width": null,
      "min_height": null,
      "min_width": null,
      "object_fit": null,
      "object_position": null,
      "order": null,
      "overflow": null,
      "overflow_x": null,
      "overflow_y": null,
      "padding": null,
      "right": null,
      "top": null,
      "visibility": null,
      "width": null
     }
    },
    "32d147fc28e84cc483228024ed5cbe69": {
     "model_module": "@jupyter-widgets/controls",
     "model_module_version": "1.5.0",
     "model_name": "FloatProgressModel",
     "state": {
      "_dom_classes": [],
      "_model_module": "@jupyter-widgets/controls",
      "_model_module_version": "1.5.0",
      "_model_name": "FloatProgressModel",
      "_view_count": null,
      "_view_module": "@jupyter-widgets/controls",
      "_view_module_version": "1.5.0",
      "_view_name": "ProgressView",
      "bar_style": "success",
      "description": "",
      "description_tooltip": null,
      "layout": "IPY_MODEL_8e535280a1404a76abe74124d74fc7ac",
      "max": 1185,
      "min": 0,
      "orientation": "horizontal",
      "style": "IPY_MODEL_ae197e918fcd47318e62095dbc96e72b",
      "value": 1185
     }
    },
    "336dc12a88734f91b352ea1ddcec4ab7": {
     "model_module": "@jupyter-widgets/controls",
     "model_module_version": "1.5.0",
     "model_name": "HBoxModel",
     "state": {
      "_dom_classes": [],
      "_model_module": "@jupyter-widgets/controls",
      "_model_module_version": "1.5.0",
      "_model_name": "HBoxModel",
      "_view_count": null,
      "_view_module": "@jupyter-widgets/controls",
      "_view_module_version": "1.5.0",
      "_view_name": "HBoxView",
      "box_style": "",
      "children": [
       "IPY_MODEL_8301fb426aae43d6998413e91b08732d",
       "IPY_MODEL_79c8cf8792b94225bd5a938f7299597f",
       "IPY_MODEL_5946b36e38784ad6916795df12309f10"
      ],
      "layout": "IPY_MODEL_55db65dac0164603970b74a6ad7fad90"
     }
    },
    "355454266444492897ab574dac77c594": {
     "model_module": "@jupyter-widgets/controls",
     "model_module_version": "1.5.0",
     "model_name": "HTMLModel",
     "state": {
      "_dom_classes": [],
      "_model_module": "@jupyter-widgets/controls",
      "_model_module_version": "1.5.0",
      "_model_name": "HTMLModel",
      "_view_count": null,
      "_view_module": "@jupyter-widgets/controls",
      "_view_module_version": "1.5.0",
      "_view_name": "HTMLView",
      "description": "",
      "description_tooltip": null,
      "layout": "IPY_MODEL_7d30128b6e8840d292d0e0333f5cb5e9",
      "placeholder": "​",
      "style": "IPY_MODEL_7cf2171daf2f4692afcf3c17d28b5e0a",
      "value": " 112/112 [00:00&lt;00:00, 7.25kB/s]"
     }
    },
    "39f8e06f2a6c4a34b20e4400af0eb3a5": {
     "model_module": "@jupyter-widgets/controls",
     "model_module_version": "1.5.0",
     "model_name": "DescriptionStyleModel",
     "state": {
      "_model_module": "@jupyter-widgets/controls",
      "_model_module_version": "1.5.0",
      "_model_name": "DescriptionStyleModel",
      "_view_count": null,
      "_view_module": "@jupyter-widgets/base",
      "_view_module_version": "1.2.0",
      "_view_name": "StyleView",
      "description_width": ""
     }
    },
    "3bd33b3e1b1e425091a73b711163cd23": {
     "model_module": "@jupyter-widgets/controls",
     "model_module_version": "1.5.0",
     "model_name": "DescriptionStyleModel",
     "state": {
      "_model_module": "@jupyter-widgets/controls",
      "_model_module_version": "1.5.0",
      "_model_name": "DescriptionStyleModel",
      "_view_count": null,
      "_view_module": "@jupyter-widgets/base",
      "_view_module_version": "1.2.0",
      "_view_name": "StyleView",
      "description_width": ""
     }
    },
    "3d893af58000457b9264d159adb4e4fd": {
     "model_module": "@jupyter-widgets/controls",
     "model_module_version": "1.5.0",
     "model_name": "DescriptionStyleModel",
     "state": {
      "_model_module": "@jupyter-widgets/controls",
      "_model_module_version": "1.5.0",
      "_model_name": "DescriptionStyleModel",
      "_view_count": null,
      "_view_module": "@jupyter-widgets/base",
      "_view_module_version": "1.2.0",
      "_view_name": "StyleView",
      "description_width": ""
     }
    },
    "411a31cba87542e996a9bb7be2f98761": {
     "model_module": "@jupyter-widgets/controls",
     "model_module_version": "1.5.0",
     "model_name": "DescriptionStyleModel",
     "state": {
      "_model_module": "@jupyter-widgets/controls",
      "_model_module_version": "1.5.0",
      "_model_name": "DescriptionStyleModel",
      "_view_count": null,
      "_view_module": "@jupyter-widgets/base",
      "_view_module_version": "1.2.0",
      "_view_name": "StyleView",
      "description_width": ""
     }
    },
    "42b74b4c32bf4e128a1473ab3365daeb": {
     "model_module": "@jupyter-widgets/base",
     "model_module_version": "1.2.0",
     "model_name": "LayoutModel",
     "state": {
      "_model_module": "@jupyter-widgets/base",
      "_model_module_version": "1.2.0",
      "_model_name": "LayoutModel",
      "_view_count": null,
      "_view_module": "@jupyter-widgets/base",
      "_view_module_version": "1.2.0",
      "_view_name": "LayoutView",
      "align_content": null,
      "align_items": null,
      "align_self": null,
      "border": null,
      "bottom": null,
      "display": null,
      "flex": null,
      "flex_flow": null,
      "grid_area": null,
      "grid_auto_columns": null,
      "grid_auto_flow": null,
      "grid_auto_rows": null,
      "grid_column": null,
      "grid_gap": null,
      "grid_row": null,
      "grid_template_areas": null,
      "grid_template_columns": null,
      "grid_template_rows": null,
      "height": null,
      "justify_content": null,
      "justify_items": null,
      "left": null,
      "margin": null,
      "max_height": null,
      "max_width": null,
      "min_height": null,
      "min_width": null,
      "object_fit": null,
      "object_position": null,
      "order": null,
      "overflow": null,
      "overflow_x": null,
      "overflow_y": null,
      "padding": null,
      "right": null,
      "top": null,
      "visibility": null,
      "width": null
     }
    },
    "47294ed79c224dac937c065c370e6041": {
     "model_module": "@jupyter-widgets/controls",
     "model_module_version": "1.5.0",
     "model_name": "HBoxModel",
     "state": {
      "_dom_classes": [],
      "_model_module": "@jupyter-widgets/controls",
      "_model_module_version": "1.5.0",
      "_model_name": "HBoxModel",
      "_view_count": null,
      "_view_module": "@jupyter-widgets/controls",
      "_view_module_version": "1.5.0",
      "_view_name": "HBoxView",
      "box_style": "",
      "children": [
       "IPY_MODEL_50f4359fd80646d4818d421138fff9f8",
       "IPY_MODEL_ef29430adf024bc1845895c03a2b4bda",
       "IPY_MODEL_5ea7263fb23f485e868ce6f149747030"
      ],
      "layout": "IPY_MODEL_06c9949f0b7e41b6876d8f9db23c6bf3"
     }
    },
    "4cb3ac050773448ca156cee4f685d504": {
     "model_module": "@jupyter-widgets/base",
     "model_module_version": "1.2.0",
     "model_name": "LayoutModel",
     "state": {
      "_model_module": "@jupyter-widgets/base",
      "_model_module_version": "1.2.0",
      "_model_name": "LayoutModel",
      "_view_count": null,
      "_view_module": "@jupyter-widgets/base",
      "_view_module_version": "1.2.0",
      "_view_name": "LayoutView",
      "align_content": null,
      "align_items": null,
      "align_self": null,
      "border": null,
      "bottom": null,
      "display": null,
      "flex": null,
      "flex_flow": null,
      "grid_area": null,
      "grid_auto_columns": null,
      "grid_auto_flow": null,
      "grid_auto_rows": null,
      "grid_column": null,
      "grid_gap": null,
      "grid_row": null,
      "grid_template_areas": null,
      "grid_template_columns": null,
      "grid_template_rows": null,
      "height": null,
      "justify_content": null,
      "justify_items": null,
      "left": null,
      "margin": null,
      "max_height": null,
      "max_width": null,
      "min_height": null,
      "min_width": null,
      "object_fit": null,
      "object_position": null,
      "order": null,
      "overflow": null,
      "overflow_x": null,
      "overflow_y": null,
      "padding": null,
      "right": null,
      "top": null,
      "visibility": null,
      "width": null
     }
    },
    "4ec66f9d2e9249a2b9dff76fe1d027a7": {
     "model_module": "@jupyter-widgets/controls",
     "model_module_version": "1.5.0",
     "model_name": "ProgressStyleModel",
     "state": {
      "_model_module": "@jupyter-widgets/controls",
      "_model_module_version": "1.5.0",
      "_model_name": "ProgressStyleModel",
      "_view_count": null,
      "_view_module": "@jupyter-widgets/base",
      "_view_module_version": "1.2.0",
      "_view_name": "StyleView",
      "bar_color": null,
      "description_width": ""
     }
    },
    "4f3e002c8003455d9000d8cb57721ffc": {
     "model_module": "@jupyter-widgets/controls",
     "model_module_version": "1.5.0",
     "model_name": "HBoxModel",
     "state": {
      "_dom_classes": [],
      "_model_module": "@jupyter-widgets/controls",
      "_model_module_version": "1.5.0",
      "_model_name": "HBoxModel",
      "_view_count": null,
      "_view_module": "@jupyter-widgets/controls",
      "_view_module_version": "1.5.0",
      "_view_name": "HBoxView",
      "box_style": "",
      "children": [
       "IPY_MODEL_1e2941f0ca2a48d8a2c8712cfe211cac",
       "IPY_MODEL_836332d7e0ff4582afb7cdd55e5561d8",
       "IPY_MODEL_355454266444492897ab574dac77c594"
      ],
      "layout": "IPY_MODEL_cae5f96d3599478fb9dd282a72643462"
     }
    },
    "50abd5b4f48740a2a7bc9b4db80143f4": {
     "model_module": "@jupyter-widgets/base",
     "model_module_version": "1.2.0",
     "model_name": "LayoutModel",
     "state": {
      "_model_module": "@jupyter-widgets/base",
      "_model_module_version": "1.2.0",
      "_model_name": "LayoutModel",
      "_view_count": null,
      "_view_module": "@jupyter-widgets/base",
      "_view_module_version": "1.2.0",
      "_view_name": "LayoutView",
      "align_content": null,
      "align_items": null,
      "align_self": null,
      "border": null,
      "bottom": null,
      "display": null,
      "flex": null,
      "flex_flow": null,
      "grid_area": null,
      "grid_auto_columns": null,
      "grid_auto_flow": null,
      "grid_auto_rows": null,
      "grid_column": null,
      "grid_gap": null,
      "grid_row": null,
      "grid_template_areas": null,
      "grid_template_columns": null,
      "grid_template_rows": null,
      "height": null,
      "justify_content": null,
      "justify_items": null,
      "left": null,
      "margin": null,
      "max_height": null,
      "max_width": null,
      "min_height": null,
      "min_width": null,
      "object_fit": null,
      "object_position": null,
      "order": null,
      "overflow": null,
      "overflow_x": null,
      "overflow_y": null,
      "padding": null,
      "right": null,
      "top": null,
      "visibility": null,
      "width": null
     }
    },
    "50f4359fd80646d4818d421138fff9f8": {
     "model_module": "@jupyter-widgets/controls",
     "model_module_version": "1.5.0",
     "model_name": "HTMLModel",
     "state": {
      "_dom_classes": [],
      "_model_module": "@jupyter-widgets/controls",
      "_model_module_version": "1.5.0",
      "_model_name": "HTMLModel",
      "_view_count": null,
      "_view_module": "@jupyter-widgets/controls",
      "_view_module_version": "1.5.0",
      "_view_name": "HTMLView",
      "description": "",
      "description_tooltip": null,
      "layout": "IPY_MODEL_995b215fad624234a1d9ebb5d550b1b6",
      "placeholder": "​",
      "style": "IPY_MODEL_d356dafa83d74f099817f53f0c8fbc68",
      "value": "Map: 100%"
     }
    },
    "513a5701fe164c46aef330c2df1b4bde": {
     "model_module": "@jupyter-widgets/base",
     "model_module_version": "1.2.0",
     "model_name": "LayoutModel",
     "state": {
      "_model_module": "@jupyter-widgets/base",
      "_model_module_version": "1.2.0",
      "_model_name": "LayoutModel",
      "_view_count": null,
      "_view_module": "@jupyter-widgets/base",
      "_view_module_version": "1.2.0",
      "_view_name": "LayoutView",
      "align_content": null,
      "align_items": null,
      "align_self": null,
      "border": null,
      "bottom": null,
      "display": null,
      "flex": null,
      "flex_flow": null,
      "grid_area": null,
      "grid_auto_columns": null,
      "grid_auto_flow": null,
      "grid_auto_rows": null,
      "grid_column": null,
      "grid_gap": null,
      "grid_row": null,
      "grid_template_areas": null,
      "grid_template_columns": null,
      "grid_template_rows": null,
      "height": null,
      "justify_content": null,
      "justify_items": null,
      "left": null,
      "margin": null,
      "max_height": null,
      "max_width": null,
      "min_height": null,
      "min_width": null,
      "object_fit": null,
      "object_position": null,
      "order": null,
      "overflow": null,
      "overflow_x": null,
      "overflow_y": null,
      "padding": null,
      "right": null,
      "top": null,
      "visibility": null,
      "width": null
     }
    },
    "54708878c154416aa5305956a0e2b215": {
     "model_module": "@jupyter-widgets/controls",
     "model_module_version": "1.5.0",
     "model_name": "HTMLModel",
     "state": {
      "_dom_classes": [],
      "_model_module": "@jupyter-widgets/controls",
      "_model_module_version": "1.5.0",
      "_model_name": "HTMLModel",
      "_view_count": null,
      "_view_module": "@jupyter-widgets/controls",
      "_view_module_version": "1.5.0",
      "_view_name": "HTMLView",
      "description": "",
      "description_tooltip": null,
      "layout": "IPY_MODEL_1f3fc7c7397b4b8ca230e48542852975",
      "placeholder": "​",
      "style": "IPY_MODEL_058893d3a6414ed291906ed24fb5a676",
      "value": "model.safetensors: 100%"
     }
    },
    "556056e52719488393ce1dfdda856f02": {
     "model_module": "@jupyter-widgets/controls",
     "model_module_version": "1.5.0",
     "model_name": "ProgressStyleModel",
     "state": {
      "_model_module": "@jupyter-widgets/controls",
      "_model_module_version": "1.5.0",
      "_model_name": "ProgressStyleModel",
      "_view_count": null,
      "_view_module": "@jupyter-widgets/base",
      "_view_module_version": "1.2.0",
      "_view_name": "StyleView",
      "bar_color": null,
      "description_width": ""
     }
    },
    "55db65dac0164603970b74a6ad7fad90": {
     "model_module": "@jupyter-widgets/base",
     "model_module_version": "1.2.0",
     "model_name": "LayoutModel",
     "state": {
      "_model_module": "@jupyter-widgets/base",
      "_model_module_version": "1.2.0",
      "_model_name": "LayoutModel",
      "_view_count": null,
      "_view_module": "@jupyter-widgets/base",
      "_view_module_version": "1.2.0",
      "_view_name": "LayoutView",
      "align_content": null,
      "align_items": null,
      "align_self": null,
      "border": null,
      "bottom": null,
      "display": null,
      "flex": null,
      "flex_flow": null,
      "grid_area": null,
      "grid_auto_columns": null,
      "grid_auto_flow": null,
      "grid_auto_rows": null,
      "grid_column": null,
      "grid_gap": null,
      "grid_row": null,
      "grid_template_areas": null,
      "grid_template_columns": null,
      "grid_template_rows": null,
      "height": null,
      "justify_content": null,
      "justify_items": null,
      "left": null,
      "margin": null,
      "max_height": null,
      "max_width": null,
      "min_height": null,
      "min_width": null,
      "object_fit": null,
      "object_position": null,
      "order": null,
      "overflow": null,
      "overflow_x": null,
      "overflow_y": null,
      "padding": null,
      "right": null,
      "top": null,
      "visibility": null,
      "width": null
     }
    },
    "5946b36e38784ad6916795df12309f10": {
     "model_module": "@jupyter-widgets/controls",
     "model_module_version": "1.5.0",
     "model_name": "HTMLModel",
     "state": {
      "_dom_classes": [],
      "_model_module": "@jupyter-widgets/controls",
      "_model_module_version": "1.5.0",
      "_model_name": "HTMLModel",
      "_view_count": null,
      "_view_module": "@jupyter-widgets/controls",
      "_view_module_version": "1.5.0",
      "_view_name": "HTMLView",
      "description": "",
      "description_tooltip": null,
      "layout": "IPY_MODEL_513a5701fe164c46aef330c2df1b4bde",
      "placeholder": "​",
      "style": "IPY_MODEL_144f251cf24c4c6290dd12ff28dcb3b1",
      "value": " 333/333 [00:00&lt;00:00, 21.8kB/s]"
     }
    },
    "5a6b22ecabc34381828faeaad6bc2454": {
     "model_module": "@jupyter-widgets/controls",
     "model_module_version": "1.5.0",
     "model_name": "HTMLModel",
     "state": {
      "_dom_classes": [],
      "_model_module": "@jupyter-widgets/controls",
      "_model_module_version": "1.5.0",
      "_model_name": "HTMLModel",
      "_view_count": null,
      "_view_module": "@jupyter-widgets/controls",
      "_view_module_version": "1.5.0",
      "_view_name": "HTMLView",
      "description": "",
      "description_tooltip": null,
      "layout": "IPY_MODEL_e72da7bdc2fd4ecbb5b7d6c30fda482c",
      "placeholder": "​",
      "style": "IPY_MODEL_85a3a2189a1f4781b530e8812e950cd1",
      "value": " 6.33k/? [00:00&lt;00:00, 426kB/s]"
     }
    },
    "5ea7263fb23f485e868ce6f149747030": {
     "model_module": "@jupyter-widgets/controls",
     "model_module_version": "1.5.0",
     "model_name": "HTMLModel",
     "state": {
      "_dom_classes": [],
      "_model_module": "@jupyter-widgets/controls",
      "_model_module_version": "1.5.0",
      "_model_name": "HTMLModel",
      "_view_count": null,
      "_view_module": "@jupyter-widgets/controls",
      "_view_module_version": "1.5.0",
      "_view_name": "HTMLView",
      "description": "",
      "description_tooltip": null,
      "layout": "IPY_MODEL_eada1fb8dd66489099dc8a040b4451b9",
      "placeholder": "​",
      "style": "IPY_MODEL_7d06ed7128184f5abe082f9afdb3e77e",
      "value": " 2000/2000 [00:08&lt;00:00, 245.68 examples/s]"
     }
    },
    "63ce0450c301471b8fac0962e72536e5": {
     "model_module": "@jupyter-widgets/controls",
     "model_module_version": "1.5.0",
     "model_name": "FloatProgressModel",
     "state": {
      "_dom_classes": [],
      "_model_module": "@jupyter-widgets/controls",
      "_model_module_version": "1.5.0",
      "_model_name": "FloatProgressModel",
      "_view_count": null,
      "_view_module": "@jupyter-widgets/controls",
      "_view_module_version": "1.5.0",
      "_view_name": "ProgressView",
      "bar_style": "success",
      "description": "",
      "description_tooltip": null,
      "layout": "IPY_MODEL_b525518280dc4c08ac55ee86f38bf679",
      "max": 2471,
      "min": 0,
      "orientation": "horizontal",
      "style": "IPY_MODEL_fa7306804d6b453c95c85718598f2a7c",
      "value": 2471
     }
    },
    "64d05a9b82074707be40b13a03beda80": {
     "model_module": "@jupyter-widgets/base",
     "model_module_version": "1.2.0",
     "model_name": "LayoutModel",
     "state": {
      "_model_module": "@jupyter-widgets/base",
      "_model_module_version": "1.2.0",
      "_model_name": "LayoutModel",
      "_view_count": null,
      "_view_module": "@jupyter-widgets/base",
      "_view_module_version": "1.2.0",
      "_view_name": "LayoutView",
      "align_content": null,
      "align_items": null,
      "align_self": null,
      "border": null,
      "bottom": null,
      "display": null,
      "flex": null,
      "flex_flow": null,
      "grid_area": null,
      "grid_auto_columns": null,
      "grid_auto_flow": null,
      "grid_auto_rows": null,
      "grid_column": null,
      "grid_gap": null,
      "grid_row": null,
      "grid_template_areas": null,
      "grid_template_columns": null,
      "grid_template_rows": null,
      "height": null,
      "justify_content": null,
      "justify_items": null,
      "left": null,
      "margin": null,
      "max_height": null,
      "max_width": null,
      "min_height": null,
      "min_width": null,
      "object_fit": null,
      "object_position": null,
      "order": null,
      "overflow": null,
      "overflow_x": null,
      "overflow_y": null,
      "padding": null,
      "right": null,
      "top": null,
      "visibility": null,
      "width": null
     }
    },
    "64e1d987382e486ab84a3afb672d690b": {
     "model_module": "@jupyter-widgets/controls",
     "model_module_version": "1.5.0",
     "model_name": "HTMLModel",
     "state": {
      "_dom_classes": [],
      "_model_module": "@jupyter-widgets/controls",
      "_model_module_version": "1.5.0",
      "_model_name": "HTMLModel",
      "_view_count": null,
      "_view_module": "@jupyter-widgets/controls",
      "_view_module_version": "1.5.0",
      "_view_name": "HTMLView",
      "description": "",
      "description_tooltip": null,
      "layout": "IPY_MODEL_2118d7aada9f4130aa9453d8fd05a54b",
      "placeholder": "​",
      "style": "IPY_MODEL_244c8098d8ac4364ab9fc36e3bce1b74",
      "value": " 1.96M/1.96M [00:00&lt;00:00, 18.4MB/s]"
     }
    },
    "6d33fe8b049c45258a9367f20c0e8ce8": {
     "model_module": "@jupyter-widgets/controls",
     "model_module_version": "1.5.0",
     "model_name": "ProgressStyleModel",
     "state": {
      "_model_module": "@jupyter-widgets/controls",
      "_model_module_version": "1.5.0",
      "_model_name": "ProgressStyleModel",
      "_view_count": null,
      "_view_module": "@jupyter-widgets/base",
      "_view_module_version": "1.2.0",
      "_view_name": "StyleView",
      "bar_color": null,
      "description_width": ""
     }
    },
    "75fb03eefa7f49aaaf63dc2db7704aaa": {
     "model_module": "@jupyter-widgets/base",
     "model_module_version": "1.2.0",
     "model_name": "LayoutModel",
     "state": {
      "_model_module": "@jupyter-widgets/base",
      "_model_module_version": "1.2.0",
      "_model_name": "LayoutModel",
      "_view_count": null,
      "_view_module": "@jupyter-widgets/base",
      "_view_module_version": "1.2.0",
      "_view_name": "LayoutView",
      "align_content": null,
      "align_items": null,
      "align_self": null,
      "border": null,
      "bottom": null,
      "display": null,
      "flex": null,
      "flex_flow": null,
      "grid_area": null,
      "grid_auto_columns": null,
      "grid_auto_flow": null,
      "grid_auto_rows": null,
      "grid_column": null,
      "grid_gap": null,
      "grid_row": null,
      "grid_template_areas": null,
      "grid_template_columns": null,
      "grid_template_rows": null,
      "height": null,
      "justify_content": null,
      "justify_items": null,
      "left": null,
      "margin": null,
      "max_height": null,
      "max_width": null,
      "min_height": null,
      "min_width": null,
      "object_fit": null,
      "object_position": null,
      "order": null,
      "overflow": null,
      "overflow_x": null,
      "overflow_y": null,
      "padding": null,
      "right": null,
      "top": null,
      "visibility": null,
      "width": null
     }
    },
    "7630fb58bf3e42d6b48a5f87fe1065cc": {
     "model_module": "@jupyter-widgets/base",
     "model_module_version": "1.2.0",
     "model_name": "LayoutModel",
     "state": {
      "_model_module": "@jupyter-widgets/base",
      "_model_module_version": "1.2.0",
      "_model_name": "LayoutModel",
      "_view_count": null,
      "_view_module": "@jupyter-widgets/base",
      "_view_module_version": "1.2.0",
      "_view_name": "LayoutView",
      "align_content": null,
      "align_items": null,
      "align_self": null,
      "border": null,
      "bottom": null,
      "display": null,
      "flex": null,
      "flex_flow": null,
      "grid_area": null,
      "grid_auto_columns": null,
      "grid_auto_flow": null,
      "grid_auto_rows": null,
      "grid_column": null,
      "grid_gap": null,
      "grid_row": null,
      "grid_template_areas": null,
      "grid_template_columns": null,
      "grid_template_rows": null,
      "height": null,
      "justify_content": null,
      "justify_items": null,
      "left": null,
      "margin": null,
      "max_height": null,
      "max_width": null,
      "min_height": null,
      "min_width": null,
      "object_fit": null,
      "object_position": null,
      "order": null,
      "overflow": null,
      "overflow_x": null,
      "overflow_y": null,
      "padding": null,
      "right": null,
      "top": null,
      "visibility": null,
      "width": null
     }
    },
    "797d8c0bfd9e42ab9028c816a1794fac": {
     "model_module": "@jupyter-widgets/controls",
     "model_module_version": "1.5.0",
     "model_name": "HTMLModel",
     "state": {
      "_dom_classes": [],
      "_model_module": "@jupyter-widgets/controls",
      "_model_module_version": "1.5.0",
      "_model_name": "HTMLModel",
      "_view_count": null,
      "_view_module": "@jupyter-widgets/controls",
      "_view_module_version": "1.5.0",
      "_view_name": "HTMLView",
      "description": "",
      "description_tooltip": null,
      "layout": "IPY_MODEL_e4aac0c7351c418585f1195dc6e4e7ed",
      "placeholder": "​",
      "style": "IPY_MODEL_b262bf167d744273906d4822661027c4",
      "value": "Map: 100%"
     }
    },
    "79c8cf8792b94225bd5a938f7299597f": {
     "model_module": "@jupyter-widgets/controls",
     "model_module_version": "1.5.0",
     "model_name": "FloatProgressModel",
     "state": {
      "_dom_classes": [],
      "_model_module": "@jupyter-widgets/controls",
      "_model_module_version": "1.5.0",
      "_model_name": "FloatProgressModel",
      "_view_count": null,
      "_view_module": "@jupyter-widgets/controls",
      "_view_module_version": "1.5.0",
      "_view_name": "ProgressView",
      "bar_style": "success",
      "description": "",
      "description_tooltip": null,
      "layout": "IPY_MODEL_bebc0a23a515479aaa0481c825f7d275",
      "max": 333,
      "min": 0,
      "orientation": "horizontal",
      "style": "IPY_MODEL_9f826dabf35644c3b9776f73b9203949",
      "value": 333
     }
    },
    "7b09de4a935346868a4f544fb7e047d4": {
     "model_module": "@jupyter-widgets/controls",
     "model_module_version": "1.5.0",
     "model_name": "FloatProgressModel",
     "state": {
      "_dom_classes": [],
      "_model_module": "@jupyter-widgets/controls",
      "_model_module_version": "1.5.0",
      "_model_name": "FloatProgressModel",
      "_view_count": null,
      "_view_module": "@jupyter-widgets/controls",
      "_view_module_version": "1.5.0",
      "_view_name": "ProgressView",
      "bar_style": "success",
      "description": "",
      "description_tooltip": null,
      "layout": "IPY_MODEL_e4134e0d83444c9b9d0aa51bd6e275aa",
      "max": 1961898,
      "min": 0,
      "orientation": "horizontal",
      "style": "IPY_MODEL_e05ebdfabbcd4f39a0887e44576b1624",
      "value": 1961898
     }
    },
    "7cf2171daf2f4692afcf3c17d28b5e0a": {
     "model_module": "@jupyter-widgets/controls",
     "model_module_version": "1.5.0",
     "model_name": "DescriptionStyleModel",
     "state": {
      "_model_module": "@jupyter-widgets/controls",
      "_model_module_version": "1.5.0",
      "_model_name": "DescriptionStyleModel",
      "_view_count": null,
      "_view_module": "@jupyter-widgets/base",
      "_view_module_version": "1.2.0",
      "_view_name": "StyleView",
      "description_width": ""
     }
    },
    "7d06ed7128184f5abe082f9afdb3e77e": {
     "model_module": "@jupyter-widgets/controls",
     "model_module_version": "1.5.0",
     "model_name": "DescriptionStyleModel",
     "state": {
      "_model_module": "@jupyter-widgets/controls",
      "_model_module_version": "1.5.0",
      "_model_name": "DescriptionStyleModel",
      "_view_count": null,
      "_view_module": "@jupyter-widgets/base",
      "_view_module_version": "1.2.0",
      "_view_name": "StyleView",
      "description_width": ""
     }
    },
    "7d30128b6e8840d292d0e0333f5cb5e9": {
     "model_module": "@jupyter-widgets/base",
     "model_module_version": "1.2.0",
     "model_name": "LayoutModel",
     "state": {
      "_model_module": "@jupyter-widgets/base",
      "_model_module_version": "1.2.0",
      "_model_name": "LayoutModel",
      "_view_count": null,
      "_view_module": "@jupyter-widgets/base",
      "_view_module_version": "1.2.0",
      "_view_name": "LayoutView",
      "align_content": null,
      "align_items": null,
      "align_self": null,
      "border": null,
      "bottom": null,
      "display": null,
      "flex": null,
      "flex_flow": null,
      "grid_area": null,
      "grid_auto_columns": null,
      "grid_auto_flow": null,
      "grid_auto_rows": null,
      "grid_column": null,
      "grid_gap": null,
      "grid_row": null,
      "grid_template_areas": null,
      "grid_template_columns": null,
      "grid_template_rows": null,
      "height": null,
      "justify_content": null,
      "justify_items": null,
      "left": null,
      "margin": null,
      "max_height": null,
      "max_width": null,
      "min_height": null,
      "min_width": null,
      "object_fit": null,
      "object_position": null,
      "order": null,
      "overflow": null,
      "overflow_x": null,
      "overflow_y": null,
      "padding": null,
      "right": null,
      "top": null,
      "visibility": null,
      "width": null
     }
    },
    "7f2631fde5d242cfa8943a78837de23b": {
     "model_module": "@jupyter-widgets/controls",
     "model_module_version": "1.5.0",
     "model_name": "DescriptionStyleModel",
     "state": {
      "_model_module": "@jupyter-widgets/controls",
      "_model_module_version": "1.5.0",
      "_model_name": "DescriptionStyleModel",
      "_view_count": null,
      "_view_module": "@jupyter-widgets/base",
      "_view_module_version": "1.2.0",
      "_view_name": "StyleView",
      "description_width": ""
     }
    },
    "8301fb426aae43d6998413e91b08732d": {
     "model_module": "@jupyter-widgets/controls",
     "model_module_version": "1.5.0",
     "model_name": "HTMLModel",
     "state": {
      "_dom_classes": [],
      "_model_module": "@jupyter-widgets/controls",
      "_model_module_version": "1.5.0",
      "_model_name": "HTMLModel",
      "_view_count": null,
      "_view_module": "@jupyter-widgets/controls",
      "_view_module_version": "1.5.0",
      "_view_name": "HTMLView",
      "description": "",
      "description_tooltip": null,
      "layout": "IPY_MODEL_94491c17b9084409be3750645e9df81d",
      "placeholder": "​",
      "style": "IPY_MODEL_ed830f8e9b174c1cab3df9719470c5ae",
      "value": "tokenizer_config.json: 100%"
     }
    },
    "836332d7e0ff4582afb7cdd55e5561d8": {
     "model_module": "@jupyter-widgets/controls",
     "model_module_version": "1.5.0",
     "model_name": "FloatProgressModel",
     "state": {
      "_dom_classes": [],
      "_model_module": "@jupyter-widgets/controls",
      "_model_module_version": "1.5.0",
      "_model_name": "FloatProgressModel",
      "_view_count": null,
      "_view_module": "@jupyter-widgets/controls",
      "_view_module_version": "1.5.0",
      "_view_name": "ProgressView",
      "bar_style": "success",
      "description": "",
      "description_tooltip": null,
      "layout": "IPY_MODEL_0f90c8e7b019485f9a763af471bd9412",
      "max": 112,
      "min": 0,
      "orientation": "horizontal",
      "style": "IPY_MODEL_6d33fe8b049c45258a9367f20c0e8ce8",
      "value": 112
     }
    },
    "859d1e44dbb84605a0fd21e5456ac64f": {
     "model_module": "@jupyter-widgets/controls",
     "model_module_version": "1.5.0",
     "model_name": "ProgressStyleModel",
     "state": {
      "_model_module": "@jupyter-widgets/controls",
      "_model_module_version": "1.5.0",
      "_model_name": "ProgressStyleModel",
      "_view_count": null,
      "_view_module": "@jupyter-widgets/base",
      "_view_module_version": "1.2.0",
      "_view_name": "StyleView",
      "bar_color": null,
      "description_width": ""
     }
    },
    "85a3a2189a1f4781b530e8812e950cd1": {
     "model_module": "@jupyter-widgets/controls",
     "model_module_version": "1.5.0",
     "model_name": "DescriptionStyleModel",
     "state": {
      "_model_module": "@jupyter-widgets/controls",
      "_model_module_version": "1.5.0",
      "_model_name": "DescriptionStyleModel",
      "_view_count": null,
      "_view_module": "@jupyter-widgets/base",
      "_view_module_version": "1.2.0",
      "_view_name": "StyleView",
      "description_width": ""
     }
    },
    "8aefdd671bbb42baafc606e9f92e5557": {
     "model_module": "@jupyter-widgets/controls",
     "model_module_version": "1.5.0",
     "model_name": "HTMLModel",
     "state": {
      "_dom_classes": [],
      "_model_module": "@jupyter-widgets/controls",
      "_model_module_version": "1.5.0",
      "_model_name": "HTMLModel",
      "_view_count": null,
      "_view_module": "@jupyter-widgets/controls",
      "_view_module_version": "1.5.0",
      "_view_name": "HTMLView",
      "description": "",
      "description_tooltip": null,
      "layout": "IPY_MODEL_f1df8b4fcc684f769027bdd7526b202e",
      "placeholder": "​",
      "style": "IPY_MODEL_02c60f6c2b7c4c808df0722ff4cbd1b5",
      "value": "Downloading builder script: "
     }
    },
    "8bceb62de14b4a078d3309ebc3ca3cdd": {
     "model_module": "@jupyter-widgets/base",
     "model_module_version": "1.2.0",
     "model_name": "LayoutModel",
     "state": {
      "_model_module": "@jupyter-widgets/base",
      "_model_module_version": "1.2.0",
      "_model_name": "LayoutModel",
      "_view_count": null,
      "_view_module": "@jupyter-widgets/base",
      "_view_module_version": "1.2.0",
      "_view_name": "LayoutView",
      "align_content": null,
      "align_items": null,
      "align_self": null,
      "border": null,
      "bottom": null,
      "display": null,
      "flex": null,
      "flex_flow": null,
      "grid_area": null,
      "grid_auto_columns": null,
      "grid_auto_flow": null,
      "grid_auto_rows": null,
      "grid_column": null,
      "grid_gap": null,
      "grid_row": null,
      "grid_template_areas": null,
      "grid_template_columns": null,
      "grid_template_rows": null,
      "height": null,
      "justify_content": null,
      "justify_items": null,
      "left": null,
      "margin": null,
      "max_height": null,
      "max_width": null,
      "min_height": null,
      "min_width": null,
      "object_fit": null,
      "object_position": null,
      "order": null,
      "overflow": null,
      "overflow_x": null,
      "overflow_y": null,
      "padding": null,
      "right": null,
      "top": null,
      "visibility": null,
      "width": null
     }
    },
    "8e535280a1404a76abe74124d74fc7ac": {
     "model_module": "@jupyter-widgets/base",
     "model_module_version": "1.2.0",
     "model_name": "LayoutModel",
     "state": {
      "_model_module": "@jupyter-widgets/base",
      "_model_module_version": "1.2.0",
      "_model_name": "LayoutModel",
      "_view_count": null,
      "_view_module": "@jupyter-widgets/base",
      "_view_module_version": "1.2.0",
      "_view_name": "LayoutView",
      "align_content": null,
      "align_items": null,
      "align_self": null,
      "border": null,
      "bottom": null,
      "display": null,
      "flex": null,
      "flex_flow": null,
      "grid_area": null,
      "grid_auto_columns": null,
      "grid_auto_flow": null,
      "grid_auto_rows": null,
      "grid_column": null,
      "grid_gap": null,
      "grid_row": null,
      "grid_template_areas": null,
      "grid_template_columns": null,
      "grid_template_rows": null,
      "height": null,
      "justify_content": null,
      "justify_items": null,
      "left": null,
      "margin": null,
      "max_height": null,
      "max_width": null,
      "min_height": null,
      "min_width": null,
      "object_fit": null,
      "object_position": null,
      "order": null,
      "overflow": null,
      "overflow_x": null,
      "overflow_y": null,
      "padding": null,
      "right": null,
      "top": null,
      "visibility": null,
      "width": null
     }
    },
    "90d22b98264a46919379fae677a9b335": {
     "model_module": "@jupyter-widgets/base",
     "model_module_version": "1.2.0",
     "model_name": "LayoutModel",
     "state": {
      "_model_module": "@jupyter-widgets/base",
      "_model_module_version": "1.2.0",
      "_model_name": "LayoutModel",
      "_view_count": null,
      "_view_module": "@jupyter-widgets/base",
      "_view_module_version": "1.2.0",
      "_view_name": "LayoutView",
      "align_content": null,
      "align_items": null,
      "align_self": null,
      "border": null,
      "bottom": null,
      "display": null,
      "flex": null,
      "flex_flow": null,
      "grid_area": null,
      "grid_auto_columns": null,
      "grid_auto_flow": null,
      "grid_auto_rows": null,
      "grid_column": null,
      "grid_gap": null,
      "grid_row": null,
      "grid_template_areas": null,
      "grid_template_columns": null,
      "grid_template_rows": null,
      "height": null,
      "justify_content": null,
      "justify_items": null,
      "left": null,
      "margin": null,
      "max_height": null,
      "max_width": null,
      "min_height": null,
      "min_width": null,
      "object_fit": null,
      "object_position": null,
      "order": null,
      "overflow": null,
      "overflow_x": null,
      "overflow_y": null,
      "padding": null,
      "right": null,
      "top": null,
      "visibility": null,
      "width": null
     }
    },
    "94491c17b9084409be3750645e9df81d": {
     "model_module": "@jupyter-widgets/base",
     "model_module_version": "1.2.0",
     "model_name": "LayoutModel",
     "state": {
      "_model_module": "@jupyter-widgets/base",
      "_model_module_version": "1.2.0",
      "_model_name": "LayoutModel",
      "_view_count": null,
      "_view_module": "@jupyter-widgets/base",
      "_view_module_version": "1.2.0",
      "_view_name": "LayoutView",
      "align_content": null,
      "align_items": null,
      "align_self": null,
      "border": null,
      "bottom": null,
      "display": null,
      "flex": null,
      "flex_flow": null,
      "grid_area": null,
      "grid_auto_columns": null,
      "grid_auto_flow": null,
      "grid_auto_rows": null,
      "grid_column": null,
      "grid_gap": null,
      "grid_row": null,
      "grid_template_areas": null,
      "grid_template_columns": null,
      "grid_template_rows": null,
      "height": null,
      "justify_content": null,
      "justify_items": null,
      "left": null,
      "margin": null,
      "max_height": null,
      "max_width": null,
      "min_height": null,
      "min_width": null,
      "object_fit": null,
      "object_position": null,
      "order": null,
      "overflow": null,
      "overflow_x": null,
      "overflow_y": null,
      "padding": null,
      "right": null,
      "top": null,
      "visibility": null,
      "width": null
     }
    },
    "995b215fad624234a1d9ebb5d550b1b6": {
     "model_module": "@jupyter-widgets/base",
     "model_module_version": "1.2.0",
     "model_name": "LayoutModel",
     "state": {
      "_model_module": "@jupyter-widgets/base",
      "_model_module_version": "1.2.0",
      "_model_name": "LayoutModel",
      "_view_count": null,
      "_view_module": "@jupyter-widgets/base",
      "_view_module_version": "1.2.0",
      "_view_name": "LayoutView",
      "align_content": null,
      "align_items": null,
      "align_self": null,
      "border": null,
      "bottom": null,
      "display": null,
      "flex": null,
      "flex_flow": null,
      "grid_area": null,
      "grid_auto_columns": null,
      "grid_auto_flow": null,
      "grid_auto_rows": null,
      "grid_column": null,
      "grid_gap": null,
      "grid_row": null,
      "grid_template_areas": null,
      "grid_template_columns": null,
      "grid_template_rows": null,
      "height": null,
      "justify_content": null,
      "justify_items": null,
      "left": null,
      "margin": null,
      "max_height": null,
      "max_width": null,
      "min_height": null,
      "min_width": null,
      "object_fit": null,
      "object_position": null,
      "order": null,
      "overflow": null,
      "overflow_x": null,
      "overflow_y": null,
      "padding": null,
      "right": null,
      "top": null,
      "visibility": null,
      "width": null
     }
    },
    "99c1034007a74b458906f0d26af025c3": {
     "model_module": "@jupyter-widgets/controls",
     "model_module_version": "1.5.0",
     "model_name": "HBoxModel",
     "state": {
      "_dom_classes": [],
      "_model_module": "@jupyter-widgets/controls",
      "_model_module_version": "1.5.0",
      "_model_name": "HBoxModel",
      "_view_count": null,
      "_view_module": "@jupyter-widgets/controls",
      "_view_module_version": "1.5.0",
      "_view_name": "HBoxView",
      "box_style": "",
      "children": [
       "IPY_MODEL_797d8c0bfd9e42ab9028c816a1794fac",
       "IPY_MODEL_f89c0b6c4ee34dd9bb87429287f6006d",
       "IPY_MODEL_f561605e61c94dcf9dd30f99d1202257"
      ],
      "layout": "IPY_MODEL_0345452718a2461080a05b47b3232c5f"
     }
    },
    "9db3a4408d7c42cda76bc80200fb1fc3": {
     "model_module": "@jupyter-widgets/base",
     "model_module_version": "1.2.0",
     "model_name": "LayoutModel",
     "state": {
      "_model_module": "@jupyter-widgets/base",
      "_model_module_version": "1.2.0",
      "_model_name": "LayoutModel",
      "_view_count": null,
      "_view_module": "@jupyter-widgets/base",
      "_view_module_version": "1.2.0",
      "_view_name": "LayoutView",
      "align_content": null,
      "align_items": null,
      "align_self": null,
      "border": null,
      "bottom": null,
      "display": null,
      "flex": null,
      "flex_flow": null,
      "grid_area": null,
      "grid_auto_columns": null,
      "grid_auto_flow": null,
      "grid_auto_rows": null,
      "grid_column": null,
      "grid_gap": null,
      "grid_row": null,
      "grid_template_areas": null,
      "grid_template_columns": null,
      "grid_template_rows": null,
      "height": null,
      "justify_content": null,
      "justify_items": null,
      "left": null,
      "margin": null,
      "max_height": null,
      "max_width": null,
      "min_height": null,
      "min_width": null,
      "object_fit": null,
      "object_position": null,
      "order": null,
      "overflow": null,
      "overflow_x": null,
      "overflow_y": null,
      "padding": null,
      "right": null,
      "top": null,
      "visibility": null,
      "width": null
     }
    },
    "9f826dabf35644c3b9776f73b9203949": {
     "model_module": "@jupyter-widgets/controls",
     "model_module_version": "1.5.0",
     "model_name": "ProgressStyleModel",
     "state": {
      "_model_module": "@jupyter-widgets/controls",
      "_model_module_version": "1.5.0",
      "_model_name": "ProgressStyleModel",
      "_view_count": null,
      "_view_module": "@jupyter-widgets/base",
      "_view_module_version": "1.2.0",
      "_view_name": "StyleView",
      "bar_color": null,
      "description_width": ""
     }
    },
    "ae197e918fcd47318e62095dbc96e72b": {
     "model_module": "@jupyter-widgets/controls",
     "model_module_version": "1.5.0",
     "model_name": "ProgressStyleModel",
     "state": {
      "_model_module": "@jupyter-widgets/controls",
      "_model_module_version": "1.5.0",
      "_model_name": "ProgressStyleModel",
      "_view_count": null,
      "_view_module": "@jupyter-widgets/base",
      "_view_module_version": "1.2.0",
      "_view_name": "StyleView",
      "bar_color": null,
      "description_width": ""
     }
    },
    "aea1442965984bae989f0fdb80af8982": {
     "model_module": "@jupyter-widgets/controls",
     "model_module_version": "1.5.0",
     "model_name": "FloatProgressModel",
     "state": {
      "_dom_classes": [],
      "_model_module": "@jupyter-widgets/controls",
      "_model_module_version": "1.5.0",
      "_model_name": "FloatProgressModel",
      "_view_count": null,
      "_view_module": "@jupyter-widgets/controls",
      "_view_module_version": "1.5.0",
      "_view_name": "ProgressView",
      "bar_style": "success",
      "description": "",
      "description_tooltip": null,
      "layout": "IPY_MODEL_50abd5b4f48740a2a7bc9b4db80143f4",
      "max": 995526,
      "min": 0,
      "orientation": "horizontal",
      "style": "IPY_MODEL_cd7787d3f8bc495ab3164ee467a3f0d8",
      "value": 995526
     }
    },
    "b262bf167d744273906d4822661027c4": {
     "model_module": "@jupyter-widgets/controls",
     "model_module_version": "1.5.0",
     "model_name": "DescriptionStyleModel",
     "state": {
      "_model_module": "@jupyter-widgets/controls",
      "_model_module_version": "1.5.0",
      "_model_name": "DescriptionStyleModel",
      "_view_count": null,
      "_view_module": "@jupyter-widgets/base",
      "_view_module_version": "1.2.0",
      "_view_name": "StyleView",
      "description_width": ""
     }
    },
    "b5187b920c6c4facb1794399e6cb1085": {
     "model_module": "@jupyter-widgets/controls",
     "model_module_version": "1.5.0",
     "model_name": "HTMLModel",
     "state": {
      "_dom_classes": [],
      "_model_module": "@jupyter-widgets/controls",
      "_model_module_version": "1.5.0",
      "_model_name": "HTMLModel",
      "_view_count": null,
      "_view_module": "@jupyter-widgets/controls",
      "_view_module_version": "1.5.0",
      "_view_name": "HTMLView",
      "description": "",
      "description_tooltip": null,
      "layout": "IPY_MODEL_42b74b4c32bf4e128a1473ab3365daeb",
      "placeholder": "​",
      "style": "IPY_MODEL_d2e11a91852645cb922510a80e590f0f",
      "value": "config.json: 100%"
     }
    },
    "b525518280dc4c08ac55ee86f38bf679": {
     "model_module": "@jupyter-widgets/base",
     "model_module_version": "1.2.0",
     "model_name": "LayoutModel",
     "state": {
      "_model_module": "@jupyter-widgets/base",
      "_model_module_version": "1.2.0",
      "_model_name": "LayoutModel",
      "_view_count": null,
      "_view_module": "@jupyter-widgets/base",
      "_view_module_version": "1.2.0",
      "_view_name": "LayoutView",
      "align_content": null,
      "align_items": null,
      "align_self": null,
      "border": null,
      "bottom": null,
      "display": null,
      "flex": null,
      "flex_flow": null,
      "grid_area": null,
      "grid_auto_columns": null,
      "grid_auto_flow": null,
      "grid_auto_rows": null,
      "grid_column": null,
      "grid_gap": null,
      "grid_row": null,
      "grid_template_areas": null,
      "grid_template_columns": null,
      "grid_template_rows": null,
      "height": null,
      "justify_content": null,
      "justify_items": null,
      "left": null,
      "margin": null,
      "max_height": null,
      "max_width": null,
      "min_height": null,
      "min_width": null,
      "object_fit": null,
      "object_position": null,
      "order": null,
      "overflow": null,
      "overflow_x": null,
      "overflow_y": null,
      "padding": null,
      "right": null,
      "top": null,
      "visibility": null,
      "width": null
     }
    },
    "b743c841f40b4c18a38545a7507ff7f0": {
     "model_module": "@jupyter-widgets/base",
     "model_module_version": "1.2.0",
     "model_name": "LayoutModel",
     "state": {
      "_model_module": "@jupyter-widgets/base",
      "_model_module_version": "1.2.0",
      "_model_name": "LayoutModel",
      "_view_count": null,
      "_view_module": "@jupyter-widgets/base",
      "_view_module_version": "1.2.0",
      "_view_name": "LayoutView",
      "align_content": null,
      "align_items": null,
      "align_self": null,
      "border": null,
      "bottom": null,
      "display": null,
      "flex": null,
      "flex_flow": null,
      "grid_area": null,
      "grid_auto_columns": null,
      "grid_auto_flow": null,
      "grid_auto_rows": null,
      "grid_column": null,
      "grid_gap": null,
      "grid_row": null,
      "grid_template_areas": null,
      "grid_template_columns": null,
      "grid_template_rows": null,
      "height": null,
      "justify_content": null,
      "justify_items": null,
      "left": null,
      "margin": null,
      "max_height": null,
      "max_width": null,
      "min_height": null,
      "min_width": null,
      "object_fit": null,
      "object_position": null,
      "order": null,
      "overflow": null,
      "overflow_x": null,
      "overflow_y": null,
      "padding": null,
      "right": null,
      "top": null,
      "visibility": null,
      "width": null
     }
    },
    "bb23bf25236c474abd592c3e5b54e518": {
     "model_module": "@jupyter-widgets/controls",
     "model_module_version": "1.5.0",
     "model_name": "FloatProgressModel",
     "state": {
      "_dom_classes": [],
      "_model_module": "@jupyter-widgets/controls",
      "_model_module_version": "1.5.0",
      "_model_name": "FloatProgressModel",
      "_view_count": null,
      "_view_module": "@jupyter-widgets/controls",
      "_view_module_version": "1.5.0",
      "_view_name": "ProgressView",
      "bar_style": "success",
      "description": "",
      "description_tooltip": null,
      "layout": "IPY_MODEL_d3803a2a63a9456da9fea507217cf425",
      "max": 709106622,
      "min": 0,
      "orientation": "horizontal",
      "style": "IPY_MODEL_859d1e44dbb84605a0fd21e5456ac64f",
      "value": 709106622
     }
    },
    "bebc0a23a515479aaa0481c825f7d275": {
     "model_module": "@jupyter-widgets/base",
     "model_module_version": "1.2.0",
     "model_name": "LayoutModel",
     "state": {
      "_model_module": "@jupyter-widgets/base",
      "_model_module_version": "1.2.0",
      "_model_name": "LayoutModel",
      "_view_count": null,
      "_view_module": "@jupyter-widgets/base",
      "_view_module_version": "1.2.0",
      "_view_name": "LayoutView",
      "align_content": null,
      "align_items": null,
      "align_self": null,
      "border": null,
      "bottom": null,
      "display": null,
      "flex": null,
      "flex_flow": null,
      "grid_area": null,
      "grid_auto_columns": null,
      "grid_auto_flow": null,
      "grid_auto_rows": null,
      "grid_column": null,
      "grid_gap": null,
      "grid_row": null,
      "grid_template_areas": null,
      "grid_template_columns": null,
      "grid_template_rows": null,
      "height": null,
      "justify_content": null,
      "justify_items": null,
      "left": null,
      "margin": null,
      "max_height": null,
      "max_width": null,
      "min_height": null,
      "min_width": null,
      "object_fit": null,
      "object_position": null,
      "order": null,
      "overflow": null,
      "overflow_x": null,
      "overflow_y": null,
      "padding": null,
      "right": null,
      "top": null,
      "visibility": null,
      "width": null
     }
    },
    "cae5f96d3599478fb9dd282a72643462": {
     "model_module": "@jupyter-widgets/base",
     "model_module_version": "1.2.0",
     "model_name": "LayoutModel",
     "state": {
      "_model_module": "@jupyter-widgets/base",
      "_model_module_version": "1.2.0",
      "_model_name": "LayoutModel",
      "_view_count": null,
      "_view_module": "@jupyter-widgets/base",
      "_view_module_version": "1.2.0",
      "_view_name": "LayoutView",
      "align_content": null,
      "align_items": null,
      "align_self": null,
      "border": null,
      "bottom": null,
      "display": null,
      "flex": null,
      "flex_flow": null,
      "grid_area": null,
      "grid_auto_columns": null,
      "grid_auto_flow": null,
      "grid_auto_rows": null,
      "grid_column": null,
      "grid_gap": null,
      "grid_row": null,
      "grid_template_areas": null,
      "grid_template_columns": null,
      "grid_template_rows": null,
      "height": null,
      "justify_content": null,
      "justify_items": null,
      "left": null,
      "margin": null,
      "max_height": null,
      "max_width": null,
      "min_height": null,
      "min_width": null,
      "object_fit": null,
      "object_position": null,
      "order": null,
      "overflow": null,
      "overflow_x": null,
      "overflow_y": null,
      "padding": null,
      "right": null,
      "top": null,
      "visibility": null,
      "width": null
     }
    },
    "cbd887df91d84f33b18cf5c8d1bb294f": {
     "model_module": "@jupyter-widgets/base",
     "model_module_version": "1.2.0",
     "model_name": "LayoutModel",
     "state": {
      "_model_module": "@jupyter-widgets/base",
      "_model_module_version": "1.2.0",
      "_model_name": "LayoutModel",
      "_view_count": null,
      "_view_module": "@jupyter-widgets/base",
      "_view_module_version": "1.2.0",
      "_view_name": "LayoutView",
      "align_content": null,
      "align_items": null,
      "align_self": null,
      "border": null,
      "bottom": null,
      "display": null,
      "flex": null,
      "flex_flow": null,
      "grid_area": null,
      "grid_auto_columns": null,
      "grid_auto_flow": null,
      "grid_auto_rows": null,
      "grid_column": null,
      "grid_gap": null,
      "grid_row": null,
      "grid_template_areas": null,
      "grid_template_columns": null,
      "grid_template_rows": null,
      "height": null,
      "justify_content": null,
      "justify_items": null,
      "left": null,
      "margin": null,
      "max_height": null,
      "max_width": null,
      "min_height": null,
      "min_width": null,
      "object_fit": null,
      "object_position": null,
      "order": null,
      "overflow": null,
      "overflow_x": null,
      "overflow_y": null,
      "padding": null,
      "right": null,
      "top": null,
      "visibility": null,
      "width": null
     }
    },
    "cd7787d3f8bc495ab3164ee467a3f0d8": {
     "model_module": "@jupyter-widgets/controls",
     "model_module_version": "1.5.0",
     "model_name": "ProgressStyleModel",
     "state": {
      "_model_module": "@jupyter-widgets/controls",
      "_model_module_version": "1.5.0",
      "_model_name": "ProgressStyleModel",
      "_view_count": null,
      "_view_module": "@jupyter-widgets/base",
      "_view_module_version": "1.2.0",
      "_view_name": "StyleView",
      "bar_color": null,
      "description_width": ""
     }
    },
    "d2e11a91852645cb922510a80e590f0f": {
     "model_module": "@jupyter-widgets/controls",
     "model_module_version": "1.5.0",
     "model_name": "DescriptionStyleModel",
     "state": {
      "_model_module": "@jupyter-widgets/controls",
      "_model_module_version": "1.5.0",
      "_model_name": "DescriptionStyleModel",
      "_view_count": null,
      "_view_module": "@jupyter-widgets/base",
      "_view_module_version": "1.2.0",
      "_view_name": "StyleView",
      "description_width": ""
     }
    },
    "d356dafa83d74f099817f53f0c8fbc68": {
     "model_module": "@jupyter-widgets/controls",
     "model_module_version": "1.5.0",
     "model_name": "DescriptionStyleModel",
     "state": {
      "_model_module": "@jupyter-widgets/controls",
      "_model_module_version": "1.5.0",
      "_model_name": "DescriptionStyleModel",
      "_view_count": null,
      "_view_module": "@jupyter-widgets/base",
      "_view_module_version": "1.2.0",
      "_view_name": "StyleView",
      "description_width": ""
     }
    },
    "d3803a2a63a9456da9fea507217cf425": {
     "model_module": "@jupyter-widgets/base",
     "model_module_version": "1.2.0",
     "model_name": "LayoutModel",
     "state": {
      "_model_module": "@jupyter-widgets/base",
      "_model_module_version": "1.2.0",
      "_model_name": "LayoutModel",
      "_view_count": null,
      "_view_module": "@jupyter-widgets/base",
      "_view_module_version": "1.2.0",
      "_view_name": "LayoutView",
      "align_content": null,
      "align_items": null,
      "align_self": null,
      "border": null,
      "bottom": null,
      "display": null,
      "flex": null,
      "flex_flow": null,
      "grid_area": null,
      "grid_auto_columns": null,
      "grid_auto_flow": null,
      "grid_auto_rows": null,
      "grid_column": null,
      "grid_gap": null,
      "grid_row": null,
      "grid_template_areas": null,
      "grid_template_columns": null,
      "grid_template_rows": null,
      "height": null,
      "justify_content": null,
      "justify_items": null,
      "left": null,
      "margin": null,
      "max_height": null,
      "max_width": null,
      "min_height": null,
      "min_width": null,
      "object_fit": null,
      "object_position": null,
      "order": null,
      "overflow": null,
      "overflow_x": null,
      "overflow_y": null,
      "padding": null,
      "right": null,
      "top": null,
      "visibility": null,
      "width": null
     }
    },
    "d94f107a82e5430481c36f59d1a0f506": {
     "model_module": "@jupyter-widgets/base",
     "model_module_version": "1.2.0",
     "model_name": "LayoutModel",
     "state": {
      "_model_module": "@jupyter-widgets/base",
      "_model_module_version": "1.2.0",
      "_model_name": "LayoutModel",
      "_view_count": null,
      "_view_module": "@jupyter-widgets/base",
      "_view_module_version": "1.2.0",
      "_view_name": "LayoutView",
      "align_content": null,
      "align_items": null,
      "align_self": null,
      "border": null,
      "bottom": null,
      "display": null,
      "flex": null,
      "flex_flow": null,
      "grid_area": null,
      "grid_auto_columns": null,
      "grid_auto_flow": null,
      "grid_auto_rows": null,
      "grid_column": null,
      "grid_gap": null,
      "grid_row": null,
      "grid_template_areas": null,
      "grid_template_columns": null,
      "grid_template_rows": null,
      "height": null,
      "justify_content": null,
      "justify_items": null,
      "left": null,
      "margin": null,
      "max_height": null,
      "max_width": null,
      "min_height": null,
      "min_width": null,
      "object_fit": null,
      "object_position": null,
      "order": null,
      "overflow": null,
      "overflow_x": null,
      "overflow_y": null,
      "padding": null,
      "right": null,
      "top": null,
      "visibility": null,
      "width": null
     }
    },
    "e05ebdfabbcd4f39a0887e44576b1624": {
     "model_module": "@jupyter-widgets/controls",
     "model_module_version": "1.5.0",
     "model_name": "ProgressStyleModel",
     "state": {
      "_model_module": "@jupyter-widgets/controls",
      "_model_module_version": "1.5.0",
      "_model_name": "ProgressStyleModel",
      "_view_count": null,
      "_view_module": "@jupyter-widgets/base",
      "_view_module_version": "1.2.0",
      "_view_name": "StyleView",
      "bar_color": null,
      "description_width": ""
     }
    },
    "e1c395cca89d4079a4d41e383bbee7bb": {
     "model_module": "@jupyter-widgets/controls",
     "model_module_version": "1.5.0",
     "model_name": "HTMLModel",
     "state": {
      "_dom_classes": [],
      "_model_module": "@jupyter-widgets/controls",
      "_model_module_version": "1.5.0",
      "_model_name": "HTMLModel",
      "_view_count": null,
      "_view_module": "@jupyter-widgets/controls",
      "_view_module_version": "1.5.0",
      "_view_name": "HTMLView",
      "description": "",
      "description_tooltip": null,
      "layout": "IPY_MODEL_b743c841f40b4c18a38545a7507ff7f0",
      "placeholder": "​",
      "style": "IPY_MODEL_3bd33b3e1b1e425091a73b711163cd23",
      "value": "tokenizer.json: 100%"
     }
    },
    "e3b79ddae8e94dbf99b39c527f02b01f": {
     "model_module": "@jupyter-widgets/controls",
     "model_module_version": "1.5.0",
     "model_name": "HBoxModel",
     "state": {
      "_dom_classes": [],
      "_model_module": "@jupyter-widgets/controls",
      "_model_module_version": "1.5.0",
      "_model_name": "HBoxModel",
      "_view_count": null,
      "_view_module": "@jupyter-widgets/controls",
      "_view_module_version": "1.5.0",
      "_view_name": "HBoxView",
      "box_style": "",
      "children": [
       "IPY_MODEL_e1c395cca89d4079a4d41e383bbee7bb",
       "IPY_MODEL_7b09de4a935346868a4f544fb7e047d4",
       "IPY_MODEL_64e1d987382e486ab84a3afb672d690b"
      ],
      "layout": "IPY_MODEL_cbd887df91d84f33b18cf5c8d1bb294f"
     }
    },
    "e4134e0d83444c9b9d0aa51bd6e275aa": {
     "model_module": "@jupyter-widgets/base",
     "model_module_version": "1.2.0",
     "model_name": "LayoutModel",
     "state": {
      "_model_module": "@jupyter-widgets/base",
      "_model_module_version": "1.2.0",
      "_model_name": "LayoutModel",
      "_view_count": null,
      "_view_module": "@jupyter-widgets/base",
      "_view_module_version": "1.2.0",
      "_view_name": "LayoutView",
      "align_content": null,
      "align_items": null,
      "align_self": null,
      "border": null,
      "bottom": null,
      "display": null,
      "flex": null,
      "flex_flow": null,
      "grid_area": null,
      "grid_auto_columns": null,
      "grid_auto_flow": null,
      "grid_auto_rows": null,
      "grid_column": null,
      "grid_gap": null,
      "grid_row": null,
      "grid_template_areas": null,
      "grid_template_columns": null,
      "grid_template_rows": null,
      "height": null,
      "justify_content": null,
      "justify_items": null,
      "left": null,
      "margin": null,
      "max_height": null,
      "max_width": null,
      "min_height": null,
      "min_width": null,
      "object_fit": null,
      "object_position": null,
      "order": null,
      "overflow": null,
      "overflow_x": null,
      "overflow_y": null,
      "padding": null,
      "right": null,
      "top": null,
      "visibility": null,
      "width": null
     }
    },
    "e4aac0c7351c418585f1195dc6e4e7ed": {
     "model_module": "@jupyter-widgets/base",
     "model_module_version": "1.2.0",
     "model_name": "LayoutModel",
     "state": {
      "_model_module": "@jupyter-widgets/base",
      "_model_module_version": "1.2.0",
      "_model_name": "LayoutModel",
      "_view_count": null,
      "_view_module": "@jupyter-widgets/base",
      "_view_module_version": "1.2.0",
      "_view_name": "LayoutView",
      "align_content": null,
      "align_items": null,
      "align_self": null,
      "border": null,
      "bottom": null,
      "display": null,
      "flex": null,
      "flex_flow": null,
      "grid_area": null,
      "grid_auto_columns": null,
      "grid_auto_flow": null,
      "grid_auto_rows": null,
      "grid_column": null,
      "grid_gap": null,
      "grid_row": null,
      "grid_template_areas": null,
      "grid_template_columns": null,
      "grid_template_rows": null,
      "height": null,
      "justify_content": null,
      "justify_items": null,
      "left": null,
      "margin": null,
      "max_height": null,
      "max_width": null,
      "min_height": null,
      "min_width": null,
      "object_fit": null,
      "object_position": null,
      "order": null,
      "overflow": null,
      "overflow_x": null,
      "overflow_y": null,
      "padding": null,
      "right": null,
      "top": null,
      "visibility": null,
      "width": null
     }
    },
    "e72da7bdc2fd4ecbb5b7d6c30fda482c": {
     "model_module": "@jupyter-widgets/base",
     "model_module_version": "1.2.0",
     "model_name": "LayoutModel",
     "state": {
      "_model_module": "@jupyter-widgets/base",
      "_model_module_version": "1.2.0",
      "_model_name": "LayoutModel",
      "_view_count": null,
      "_view_module": "@jupyter-widgets/base",
      "_view_module_version": "1.2.0",
      "_view_name": "LayoutView",
      "align_content": null,
      "align_items": null,
      "align_self": null,
      "border": null,
      "bottom": null,
      "display": null,
      "flex": null,
      "flex_flow": null,
      "grid_area": null,
      "grid_auto_columns": null,
      "grid_auto_flow": null,
      "grid_auto_rows": null,
      "grid_column": null,
      "grid_gap": null,
      "grid_row": null,
      "grid_template_areas": null,
      "grid_template_columns": null,
      "grid_template_rows": null,
      "height": null,
      "justify_content": null,
      "justify_items": null,
      "left": null,
      "margin": null,
      "max_height": null,
      "max_width": null,
      "min_height": null,
      "min_width": null,
      "object_fit": null,
      "object_position": null,
      "order": null,
      "overflow": null,
      "overflow_x": null,
      "overflow_y": null,
      "padding": null,
      "right": null,
      "top": null,
      "visibility": null,
      "width": null
     }
    },
    "eada1fb8dd66489099dc8a040b4451b9": {
     "model_module": "@jupyter-widgets/base",
     "model_module_version": "1.2.0",
     "model_name": "LayoutModel",
     "state": {
      "_model_module": "@jupyter-widgets/base",
      "_model_module_version": "1.2.0",
      "_model_name": "LayoutModel",
      "_view_count": null,
      "_view_module": "@jupyter-widgets/base",
      "_view_module_version": "1.2.0",
      "_view_name": "LayoutView",
      "align_content": null,
      "align_items": null,
      "align_self": null,
      "border": null,
      "bottom": null,
      "display": null,
      "flex": null,
      "flex_flow": null,
      "grid_area": null,
      "grid_auto_columns": null,
      "grid_auto_flow": null,
      "grid_auto_rows": null,
      "grid_column": null,
      "grid_gap": null,
      "grid_row": null,
      "grid_template_areas": null,
      "grid_template_columns": null,
      "grid_template_rows": null,
      "height": null,
      "justify_content": null,
      "justify_items": null,
      "left": null,
      "margin": null,
      "max_height": null,
      "max_width": null,
      "min_height": null,
      "min_width": null,
      "object_fit": null,
      "object_position": null,
      "order": null,
      "overflow": null,
      "overflow_x": null,
      "overflow_y": null,
      "padding": null,
      "right": null,
      "top": null,
      "visibility": null,
      "width": null
     }
    },
    "ed830f8e9b174c1cab3df9719470c5ae": {
     "model_module": "@jupyter-widgets/controls",
     "model_module_version": "1.5.0",
     "model_name": "DescriptionStyleModel",
     "state": {
      "_model_module": "@jupyter-widgets/controls",
      "_model_module_version": "1.5.0",
      "_model_name": "DescriptionStyleModel",
      "_view_count": null,
      "_view_module": "@jupyter-widgets/base",
      "_view_module_version": "1.2.0",
      "_view_name": "StyleView",
      "description_width": ""
     }
    },
    "ef29430adf024bc1845895c03a2b4bda": {
     "model_module": "@jupyter-widgets/controls",
     "model_module_version": "1.5.0",
     "model_name": "FloatProgressModel",
     "state": {
      "_dom_classes": [],
      "_model_module": "@jupyter-widgets/controls",
      "_model_module_version": "1.5.0",
      "_model_name": "FloatProgressModel",
      "_view_count": null,
      "_view_module": "@jupyter-widgets/controls",
      "_view_module_version": "1.5.0",
      "_view_name": "ProgressView",
      "bar_style": "success",
      "description": "",
      "description_tooltip": null,
      "layout": "IPY_MODEL_4cb3ac050773448ca156cee4f685d504",
      "max": 2000,
      "min": 0,
      "orientation": "horizontal",
      "style": "IPY_MODEL_4ec66f9d2e9249a2b9dff76fe1d027a7",
      "value": 2000
     }
    },
    "f1df8b4fcc684f769027bdd7526b202e": {
     "model_module": "@jupyter-widgets/base",
     "model_module_version": "1.2.0",
     "model_name": "LayoutModel",
     "state": {
      "_model_module": "@jupyter-widgets/base",
      "_model_module_version": "1.2.0",
      "_model_name": "LayoutModel",
      "_view_count": null,
      "_view_module": "@jupyter-widgets/base",
      "_view_module_version": "1.2.0",
      "_view_name": "LayoutView",
      "align_content": null,
      "align_items": null,
      "align_self": null,
      "border": null,
      "bottom": null,
      "display": null,
      "flex": null,
      "flex_flow": null,
      "grid_area": null,
      "grid_auto_columns": null,
      "grid_auto_flow": null,
      "grid_auto_rows": null,
      "grid_column": null,
      "grid_gap": null,
      "grid_row": null,
      "grid_template_areas": null,
      "grid_template_columns": null,
      "grid_template_rows": null,
      "height": null,
      "justify_content": null,
      "justify_items": null,
      "left": null,
      "margin": null,
      "max_height": null,
      "max_width": null,
      "min_height": null,
      "min_width": null,
      "object_fit": null,
      "object_position": null,
      "order": null,
      "overflow": null,
      "overflow_x": null,
      "overflow_y": null,
      "padding": null,
      "right": null,
      "top": null,
      "visibility": null,
      "width": null
     }
    },
    "f444e230367f4d3a8a3b078be76bb390": {
     "model_module": "@jupyter-widgets/controls",
     "model_module_version": "1.5.0",
     "model_name": "HTMLModel",
     "state": {
      "_dom_classes": [],
      "_model_module": "@jupyter-widgets/controls",
      "_model_module_version": "1.5.0",
      "_model_name": "HTMLModel",
      "_view_count": null,
      "_view_module": "@jupyter-widgets/controls",
      "_view_module_version": "1.5.0",
      "_view_name": "HTMLView",
      "description": "",
      "description_tooltip": null,
      "layout": "IPY_MODEL_7630fb58bf3e42d6b48a5f87fe1065cc",
      "placeholder": "​",
      "style": "IPY_MODEL_1db54a064f3c4fef8624443931f60b11",
      "value": "vocab.txt: 100%"
     }
    },
    "f561605e61c94dcf9dd30f99d1202257": {
     "model_module": "@jupyter-widgets/controls",
     "model_module_version": "1.5.0",
     "model_name": "HTMLModel",
     "state": {
      "_dom_classes": [],
      "_model_module": "@jupyter-widgets/controls",
      "_model_module_version": "1.5.0",
      "_model_name": "HTMLModel",
      "_view_count": null,
      "_view_module": "@jupyter-widgets/controls",
      "_view_module_version": "1.5.0",
      "_view_name": "HTMLView",
      "description": "",
      "description_tooltip": null,
      "layout": "IPY_MODEL_9db3a4408d7c42cda76bc80200fb1fc3",
      "placeholder": "​",
      "style": "IPY_MODEL_7f2631fde5d242cfa8943a78837de23b",
      "value": " 8000/8000 [00:37&lt;00:00, 207.97 examples/s]"
     }
    },
    "f66e666da5684404b86d3f775343521b": {
     "model_module": "@jupyter-widgets/controls",
     "model_module_version": "1.5.0",
     "model_name": "HBoxModel",
     "state": {
      "_dom_classes": [],
      "_model_module": "@jupyter-widgets/controls",
      "_model_module_version": "1.5.0",
      "_model_name": "HBoxModel",
      "_view_count": null,
      "_view_module": "@jupyter-widgets/controls",
      "_view_module_version": "1.5.0",
      "_view_name": "HBoxView",
      "box_style": "",
      "children": [
       "IPY_MODEL_8aefdd671bbb42baafc606e9f92e5557",
       "IPY_MODEL_63ce0450c301471b8fac0962e72536e5",
       "IPY_MODEL_5a6b22ecabc34381828faeaad6bc2454"
      ],
      "layout": "IPY_MODEL_8bceb62de14b4a078d3309ebc3ca3cdd"
     }
    },
    "f803fc898a334aedb54a8375f2aad856": {
     "model_module": "@jupyter-widgets/controls",
     "model_module_version": "1.5.0",
     "model_name": "HBoxModel",
     "state": {
      "_dom_classes": [],
      "_model_module": "@jupyter-widgets/controls",
      "_model_module_version": "1.5.0",
      "_model_name": "HBoxModel",
      "_view_count": null,
      "_view_module": "@jupyter-widgets/controls",
      "_view_module_version": "1.5.0",
      "_view_name": "HBoxView",
      "box_style": "",
      "children": [
       "IPY_MODEL_54708878c154416aa5305956a0e2b215",
       "IPY_MODEL_bb23bf25236c474abd592c3e5b54e518",
       "IPY_MODEL_09fdc9ade5014a838c5af7101fd9e513"
      ],
      "layout": "IPY_MODEL_d94f107a82e5430481c36f59d1a0f506"
     }
    },
    "f89c0b6c4ee34dd9bb87429287f6006d": {
     "model_module": "@jupyter-widgets/controls",
     "model_module_version": "1.5.0",
     "model_name": "FloatProgressModel",
     "state": {
      "_dom_classes": [],
      "_model_module": "@jupyter-widgets/controls",
      "_model_module_version": "1.5.0",
      "_model_name": "FloatProgressModel",
      "_view_count": null,
      "_view_module": "@jupyter-widgets/controls",
      "_view_module_version": "1.5.0",
      "_view_name": "ProgressView",
      "bar_style": "success",
      "description": "",
      "description_tooltip": null,
      "layout": "IPY_MODEL_75fb03eefa7f49aaaf63dc2db7704aaa",
      "max": 8000,
      "min": 0,
      "orientation": "horizontal",
      "style": "IPY_MODEL_556056e52719488393ce1dfdda856f02",
      "value": 8000
     }
    },
    "fa7306804d6b453c95c85718598f2a7c": {
     "model_module": "@jupyter-widgets/controls",
     "model_module_version": "1.5.0",
     "model_name": "ProgressStyleModel",
     "state": {
      "_model_module": "@jupyter-widgets/controls",
      "_model_module_version": "1.5.0",
      "_model_name": "ProgressStyleModel",
      "_view_count": null,
      "_view_module": "@jupyter-widgets/base",
      "_view_module_version": "1.2.0",
      "_view_name": "StyleView",
      "bar_color": null,
      "description_width": ""
     }
    },
    "fe2316faf2754bd9845d900c88284f2a": {
     "model_module": "@jupyter-widgets/controls",
     "model_module_version": "1.5.0",
     "model_name": "HTMLModel",
     "state": {
      "_dom_classes": [],
      "_model_module": "@jupyter-widgets/controls",
      "_model_module_version": "1.5.0",
      "_model_name": "HTMLModel",
      "_view_count": null,
      "_view_module": "@jupyter-widgets/controls",
      "_view_module_version": "1.5.0",
      "_view_name": "HTMLView",
      "description": "",
      "description_tooltip": null,
      "layout": "IPY_MODEL_90d22b98264a46919379fae677a9b335",
      "placeholder": "​",
      "style": "IPY_MODEL_2122b0f5124d444d81861d4e2a5460ca",
      "value": " 996k/996k [00:00&lt;00:00, 13.6MB/s]"
     }
    }
   }
  }
 },
 "nbformat": 4,
 "nbformat_minor": 5
}
