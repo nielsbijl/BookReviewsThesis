{
 "cells": [
  {
   "cell_type": "code",
   "execution_count": null,
   "id": "initial_id",
   "metadata": {},
   "outputs": [],
   "source": [
    "import numpy as np\n",
    "import pandas as pd\n",
    "from tqdm import tqdm\n",
    "import json"
   ]
  },
  {
   "cell_type": "code",
   "execution_count": null,
   "id": "c8b98931-18af-4b2e-a2c3-e4de622f4fa8",
   "metadata": {},
   "outputs": [],
   "source": [
    "def get_csv(file_path):\n",
    "    return pd.read_csv(file_path, delimiter=';').drop(columns=['Unnamed: 0'])\n",
    "\n",
    "def load_dataframes(base_path, file_prefix, start_year, end_year):\n",
    "    dataframes = []\n",
    "    for year in tqdm(range(start_year, end_year + 1)):\n",
    "        file_path = f\"{base_path}/{file_prefix}_{year}.csv\"\n",
    "        df = get_csv(file_path)\n",
    "        dataframes.append(df)\n",
    "    return pd.concat(dataframes, ignore_index=True)\n",
    "\n",
    "base_path = \"D:/UU/Kranten\"\n",
    "\n",
    "# Load dataframes for each newspaper\n",
    "parool_df = load_dataframes(base_path, \"Parool\", 1945, 1995)\n",
    "trouw_df = load_dataframes(base_path, \"Trouw\", 1946, 1995)\n",
    "ld_df = load_dataframes(base_path, \"LimburgsDagblad\", 1945, 1994)\n",
    "ac_df = load_dataframes(base_path, \"AmigoeCuracao\", 1946, 1995)"
   ]
  },
  {
   "cell_type": "code",
   "execution_count": null,
   "id": "494cf430-d2e9-4895-b479-f8e3b61816f3",
   "metadata": {},
   "outputs": [],
   "source": [
    "# Merge all dataframes into one big dataframe\n",
    "all_news_df = pd.concat([parool_df, trouw_df, ld_df, ac_df], ignore_index=True)"
   ]
  },
  {
   "cell_type": "code",
   "execution_count": null,
   "id": "2e242015-a172-47f9-a298-7eea2c815d9d",
   "metadata": {},
   "outputs": [],
   "source": [
    "# Clean up RAM\n",
    "del parool_df, trouw_df, ld_df, ac_df"
   ]
  },
  {
   "cell_type": "code",
   "execution_count": null,
   "id": "77aabece-4748-43b1-bb0e-59fc4c380f68",
   "metadata": {},
   "outputs": [],
   "source": [
    "all_news_df.newspaper.unique()"
   ]
  },
  {
   "cell_type": "code",
   "execution_count": null,
   "id": "735c04e0-abea-450e-8e85-15bd5aeabdcd",
   "metadata": {},
   "outputs": [],
   "source": [
    "all_news_df.genre.unique()"
   ]
  },
  {
   "cell_type": "code",
   "execution_count": null,
   "id": "e83246ca-67dd-4e33-9b55-6e5e54dec4ae",
   "metadata": {},
   "outputs": [],
   "source": [
    "all_news_df = all_news_df[all_news_df['genre'] == 'artikel']"
   ]
  },
  {
   "cell_type": "code",
   "execution_count": null,
   "id": "5ade3c41-40b1-4591-a451-46e648d8167f",
   "metadata": {},
   "outputs": [],
   "source": [
    "def check_for_book_review(text):\n",
    "    if \"blz\" in str(text).lower(): \n",
    "        if 'ƒ' in str(text).lower():\n",
    "            if 'isbn' in str(text).lower():\n",
    "                return True\n",
    "    return False\n",
    "\n",
    "# Initialize the tqdm progress bar\n",
    "tqdm.pandas()\n",
    "\n",
    "# Apply the function to the 'Content' column with a progress bar and create a new column 'contains_book_review'\n",
    "all_news_df['contains_book_review'] = all_news_df['Content'].progress_apply(check_for_book_review)"
   ]
  },
  {
   "cell_type": "code",
   "execution_count": null,
   "id": "604d481e-6099-4442-9682-4899a71bf148",
   "metadata": {},
   "outputs": [],
   "source": [
    "len(all_news_df[all_news_df['contains_book_review'] == 1])"
   ]
  },
  {
   "cell_type": "code",
   "execution_count": null,
   "id": "af21f103-76bb-41d1-bd19-2680533070fc",
   "metadata": {},
   "outputs": [],
   "source": [
    "all_news_df[all_news_df['contains_book_review'] == 1].groupby('newspaper').size()"
   ]
  },
  {
   "cell_type": "code",
   "execution_count": null,
   "id": "38499889-b114-413c-b0ed-ca83d8024dd2",
   "metadata": {},
   "outputs": [],
   "source": [
    "# Show example\n",
    "all_news_df[all_news_df['contains_book_review'] == 1].iloc[0].Content"
   ]
  },
  {
   "cell_type": "code",
   "execution_count": null,
   "id": "1b505760-a4f8-460e-9f1a-541f858d4112",
   "metadata": {},
   "outputs": [],
   "source": [
    "# Filter the dataframe\n",
    "filtered_parool_df = all_news_df[(all_news_df['contains_book_review'] == 1) & (all_news_df['newspaper'] == 'Parool')]\n",
    "filtered_trouw_df = all_news_df[(all_news_df['contains_book_review'] == 1) & (all_news_df['newspaper'] == 'Trouw')]"
   ]
  },
  {
   "cell_type": "code",
   "execution_count": null,
   "id": "aabe4f26-5ab1-465e-9d36-60c7730b3d06",
   "metadata": {},
   "outputs": [],
   "source": [
    "print(f\"Number of samples from Parool: {len(filtered_parool_df)}, from Trouw: {len(filtered_trouw_df)}\")"
   ]
  },
  {
   "cell_type": "code",
   "execution_count": null,
   "id": "51fed325-bed7-4d84-8448-bb0675442859",
   "metadata": {},
   "outputs": [],
   "source": [
    "# Prepare data for Label Studio\n",
    "reviews_parool = [{\"text\": text} for text in filtered_parool_df['Content'].to_list()]\n",
    "reviews_trouw = [{\"text\": text} for text in filtered_trouw_df['Content'].to_list()]\n",
    "\n",
    "\n",
    "# Save data to a JSON file\n",
    "with open('D:/UU/parool_sampled_reviews.json', 'w') as f:\n",
    "    json.dump(reviews_parool, f, indent=2)\n",
    "with open('D:/UU/trouw_sampled_reviews.json', 'w') as f:\n",
    "    json.dump(reviews_trouw, f, indent=2)"
   ]
  }
 ],
 "metadata": {
  "kernelspec": {
   "display_name": "Python 3 (ipykernel)",
   "language": "python",
   "name": "python3"
  },
  "language_info": {
   "codemirror_mode": {
    "name": "ipython",
    "version": 3
   },
   "file_extension": ".py",
   "mimetype": "text/x-python",
   "name": "python",
   "nbconvert_exporter": "python",
   "pygments_lexer": "ipython3",
   "version": "3.8.19"
  }
 },
 "nbformat": 4,
 "nbformat_minor": 5
}
